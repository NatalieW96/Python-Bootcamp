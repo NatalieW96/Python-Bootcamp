{
 "cells": [
  {
   "cell_type": "markdown",
   "id": "558cd0a6",
   "metadata": {},
   "source": [
    "# Practical Session 2 Bonus: Advanced Python Basics"
   ]
  },
  {
   "cell_type": "markdown",
   "id": "47f99c53",
   "metadata": {},
   "source": [
    "While we don't introduce any new concepts here, here are a set of more challenging exersies using the techinques covered in session 2."
   ]
  },
  {
   "cell_type": "markdown",
   "id": "23751ae3",
   "metadata": {},
   "source": [
    "#### 1. What type is that?"
   ]
  },
  {
   "cell_type": "markdown",
   "id": "199c8da5",
   "metadata": {},
   "source": [
    "Create variables a, b and c such that:\n",
    "- `a + b == c` returns `True`\n",
    "- `a`, `b` and `c` are all different data types \n",
    "\n",
    "Print all three values and their types"
   ]
  },
  {
   "cell_type": "code",
   "execution_count": null,
   "id": "04cc9ec6",
   "metadata": {},
   "outputs": [],
   "source": []
  },
  {
   "cell_type": "markdown",
   "id": "f5205092",
   "metadata": {},
   "source": [
    "#### 2. String swapping"
   ]
  },
  {
   "cell_type": "markdown",
   "id": "055fec17",
   "metadata": {},
   "source": [
    "You are given two strings:"
   ]
  },
  {
   "cell_type": "code",
   "execution_count": null,
   "id": "b58a4af3",
   "metadata": {},
   "outputs": [],
   "source": [
    "a = 'physics'\n",
    "b = 'quantum'"
   ]
  },
  {
   "cell_type": "markdown",
   "id": "74d52b4b",
   "metadata": {},
   "source": [
    "Use only slicing and concatenation to create the output `quantumics phys`"
   ]
  },
  {
   "cell_type": "code",
   "execution_count": null,
   "id": "56de7efb",
   "metadata": {},
   "outputs": [],
   "source": []
  },
  {
   "cell_type": "markdown",
   "id": "cf5b7b65",
   "metadata": {},
   "source": [
    "#### 3. Scientific notation formatting"
   ]
  },
  {
   "cell_type": "markdown",
   "id": "0ca988ca",
   "metadata": {},
   "source": [
    "Define the speed of light, Planck's constant and the gravitational constant. Use f-strings to print a summary of each one in decimal notation to one decimal place, and in scientific notation (use `e` instead of `f` to give number of significant figures in scientific notation) to 3 significant figures"
   ]
  },
  {
   "cell_type": "code",
   "execution_count": null,
   "id": "22a8ec79",
   "metadata": {},
   "outputs": [],
   "source": []
  },
  {
   "cell_type": "markdown",
   "id": "1da15651",
   "metadata": {},
   "source": [
    "#### 4. ASCII codes"
   ]
  },
  {
   "cell_type": "markdown",
   "id": "a7143063",
   "metadata": {},
   "source": [
    "Behind the scenes, every character in a string — like a letter, number, or symbol — is stored as a number. These numbers come from a system called ASCII (American Standard Code for Information Interchange).\n",
    "\n",
    "For example:\n",
    "- `A` is stored as the number `65`\n",
    "- `a` is stored as `97`\n",
    "- `' '` (space) is stored as `32`\n",
    "\n",
    "Python gives us two built-in functions to move between characters and their numeric representations:\n",
    "- `ord(char)` returns the ASCII code of a character"
   ]
  },
  {
   "cell_type": "code",
   "execution_count": 3,
   "id": "eb56d34f",
   "metadata": {},
   "outputs": [
    {
     "data": {
      "text/plain": [
       "66"
      ]
     },
     "execution_count": 3,
     "metadata": {},
     "output_type": "execute_result"
    }
   ],
   "source": [
    "ord('B')"
   ]
  },
  {
   "cell_type": "markdown",
   "id": "aa92864c",
   "metadata": {},
   "source": [
    "- `chr(num)` returns the character from a number"
   ]
  },
  {
   "cell_type": "code",
   "execution_count": 4,
   "id": "a4ba2139",
   "metadata": {},
   "outputs": [
    {
     "data": {
      "text/plain": [
       "'B'"
      ]
     },
     "execution_count": 4,
     "metadata": {},
     "output_type": "execute_result"
    }
   ],
   "source": [
    "chr(66)"
   ]
  },
  {
   "cell_type": "markdown",
   "id": "28e3ab2a",
   "metadata": {},
   "source": [
    "You care given this encoded message:"
   ]
  },
  {
   "cell_type": "code",
   "execution_count": 5,
   "id": "46810a4b",
   "metadata": {},
   "outputs": [],
   "source": [
    "code = [84, 104, 105, 115, 32, 105, 115, 32, 102, 117, 110]"
   ]
  },
  {
   "cell_type": "markdown",
   "id": "bb71bd75",
   "metadata": {},
   "source": [
    "Decode this message and combine the letters into a single string"
   ]
  },
  {
   "cell_type": "code",
   "execution_count": null,
   "id": "08593a03",
   "metadata": {},
   "outputs": [],
   "source": []
  },
  {
   "cell_type": "markdown",
   "id": "77592b01",
   "metadata": {},
   "source": [
    "#### 5. Split and join"
   ]
  },
  {
   "cell_type": "markdown",
   "id": "f28383ff",
   "metadata": {},
   "source": [
    "Ask the user for a multi word sentence. Then split that sentence into words, and join them back together (use function `join()`) with a different seperator character the user has specified (e.g. `*`, `:`, `&` etc)"
   ]
  },
  {
   "cell_type": "markdown",
   "id": "b74db0ca",
   "metadata": {},
   "source": []
  },
  {
   "cell_type": "markdown",
   "id": "587717fd",
   "metadata": {},
   "source": [
    "#### 6. Password management"
   ]
  },
  {
   "cell_type": "markdown",
   "id": "d0be0e51",
   "metadata": {},
   "source": [
    "Ask the user for a username and password, then manipulat the password so that only the first and last letters are shown with all letters in between as `*`. Then print a formatted message such as `Welcome, natalie. Your password is j*******n`"
   ]
  },
  {
   "cell_type": "code",
   "execution_count": null,
   "id": "a22dcfc5",
   "metadata": {},
   "outputs": [],
   "source": []
  },
  {
   "cell_type": "markdown",
   "id": "c7364c76",
   "metadata": {},
   "source": [
    "#### 7. Calculation tasks"
   ]
  },
  {
   "cell_type": "markdown",
   "id": "a20de144",
   "metadata": {},
   "source": [
    "Given a mass and velocity from user input, calculate and return the kinetic energy $KE= \\frac{1}{2}mv^2$"
   ]
  },
  {
   "cell_type": "code",
   "execution_count": null,
   "id": "8e124d7c",
   "metadata": {},
   "outputs": [],
   "source": []
  },
  {
   "cell_type": "markdown",
   "id": "11e3cfd1",
   "metadata": {},
   "source": [
    "Calculate escape velocity from a planet $v_e = \\sqrt{\\frac{2GM}{R}}$ where the user gives the planet mass and radius. Print velocity in km/s with 3 decimals.\n",
    "​"
   ]
  },
  {
   "cell_type": "code",
   "execution_count": null,
   "id": "39121b73",
   "metadata": {},
   "outputs": [],
   "source": []
  },
  {
   "cell_type": "markdown",
   "id": "f8fd90d5",
   "metadata": {},
   "source": [
    "A spaceship travels at speed $v$ as a fraction of the speed of light $c$. The time dilation factor $\\gamma$ is given by\n",
    "$$\n",
    "\\gamma = \\frac{1}{\\sqrt{1-\\frac{v^2}{c^2}}}\n",
    "$$\n",
    "Given the time interval measured on the spaceship t_0 (proper time), clculate the time interval $t$ observed from Earth $t = \\gamma t_0$\n",
    "\n",
    "Input the speed $v$ as a decimal fraction of $c$ (e.g., 0.9 for 90% of the speed of light). Use an f-string to output the answer with appropriate decimal places.\n",
    "\n"
   ]
  },
  {
   "cell_type": "code",
   "execution_count": null,
   "id": "de1ec9fb",
   "metadata": {},
   "outputs": [],
   "source": []
  },
  {
   "cell_type": "markdown",
   "id": "4e44a71d",
   "metadata": {},
   "source": [
    "#### 8. Wrap around using modulus"
   ]
  },
  {
   "cell_type": "markdown",
   "id": "7edd5a0b",
   "metadata": {},
   "source": [
    "Write a program that:\n",
    "\n",
    "1. Asks the user to enter the current hour on a 12-hour clock (0 to 11).\n",
    "\n",
    "2. Asks the user how many hours to add (can be positive or negative).\n",
    "\n",
    "3. Calculates and prints the new hour after adding, correctly wrapping around the clock using modulus %."
   ]
  },
  {
   "cell_type": "code",
   "execution_count": null,
   "id": "5eb7c644",
   "metadata": {},
   "outputs": [],
   "source": []
  },
  {
   "cell_type": "markdown",
   "id": "99d87069",
   "metadata": {},
   "source": [
    "#### 9. Secret Message"
   ]
  },
  {
   "cell_type": "markdown",
   "id": "33542eb3",
   "metadata": {},
   "source": [
    "You're given the following encrypted string:"
   ]
  },
  {
   "cell_type": "code",
   "execution_count": null,
   "id": "3fba54ea",
   "metadata": {},
   "outputs": [],
   "source": [
    "cipher = \"ifqq~tqi\""
   ]
  },
  {
   "cell_type": "markdown",
   "id": "b874c747",
   "metadata": {},
   "source": [
    "The message has been encrypted in multiple layers:\n",
    "\n",
    "1. Taking every second character starting from index 0.\n",
    "\n",
    "2. Reverse the result.\n",
    "\n",
    "3. Replacing `~` with a space\n",
    "\n",
    "4. Shifting each letter 5 places backward in the alphabet (wrapping from `a` back to `v`)\n",
    "\n",
    "Join the characters into a final message."
   ]
  },
  {
   "cell_type": "code",
   "execution_count": null,
   "id": "46acf9d6",
   "metadata": {},
   "outputs": [],
   "source": []
  },
  {
   "cell_type": "markdown",
   "id": "fe2086c4",
   "metadata": {},
   "source": []
  }
 ],
 "metadata": {
  "kernelspec": {
   "display_name": "testing_URs",
   "language": "python",
   "name": "testing_urs"
  },
  "language_info": {
   "codemirror_mode": {
    "name": "ipython",
    "version": 3
   },
   "file_extension": ".py",
   "mimetype": "text/x-python",
   "name": "python",
   "nbconvert_exporter": "python",
   "pygments_lexer": "ipython3",
   "version": "3.12.2"
  }
 },
 "nbformat": 4,
 "nbformat_minor": 5
}
