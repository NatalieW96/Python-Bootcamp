{
 "cells": [
  {
   "cell_type": "markdown",
   "id": "542a11fe",
   "metadata": {},
   "source": [
    "# Practical Session 5: Functions"
   ]
  },
  {
   "cell_type": "markdown",
   "id": "0bcef850",
   "metadata": {},
   "source": [
    "### 1. Function basics\n",
    "\n",
    "Define a function `area_circle` that returns the area of a circle from a radius"
   ]
  },
  {
   "cell_type": "code",
   "execution_count": null,
   "id": "264d15d9",
   "metadata": {},
   "outputs": [],
   "source": []
  },
  {
   "cell_type": "markdown",
   "id": "1f4bd750",
   "metadata": {},
   "source": [
    "Define a function `fahrenheit_to_celsius(temp)` that converts from Fahrenheit to Celsius"
   ]
  },
  {
   "cell_type": "code",
   "execution_count": null,
   "id": "878056ba",
   "metadata": {},
   "outputs": [],
   "source": []
  },
  {
   "cell_type": "markdown",
   "id": "5f856026",
   "metadata": {},
   "source": [
    "Define a function `greet_multiple(name1, name2)` that prints:\n",
    "```python\n",
    "Hello, name1 and name2!\n",
    "```\n"
   ]
  },
  {
   "cell_type": "code",
   "execution_count": null,
   "id": "45fe1b1e",
   "metadata": {},
   "outputs": [],
   "source": []
  },
  {
   "cell_type": "markdown",
   "id": "2b99aa3a",
   "metadata": {},
   "source": [
    "### 2. Keyword and default parameters"
   ]
  },
  {
   "cell_type": "markdown",
   "id": "149f49c2",
   "metadata": {},
   "source": [
    "Build a function `accretion_luminosity(M, Mdot, R)`, which returns the accretion luminosity onto a compact object:\n",
    "$$\n",
    "L=\\frac{GM\\dot{M}}{R}\n",
    "$$\n",
    "where $L$ is the luminosity, $G$ is the gravitational constant, $M$ is the mass of the compact object, $\\dot{M}$ is the accretion rate and $R$ is the radius of the compact object. Include an appropriate docstring which includes the inputs, outputs and purpose of the function. Test the function and print the docstring."
   ]
  },
  {
   "cell_type": "code",
   "execution_count": null,
   "id": "9a7ea23d",
   "metadata": {},
   "outputs": [],
   "source": []
  },
  {
   "cell_type": "markdown",
   "id": "c16fa98e",
   "metadata": {},
   "source": [
    "Now add a default keyword parameter `efficiency=1.0`, and modify the calculation to include efficiency"
   ]
  },
  {
   "cell_type": "code",
   "execution_count": null,
   "id": "d85e1c49",
   "metadata": {},
   "outputs": [],
   "source": []
  },
  {
   "cell_type": "markdown",
   "id": "634ba17f",
   "metadata": {},
   "source": [
    "Add a default flag `relativistic=False`, which is `True` applies the correction\n",
    "$$\n",
    "L\\rightarrow L \\bigg( 1-\\frac{2GM}{Rc^2}\\bigg)^{-1}"
   ]
  },
  {
   "cell_type": "code",
   "execution_count": null,
   "id": "f2d04078",
   "metadata": {},
   "outputs": [],
   "source": []
  },
  {
   "cell_type": "markdown",
   "id": "6dec1055",
   "metadata": {},
   "source": [
    "Add `*args` to allow for multiple accretion rates to be passed such as \n",
    "```python\n",
    "accretion_luminosity(M, *Mdot_values, R=R, efficiency=0.1)\n",
    "```\n",
    "Return a list of luminosities, one for each accretion rate."
   ]
  },
  {
   "cell_type": "code",
   "execution_count": null,
   "id": "c6049d12",
   "metadata": {},
   "outputs": [],
   "source": []
  },
  {
   "cell_type": "markdown",
   "id": "8c89314c",
   "metadata": {},
   "source": [
    "Add `**kwargs` to accept parameters in a dictionary e.g.\n",
    "```python\n",
    "bh = {\n",
    "    \"M\": 5e30,\n",
    "    \"Mdot\": 1e12,\n",
    "    \"R\": 1e4,\n",
    "    \"efficiency\": 0.1,\n",
    "    \"relativistic\": True\n",
    "}\n",
    "accretion_luminosity(**bh)\n",
    "```"
   ]
  },
  {
   "cell_type": "code",
   "execution_count": null,
   "id": "062baad7",
   "metadata": {},
   "outputs": [],
   "source": []
  },
  {
   "cell_type": "markdown",
   "id": "68d7e20e",
   "metadata": {},
   "source": [
    "### 3. Local and global variables"
   ]
  },
  {
   "cell_type": "markdown",
   "id": "e92fa62e",
   "metadata": {},
   "source": [
    "You're simulating the energy of a bouncing ball. You want to track the total elapsed simulation time and energy. You have global variables `energy` and `time`\n",
    "\n",
    "```python\n",
    "energy = 10.0   # initial energy in joules\n",
    "time = 0.0      # total time elapsed in seconds\n",
    "```\n",
    "\n",
    "You track energy and time with this function:\n",
    "```python\n",
    "def simulate_step(dt):\n",
    "    \"\"\"\n",
    "    Simulate a single time step.\n",
    "    \n",
    "    Parameters:\n",
    "        dt (float): duration of time step in seconds.\n",
    "    \"\"\"\n",
    "    time = time + dt\n",
    "    energy = energy - 0.5 * dt\n",
    "    print(f\"Time: {time:.2f} s, Energy: {energy:.2f} J\")\n",
    "```\n",
    "\n",
    "Run this function after assigning your global variables. What happens? Without passing any extra arguments to `simulate_step` and using your global variables, fix this function."
   ]
  },
  {
   "cell_type": "code",
   "execution_count": null,
   "id": "90fcf662",
   "metadata": {},
   "outputs": [],
   "source": []
  },
  {
   "cell_type": "markdown",
   "id": "93ab46f4",
   "metadata": {},
   "source": [
    "Does using global variables for both `time` and `energy` seem like a good idea? What happens if we want to simulate two balls? If we run the cell twice by accident does it behave predictably?\n",
    "\n",
    "Reflecting upon these questions we may decide to keep time global, but make `energy` local. Change your function to reflect this."
   ]
  },
  {
   "cell_type": "code",
   "execution_count": null,
   "id": "973c9c03",
   "metadata": {},
   "outputs": [],
   "source": []
  },
  {
   "cell_type": "markdown",
   "id": "d7aa1ee2",
   "metadata": {},
   "source": [
    "### 4. Loops and functions"
   ]
  },
  {
   "cell_type": "markdown",
   "id": "3302bce7",
   "metadata": {},
   "source": [
    "Create a function `simulate_orbit` which takes arguments as\n",
    "```python\n",
    "def simulate_orbit(\n",
    "    r,                     # Orbital radius (m)\n",
    "    M,                     # Mass of central star (kg)\n",
    "    steps=100,             # Number of steps in simulation\n",
    "    G=6.67430e-11,         # Gravitational constant (default value)\n",
    "    return_period=True     # Whether to return the period\n",
    "):\n",
    "```\n",
    "and has docstring\n",
    "```python\n",
    "    \"\"\"\n",
    "    Simulate the x, y positions of a planet in circular orbit.\n",
    "\n",
    "    Parameters:\n",
    "        r (float): Orbital radius in meters.\n",
    "        M (float): Mass of the star in kg.\n",
    "        steps (int, optional): Number of time steps. Default is 100.\n",
    "        G (float, optional): Gravitational constant. Default is 6.67430e-11.\n",
    "        return_period (bool, optional): Whether to return orbital period.\n",
    "\n",
    "    Returns:\n",
    "        list of tuple: x, y positions at each time step.\n",
    "        float (optional): Orbital period in seconds.\n",
    "    \"\"\"\n",
    "```\n",
    "Use the formulae:\n",
    "- Orbital speed $v = \\sqrt{\\frac{GM}{r}}$\n",
    "- Orbital period $T=\\frac{2\\pi r}{v}$\n",
    "- Position at time $t$: $x = r\\cos (\\omega t), y = r\\sin (\\omega t)$ where $\\omega = \\frac{2\\pi}{T}$\n",
    "\n",
    "Use a loop to calculate the x,y positions at each timestep. Check your function gives sensible values with an Earth-Sun system. "
   ]
  },
  {
   "cell_type": "code",
   "execution_count": null,
   "id": "13be5c32",
   "metadata": {},
   "outputs": [],
   "source": []
  },
  {
   "cell_type": "markdown",
   "id": "18986b85",
   "metadata": {},
   "source": [
    "### 5. Nested functions"
   ]
  },
  {
   "cell_type": "markdown",
   "id": "8de681a7",
   "metadata": {},
   "source": [
    "Write a main function called `calculate_total(cart, discount_codes=None)` which calculates the total of `cart` which contains a list of tuples `(price, discount_code)` for a given dictionary of known `discount_codes`.\n",
    "\n",
    "The main function should use another two functions inside it:\n",
    "- `apply_discount(price, discount_code)` takes a price and a discount code string, returns the discounted price. If discount code is invalid or None, returns original price.\n",
    "- `sum_prices(prices)` sums a list of prices and returns the total\n",
    "\n",
    "Decide and reason if `apply_discount(price, discount_code)` and/or `sum_prices(prices)` should be nested functions within `calculate_total`, or defined outside the function. Think about the potential reuse of these functions elsewhere, and how tightly coupled they are to `calculate_total`.\n",
    "\n",
    "Then run the function with input arguments:\n",
    "```python\n",
    "discounts = {\"SALE10\": 0.10, \"VIP20\": 0.20}\n",
    "cart_items = [(100, \"SALE10\"), (200, None), (50, \"VIP20\")]\n",
    "```\n",
    "\n",
    "**Hint**: when looping over keys in a dictionary you can unpack the key and value such as\n",
    "\n",
    "```python\n",
    "for key, value in dict:\n",
    "```"
   ]
  },
  {
   "cell_type": "code",
   "execution_count": null,
   "id": "0a57ab09",
   "metadata": {},
   "outputs": [],
   "source": []
  },
  {
   "cell_type": "markdown",
   "id": "30cf49da",
   "metadata": {},
   "source": []
  }
 ],
 "metadata": {
  "kernelspec": {
   "display_name": "testing_URs",
   "language": "python",
   "name": "testing_urs"
  },
  "language_info": {
   "codemirror_mode": {
    "name": "ipython",
    "version": 3
   },
   "file_extension": ".py",
   "mimetype": "text/x-python",
   "name": "python",
   "nbconvert_exporter": "python",
   "pygments_lexer": "ipython3",
   "version": "3.12.2"
  }
 },
 "nbformat": 4,
 "nbformat_minor": 5
}
