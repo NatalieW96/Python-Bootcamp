{
 "cells": [
  {
   "cell_type": "markdown",
   "id": "19e97704",
   "metadata": {},
   "source": [
    "# Practical Session 8: `matplotlib`"
   ]
  },
  {
   "cell_type": "markdown",
   "id": "b6d34d88",
   "metadata": {},
   "source": [
    "### 1. Simple Plotting\n",
    "\n",
    "Create a plot of the function $y=x^3$ for $x\\in[-10,10]$ using numpy arrays and matplotlib. Add appropriate axis labels and a title."
   ]
  },
  {
   "cell_type": "code",
   "execution_count": null,
   "id": "b5ed910e",
   "metadata": {},
   "outputs": [],
   "source": []
  },
  {
   "cell_type": "markdown",
   "id": "390148df",
   "metadata": {},
   "source": [
    "### 2. Line Plots\n",
    "\n",
    "Plot $y=2x + 1$ and $y=x^2$ on the same plot as above for $x\\in[-5,5]$ using different colours and linestyles. Add a legend."
   ]
  },
  {
   "cell_type": "code",
   "execution_count": null,
   "id": "6c22b967",
   "metadata": {},
   "outputs": [],
   "source": []
  },
  {
   "cell_type": "markdown",
   "id": "282edc56",
   "metadata": {},
   "source": [
    "### 3. Scatter Plots\n",
    "\n",
    "Generate random data with\n",
    "\n",
    "```python\n",
    "import numpy as np\n",
    "x = np.random.rand(50)\n",
    "y = 3 * x + np.random.normal(0, 0.3, size=50)\n",
    "```\n",
    "\n",
    "- Plot `x` vs `y` using a scatter plot\n",
    "\n",
    "- Change the marker to `'^'` and adjust size and colour\n",
    "\n",
    "- Add axis labels and a title"
   ]
  },
  {
   "cell_type": "code",
   "execution_count": null,
   "id": "2436ddd7",
   "metadata": {},
   "outputs": [],
   "source": []
  },
  {
   "cell_type": "markdown",
   "id": "b904a82c",
   "metadata": {},
   "source": [
    "### 4. Plotting with Style\n",
    "\n",
    "Use the following data:\n",
    "\n",
    "```python\n",
    "x = [1, 2, 3, 4, 5]\n",
    "y1 = [i**2 for i in x]\n",
    "y2 = [i**1.5 for i in x]\n",
    "```\n",
    "\n",
    "Plot both `y1` and `y2` on the same plot. Use:\n",
    "\n",
    "- A figure size of `(6,4)`\n",
    "\n",
    "- Different line styles and widths\n",
    "\n",
    "- Custom markers for `y2`\n",
    "\n",
    "Add a legend, grid, title, and set axis limits\n",
    "\n"
   ]
  },
  {
   "cell_type": "code",
   "execution_count": null,
   "id": "348dfa88",
   "metadata": {},
   "outputs": [],
   "source": []
  },
  {
   "cell_type": "markdown",
   "id": "30aa7b64",
   "metadata": {},
   "source": [
    "### 5. Subplots\n",
    "\n",
    "Create a `2 x 2` subplot layout and plot:\n",
    "\n",
    "- $\\sin(x)$\n",
    "\n",
    "- $\\cos(x)$\n",
    "\n",
    "- $\\tan(x)$\n",
    "\n",
    "- $\\sin(x)\\cos(x)$\n",
    "\n",
    "with $x\\in[0, 2\\pi]$. Label each plot."
   ]
  },
  {
   "cell_type": "code",
   "execution_count": null,
   "id": "deb3a583",
   "metadata": {},
   "outputs": [],
   "source": []
  },
  {
   "cell_type": "markdown",
   "id": "bbe3cd9a",
   "metadata": {},
   "source": [
    "### 6. Histograms\n",
    "\n",
    "Generate two datasets:\n",
    "```python\n",
    "module1 = np.random.normal(loc=60, scale=10, size=1000)\n",
    "module2 = np.random.normal(loc=70, scale=15, size=1000)\n",
    "```\n",
    "Plot both histograms on the same figure using 25 bins, use transparency such that both histograms can be viewed. Add a legend, title and axis labels."
   ]
  },
  {
   "cell_type": "code",
   "execution_count": null,
   "id": "f773b1c4",
   "metadata": {},
   "outputs": [],
   "source": []
  },
  {
   "cell_type": "markdown",
   "id": "734dd1a9",
   "metadata": {},
   "source": [
    "### 7. Contour and 3D Plots\n",
    "\n",
    "Use:\n",
    "\n",
    "```python\n",
    "x = np.linspace(-4, 4, 300)\n",
    "y = np.linspace(-4, 4, 300)\n",
    "X, Y = np.meshgrid(x, y)\n",
    "Z = np.sin(X) * np.cos(Y) * np.exp(-0.1*(X**2 + Y**2))\n",
    "```\n",
    "\n",
    "Create a filled contour plot with  20 levels with a suitable selected colourmap. Add a colourbar, title and axis labels."
   ]
  },
  {
   "cell_type": "code",
   "execution_count": null,
   "id": "14cc954b",
   "metadata": {},
   "outputs": [],
   "source": []
  },
  {
   "cell_type": "markdown",
   "id": "187b5398",
   "metadata": {},
   "source": [
    "### 8. Revisiting Past Exercises\n",
    "For those exercises completed, go back and plot the results of your code.\n",
    "\n",
    "#### Simulating a Planet\n",
    "Copy your function `simulate_orbit` from question 4 of practical session 5, and use it to plot the orbit of a planet, replacing the mathmatical functions with `numpy`functions. Place a cross at `(0,0)`."
   ]
  },
  {
   "cell_type": "code",
   "execution_count": null,
   "id": "be2e3d69",
   "metadata": {},
   "outputs": [],
   "source": []
  },
  {
   "cell_type": "markdown",
   "id": "69ed8fff",
   "metadata": {},
   "source": [
    "#### Estimating $\\pi$\n",
    "\n",
    "From exercise 7 of session 7, take your `estimate_pi` function, and alter the code so it plots, the box, the unit circle, and each random point where those inside the circle are red and those outside the circle are blue. Add a legend and grid lines."
   ]
  },
  {
   "cell_type": "code",
   "execution_count": null,
   "id": "5af32ddc",
   "metadata": {},
   "outputs": [],
   "source": [
    "\n"
   ]
  },
  {
   "cell_type": "markdown",
   "id": "ab63abe7",
   "metadata": {},
   "source": [
    "#### Projectile Motion Data\n",
    "\n",
    "From Exercise 8 of session 7, take the file `projectile_data.csv` of vertical position $y$ measured over time intervals of 0.1s. Plot the $y$ position of the projectile over time $t$."
   ]
  },
  {
   "cell_type": "code",
   "execution_count": null,
   "id": "ff7629b5",
   "metadata": {},
   "outputs": [],
   "source": []
  }
 ],
 "metadata": {
  "kernelspec": {
   "display_name": "testing_URs",
   "language": "python",
   "name": "testing_urs"
  },
  "language_info": {
   "codemirror_mode": {
    "name": "ipython",
    "version": 3
   },
   "file_extension": ".py",
   "mimetype": "text/x-python",
   "name": "python",
   "nbconvert_exporter": "python",
   "pygments_lexer": "ipython3",
   "version": "3.12.2"
  }
 },
 "nbformat": 4,
 "nbformat_minor": 5
}
