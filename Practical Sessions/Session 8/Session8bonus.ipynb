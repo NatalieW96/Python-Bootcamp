{
 "cells": [
  {
   "cell_type": "markdown",
   "id": "9d320dcf",
   "metadata": {},
   "source": [
    "# Practical Session 8 Bonus: `seaborn`"
   ]
  },
  {
   "cell_type": "markdown",
   "id": "51110757",
   "metadata": {},
   "source": [
    "`seaborn` is an extention to matplotlib, with more options and specifically designed for `pandas` (see practical session 7 bonus exercises). Here we will go through a few of the more useful ones.\n",
    "\n",
    "We will load an example built in dataset to work with."
   ]
  },
  {
   "cell_type": "code",
   "execution_count": null,
   "id": "45493c59",
   "metadata": {},
   "outputs": [],
   "source": [
    "import seaborn as sns \n",
    "\n",
    "df =  sns.load_dataset('penguins')\n",
    "df"
   ]
  },
  {
   "cell_type": "markdown",
   "id": "223c652e",
   "metadata": {},
   "source": [
    "We can set visual themes though"
   ]
  },
  {
   "cell_type": "code",
   "execution_count": null,
   "id": "26698fa5",
   "metadata": {},
   "outputs": [],
   "source": [
    "sns.set_theme(style=\"whitegrid\")"
   ]
  },
  {
   "cell_type": "markdown",
   "id": "25fdff82",
   "metadata": {},
   "source": [
    "Theme options include:\n",
    "\n",
    "- \"darkgrid\" (default)\n",
    "\n",
    "- \"whitegrid\"\n",
    "\n",
    "- \"white\"\n",
    "\n",
    "- \"ticks\"\n",
    "\n",
    "- \"dark\"\n",
    "\n",
    "Feel free to experiment with these.\n",
    "\n",
    "Scatter plots are done with `sns.scatterplot` with intuative options (i.e. `hue` for different catagories) and many automatic plotting choices:"
   ]
  },
  {
   "cell_type": "code",
   "execution_count": null,
   "id": "55fede1b",
   "metadata": {},
   "outputs": [],
   "source": [
    "sns.scatterplot(data=df, x='bill_length_mm', y='flipper_length_mm', hue='species')"
   ]
  },
  {
   "cell_type": "markdown",
   "id": "634f49d9",
   "metadata": {},
   "source": [
    "Distribution plots are done with `sns.histplot()`, with an optional option to beulid a kernel desnity estimator (KDE) over the distribution"
   ]
  },
  {
   "cell_type": "code",
   "execution_count": null,
   "id": "c60ad033",
   "metadata": {},
   "outputs": [],
   "source": [
    "sns.histplot(data=df, x='body_mass_g', kde=True)"
   ]
  },
  {
   "cell_type": "markdown",
   "id": "c278dd66",
   "metadata": {},
   "source": [
    "For just a KDE we can use `sns.kdeplot`"
   ]
  },
  {
   "cell_type": "code",
   "execution_count": null,
   "id": "269d4a19",
   "metadata": {},
   "outputs": [],
   "source": [
    "sns.kdeplot(data=df, x='bill_length_mm', hue='species', fill=True)"
   ]
  },
  {
   "cell_type": "markdown",
   "id": "bac859d3",
   "metadata": {},
   "source": [
    "There are also other options of plots, such as **boxplots** showing the distribution plus outliers:"
   ]
  },
  {
   "cell_type": "code",
   "execution_count": null,
   "id": "28d766f3",
   "metadata": {},
   "outputs": [],
   "source": [
    "sns.boxplot(data=df, x='species', y='flipper_length_mm')"
   ]
  },
  {
   "cell_type": "markdown",
   "id": "372e5a7d",
   "metadata": {},
   "source": [
    "**Violin plots** combines KDEs with boxplots"
   ]
  },
  {
   "cell_type": "code",
   "execution_count": null,
   "id": "3a59e4cd",
   "metadata": {},
   "outputs": [],
   "source": [
    "sns.violinplot(data=df, x='species', y='flipper_length_mm')"
   ]
  },
  {
   "cell_type": "markdown",
   "id": "d71888bb",
   "metadata": {},
   "source": [
    "**Pairwise plots** plot all pairwise scatterplots with histograms or KDEs on the diagonals"
   ]
  },
  {
   "cell_type": "code",
   "execution_count": null,
   "id": "46eade76",
   "metadata": {},
   "outputs": [],
   "source": [
    "sns.pairplot(df, hue='species')"
   ]
  },
  {
   "cell_type": "markdown",
   "id": "f52b97fd",
   "metadata": {},
   "source": [
    "**Regression** plots to automatically add a linear regression with a confidence interval."
   ]
  },
  {
   "cell_type": "code",
   "execution_count": null,
   "id": "2e046d7e",
   "metadata": {},
   "outputs": [],
   "source": [
    "sns.regplot(data=df, x='flipper_length_mm', y='body_mass_g')"
   ]
  },
  {
   "cell_type": "markdown",
   "id": "93af746f",
   "metadata": {},
   "source": [
    "### Task: Exploring the Titanic dataset\n",
    "\n",
    "Load the dataset `titanic` and inspect it."
   ]
  },
  {
   "cell_type": "code",
   "execution_count": null,
   "id": "0023548e",
   "metadata": {},
   "outputs": [],
   "source": []
  },
  {
   "cell_type": "markdown",
   "id": "39dfde99",
   "metadata": {},
   "source": [
    "Plot a scatter plot of passenger class `pclass` against `fare`, with `hue`: `sex`"
   ]
  },
  {
   "cell_type": "code",
   "execution_count": null,
   "id": "b11a5605",
   "metadata": {},
   "outputs": [],
   "source": []
  },
  {
   "cell_type": "markdown",
   "id": "f2799515",
   "metadata": {},
   "source": [
    "Use histograms to compare the age distributions between men and women."
   ]
  },
  {
   "cell_type": "code",
   "execution_count": null,
   "id": "c1a1d609",
   "metadata": {},
   "outputs": [],
   "source": []
  },
  {
   "cell_type": "markdown",
   "id": "5cff1b6b",
   "metadata": {},
   "source": [
    "Use a boxplot to compare fares for passengers who boarded at different ports."
   ]
  },
  {
   "cell_type": "code",
   "execution_count": null,
   "id": "6ca3bc6a",
   "metadata": {},
   "outputs": [],
   "source": []
  },
  {
   "cell_type": "markdown",
   "id": "c0e0f3b6",
   "metadata": {},
   "source": [
    "Use a violin plot to see how the number of siblings/spouses aboard relates to survival."
   ]
  },
  {
   "cell_type": "code",
   "execution_count": null,
   "id": "bc0a5bf4",
   "metadata": {},
   "outputs": [],
   "source": []
  }
 ],
 "metadata": {
  "kernelspec": {
   "display_name": "testing_URs",
   "language": "python",
   "name": "testing_urs"
  },
  "language_info": {
   "codemirror_mode": {
    "name": "ipython",
    "version": 3
   },
   "file_extension": ".py",
   "mimetype": "text/x-python",
   "name": "python",
   "nbconvert_exporter": "python",
   "pygments_lexer": "ipython3",
   "version": "3.12.2"
  }
 },
 "nbformat": 4,
 "nbformat_minor": 5
}
