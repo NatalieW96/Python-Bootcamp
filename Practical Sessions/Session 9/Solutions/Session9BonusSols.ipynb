{
 "cells": [
  {
   "cell_type": "markdown",
   "id": "51ac62b5",
   "metadata": {},
   "source": [
    "# Practical Session 9 Bonus: Parallelisation"
   ]
  },
  {
   "cell_type": "markdown",
   "id": "fe03ac75",
   "metadata": {},
   "source": [
    "### What is Parallel Computing?\n",
    "\n",
    "Many tasks involve performing the same kind of operation multiple times, often on independent data points. Parallel computing lets us run multiple computations simultaneously, using multiple CPU cores. This can dramatically speed up programs, especially for computationally expensive tasks.\n",
    "\n",
    "Python’s built-in `multiprocessing` module allows you to easily distribute work across multiple processes running in parallel.\n",
    "\n",
    "### Basic Concepts\n",
    "\n",
    "- Process: A separate instance of the Python interpreter running independently.\n",
    "\n",
    "- Pool: A collection of worker processes.\n",
    "\n",
    "- Task: A unit of work submitted to the pool to be executed by a worker.\n",
    "\n",
    "- Map: A method to apply a function to many inputs in parallel."
   ]
  },
  {
   "cell_type": "markdown",
   "id": "e1e4e035",
   "metadata": {},
   "source": [
    "### Example: Computing Squares\n",
    "\n",
    "Let's compare sequential vs parallel computation for computing square numbers"
   ]
  },
  {
   "cell_type": "code",
   "execution_count": 26,
   "id": "c5529e17",
   "metadata": {},
   "outputs": [
    {
     "name": "stdout",
     "output_type": "stream",
     "text": [
      "Sequential time: 1.00 seconds\n",
      "Parallel time: 0.32 seconds\n",
      "Results are the same: True\n"
     ]
    }
   ],
   "source": [
    "import time\n",
    "from multiprocessing import Pool\n",
    "\n",
    "def compute_square(x):\n",
    "    # Simulate expensive computation\n",
    "    import time\n",
    "    time.sleep(0.1)\n",
    "    return x * x\n",
    "\n",
    "numbers = list(range(10))\n",
    "\n",
    "# Sequential computation without list comprehension\n",
    "start = time.time()\n",
    "results_seq = []\n",
    "for x in numbers:\n",
    "    results_seq.append(compute_square(x))\n",
    "end = time.time()\n",
    "print(f\"Sequential time: {end - start:.2f} seconds\")\n",
    "\n",
    "# Parallel computation (pool.map returns a list)\n",
    "start = time.time()\n",
    "with Pool(4) as pool:\n",
    "    results_par = pool.map(compute_square, numbers)\n",
    "end = time.time()\n",
    "print(f\"Parallel time: {end - start:.2f} seconds\")\n",
    "\n",
    "print(\"Results are the same:\", results_seq == results_par)\n"
   ]
  },
  {
   "cell_type": "markdown",
   "id": "f5bc0da2",
   "metadata": {},
   "source": [
    "#### How does this work?\n",
    "\n",
    "- The `Pool(4)` creates 4 worker processes.\n",
    "\n",
    "- `pool.map` splits the `numbers` list across workers.\n",
    "\n",
    "- Each worker runs `compute_square` independently.\n",
    "\n",
    "- Results are collected and returned in the same order as inputs."
   ]
  },
  {
   "cell_type": "markdown",
   "id": "4726687a",
   "metadata": {},
   "source": [
    "### Exercise: Parallel Integration of a Function\n",
    "\n",
    "You are given the following function slow_integrate_sin(x) which performs a computationally expensive numerical integration repeatedly to simulate a heavy workload:\n",
    "\n",
    "```python\n",
    "def slow_integrate_sin(x):\n",
    "    result = 0\n",
    "    for _ in range(10000):\n",
    "        r, _ = quad(math.sin, 0, x)\n",
    "        result += r\n",
    "    return result\n",
    "```\n",
    "\n",
    "You also have a list of intervals:\n",
    "\n",
    "```python\n",
    "intervals = []\n",
    "for i in range(1, 21):\n",
    "    intervals.append(0.1 * i)\n",
    "```\n",
    "Write Python code to:\n",
    "\n",
    "- Compute the results by calling `slow_integrate_sin` sequentially for each value in intervals.\n",
    "\n",
    "- Compute the results by calling `slow_integrate_sin` in parallel using Python's multiprocessing.Pool with 4 worker processes.\n",
    "\n",
    "- Measure and print the time taken for both sequential and parallel computations.\n",
    "\n",
    "- Verify that the results from both methods are the same by comparing each result."
   ]
  },
  {
   "cell_type": "code",
   "execution_count": 27,
   "id": "bb8de4b5",
   "metadata": {},
   "outputs": [
    {
     "name": "stdout",
     "output_type": "stream",
     "text": [
      "Sequential time: 0.3819 seconds\n",
      "Parallel time: 0.1523 seconds\n",
      "Results are the same: True\n"
     ]
    }
   ],
   "source": [
    "import time\n",
    "from multiprocessing import Pool\n",
    "from scipy.integrate import quad\n",
    "import math\n",
    "\n",
    "def slow_integrate_sin(x):\n",
    "    # Repeat the integration 10000 times to simulate a heavy workload\n",
    "    result = 0\n",
    "    for _ in range(10000):\n",
    "        r, _ = quad(math.sin, 0, x)\n",
    "        result += r\n",
    "    return result\n",
    "\n",
    "intervals = []\n",
    "for i in range(1, 21):\n",
    "    intervals.append(0.1 * i)\n",
    "\n",
    "# Sequential computation\n",
    "start = time.time()\n",
    "results_seq = []\n",
    "for x in intervals:\n",
    "    results_seq.append(slow_integrate_sin(x))\n",
    "end = time.time()\n",
    "print(f\"Sequential time: {end - start:.4f} seconds\")\n",
    "\n",
    "# Parallel computation\n",
    "start = time.time()\n",
    "with Pool(4) as pool:\n",
    "    results_par = pool.map(slow_integrate_sin, intervals)\n",
    "end = time.time()\n",
    "print(f\"Parallel time: {end - start:.4f} seconds\")\n",
    "\n",
    "print(\"Results are the same:\", results_seq == results_par)\n"
   ]
  },
  {
   "cell_type": "code",
   "execution_count": null,
   "id": "90984bba",
   "metadata": {},
   "outputs": [],
   "source": []
  }
 ],
 "metadata": {
  "kernelspec": {
   "display_name": "testing_URs",
   "language": "python",
   "name": "testing_urs"
  },
  "language_info": {
   "codemirror_mode": {
    "name": "ipython",
    "version": 3
   },
   "file_extension": ".py",
   "mimetype": "text/x-python",
   "name": "python",
   "nbconvert_exporter": "python",
   "pygments_lexer": "ipython3",
   "version": "3.12.2"
  }
 },
 "nbformat": 4,
 "nbformat_minor": 5
}
