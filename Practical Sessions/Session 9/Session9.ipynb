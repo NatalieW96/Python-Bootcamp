{
 "cells": [
  {
   "cell_type": "markdown",
   "id": "1275062e",
   "metadata": {},
   "source": [
    "# Practical Session 9: `scipy` and `astropy`"
   ]
  },
  {
   "cell_type": "markdown",
   "id": "bacb6c67",
   "metadata": {},
   "source": [
    "### 1. Minimisation with `scipy.optimize.minimize`\n",
    "\n",
    "The function below $h(x)$ represents the squared difference between the cube of $x$$ and 10:\n",
    "\n",
    "```python\n",
    "def h(x):\n",
    "    return (x[0]**3 - 10)**2\n",
    "```\n",
    "Using an initial guess of `x0 = 2`, find the value of $x$ that minimises $h(x)$."
   ]
  },
  {
   "cell_type": "code",
   "execution_count": null,
   "id": "59f3b3f7",
   "metadata": {},
   "outputs": [],
   "source": []
  },
  {
   "cell_type": "markdown",
   "id": "10ce91f6",
   "metadata": {},
   "source": [
    "Plot $h(x)$ over the range $[1,3]$ and mark the minimum"
   ]
  },
  {
   "cell_type": "code",
   "execution_count": null,
   "id": "1bf57105",
   "metadata": {},
   "outputs": [],
   "source": []
  },
  {
   "cell_type": "markdown",
   "id": "6366df4a",
   "metadata": {},
   "source": [
    "### 2. Root finding with `scipy.optimize.root`"
   ]
  },
  {
   "cell_type": "markdown",
   "id": "5b650771",
   "metadata": {},
   "source": [
    "Define the function $f(x)=cos(x)−x$ and use `root` to find a root with initial guess $x_0 = 1.0$"
   ]
  },
  {
   "cell_type": "code",
   "execution_count": null,
   "id": "26a52ded",
   "metadata": {},
   "outputs": [],
   "source": []
  },
  {
   "cell_type": "markdown",
   "id": "5ebd5f22",
   "metadata": {},
   "source": [
    "### 3. Curve fitting with `scipy.optimize.curve_fit`\n",
    "\n",
    "You have been given some $x$ and $y$ data in the file `curve_fitting.csv`. Use `curve_fit` to fit:\n",
    "\n",
    "- A linear function\n",
    "\n",
    "- A quadratic function\n",
    "\n",
    "- A third order polynomial\n",
    "\n",
    "Find which gives the best fit. Plot the data with all three fits, with appropriate axes and legend."
   ]
  },
  {
   "cell_type": "code",
   "execution_count": null,
   "id": "60a5a548",
   "metadata": {},
   "outputs": [],
   "source": []
  },
  {
   "cell_type": "markdown",
   "id": "632d6cf6",
   "metadata": {},
   "source": [
    "### 4. Integration with `scipy.integrate`\n",
    "\n",
    "Calculate the integral of $f(x)=e^{-x^2}$ with both `quad` and `trapz`, compare your results."
   ]
  },
  {
   "cell_type": "code",
   "execution_count": null,
   "id": "8f742143",
   "metadata": {},
   "outputs": [],
   "source": []
  },
  {
   "cell_type": "markdown",
   "id": "bc1d6f01",
   "metadata": {},
   "source": [
    "### 5. ODE solving for a damped harmonic oscillator\n",
    "\n",
    "The motion of a damped harmonic oscillator is described by the second order ordinary differential equation (ODE):\n",
    "\n",
    "$$\n",
    "m \\frac{d^2x}{dt^2} + c \\frac{dx}{dt} + k x = 0\n",
    "$$\n",
    "\n",
    "where:\n",
    "\n",
    "- $m = 1\\, \\text{kg}$ is the mass,\n",
    "- $c = 0.2\\, \\text{kg/s}$ is the damping coefficient,\n",
    "- $k = 2\\, \\text{N/m}$ is the spring constant,\n",
    "- $x(t)$ is the displacement as a function of time $t$.\n",
    "\n",
    "The solver `odeint` solves **systems of first order ODEs**, but here we have a **second order** ODE. \n",
    "\n",
    "To use `odeint`, we need to rewrite this second order equation as two **coupled first order ODEs**. \n",
    "\n",
    "Define:\n",
    "\n",
    "$$\n",
    "v = \\frac{dx}{dt} \\quad \\Rightarrow \\quad \\frac{dv}{dt} = \\frac{d^2x}{dt^2}\n",
    "$$\n",
    "\n",
    "Then the system becomes:\n",
    "\n",
    "$$\n",
    "\\begin{cases}\n",
    "\\frac{dx}{dt} = v \\\\\n",
    "\\frac{dv}{dt} = -\\frac{c}{m} v - \\frac{k}{m} x\n",
    "\\end{cases}\n",
    "$$\n",
    "\n",
    "This is a system of two first order ODEs with variables $x$ and $v$.\n",
    "\n",
    "**Define the function** that returns the derivatives $\\frac{dx}{dt}$ and $\\frac{dv}{dt}$ as a vector, e.g.\n",
    "\n",
    "```python\n",
    "def damped_oscillator(y, t, m, c, k):\n",
    "    x, v = y\n",
    "    dxdt = v\n",
    "    dvdt = - (c/m) * v - (k/m) * x\n",
    "    return [dxdt, dvdt]\n",
    "```\n",
    "\n",
    "Then with initial conditions $x(0)=1$m and $v(0)=0$m/s use `odeint` to solve the ODE between 0s to 20s."
   ]
  },
  {
   "cell_type": "code",
   "execution_count": null,
   "id": "ee9f3227",
   "metadata": {},
   "outputs": [],
   "source": []
  },
  {
   "cell_type": "markdown",
   "id": "84540f3c",
   "metadata": {},
   "source": [
    "Using subplots, plot both $x(t)$ and $v(t)$ with appropiate formatting. Use the arguement `sharex=True` in `plt.subplots` to make both plots chare the same x axis."
   ]
  },
  {
   "cell_type": "code",
   "execution_count": null,
   "id": "3bea49d9",
   "metadata": {},
   "outputs": [],
   "source": []
  },
  {
   "cell_type": "markdown",
   "id": "6f182a34",
   "metadata": {},
   "source": [
    "Use `scipy.interpolate.interp1d` to create an interpolation function for $x(t)$, and use it to estimate and print the displacement at $t=7.5$ s and $t=15.3$ s."
   ]
  },
  {
   "cell_type": "code",
   "execution_count": null,
   "id": "a70881de",
   "metadata": {},
   "outputs": [],
   "source": []
  },
  {
   "cell_type": "markdown",
   "id": "b01d8d97",
   "metadata": {},
   "source": [
    "### 6. Exploring a distant Quasar with `astropy`\n",
    "\n",
    "A quasar was observed from an observatory located at latitude 34° N, longitude 118° W at UTC time **2025-10-15 03:30:00**. The observed position of the quasar in the sky is given in **altitude-azimuth coordinates** as:\n",
    "\n",
    "- Altitude = 40°\n",
    "- Azimuth = 150°\n",
    "\n",
    "The quasar's redshift $z = 2.1$."
   ]
  },
  {
   "cell_type": "markdown",
   "id": "3a830694",
   "metadata": {},
   "source": [
    "- Create an `astropy.time.Time` object for the UTC observation time.\n",
    "   \n",
    "- Convert this time to Julian Date (JD) and Modified Julian Date (MJD).\n",
    "   \n",
    "- Convert the time to Terrestrial Time (TT)."
   ]
  },
  {
   "cell_type": "code",
   "execution_count": null,
   "id": "a1f4510b",
   "metadata": {},
   "outputs": [],
   "source": []
  },
  {
   "cell_type": "markdown",
   "id": "87c88ff7",
   "metadata": {},
   "source": [
    "- Define the observer’s location using `EarthLocation`.\n",
    "\n",
    "- Create an `AltAz` coordinate object with the given altitude, azimuth, time, and location.\n",
    "\n",
    "- Convert the quasar’s position to the **ICRS frame** (Right Ascension and Declination).\n",
    "\n",
    "- Print the RA and Dec in degrees."
   ]
  },
  {
   "cell_type": "code",
   "execution_count": null,
   "id": "3d32343b",
   "metadata": {},
   "outputs": [],
   "source": []
  },
  {
   "cell_type": "markdown",
   "id": "7469f995",
   "metadata": {},
   "source": [
    "- Using the Planck18 cosmology model, calculate:\n",
    "\n",
    "     - The luminosity distance,\n",
    "\n",
    "     - The angular diameter distance,\n",
    "\n",
    "     - The age of the Universe at the quasar’s redshift.\n",
    "\n",
    "- Express the distances in megaparsecs (Mpc) and the age in gigayears (Gyr).\n"
   ]
  },
  {
   "cell_type": "code",
   "execution_count": null,
   "id": "a1f77788",
   "metadata": {},
   "outputs": [],
   "source": []
  },
  {
   "cell_type": "markdown",
   "id": "9ca0d113",
   "metadata": {},
   "source": [
    "   - The quasar has an observed flux of $3.5 \\times 10^{-16}$ erg/s/cm².\n",
    "\n",
    "   - Convert this flux to SI units (W/m²).\n",
    "   \n",
    "   - Using the luminosity distance, calculate the quasar’s luminosity in watts (W).\n",
    "\n",
    "     *Hint:* Luminosity $L$ relates to flux $F$ and luminosity distance $D_L$ by:  \n",
    "     $$\n",
    "     L = 4 \\pi D_L^2 \\times F\n",
    "     $$"
   ]
  },
  {
   "cell_type": "code",
   "execution_count": null,
   "id": "78e87541",
   "metadata": {},
   "outputs": [],
   "source": []
  }
 ],
 "metadata": {
  "kernelspec": {
   "display_name": "testing_URs",
   "language": "python",
   "name": "testing_urs"
  },
  "language_info": {
   "codemirror_mode": {
    "name": "ipython",
    "version": 3
   },
   "file_extension": ".py",
   "mimetype": "text/x-python",
   "name": "python",
   "nbconvert_exporter": "python",
   "pygments_lexer": "ipython3",
   "version": "3.12.2"
  }
 },
 "nbformat": 4,
 "nbformat_minor": 5
}
