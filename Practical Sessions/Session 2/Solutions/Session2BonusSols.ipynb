{
 "cells": [
  {
   "cell_type": "markdown",
   "id": "558cd0a6",
   "metadata": {},
   "source": [
    "# Practical Session 2 Bonus: Advanced Python Basics"
   ]
  },
  {
   "cell_type": "markdown",
   "id": "47f99c53",
   "metadata": {},
   "source": [
    "While we don't introduce any new concepts here, here are a set of more challenging exersies using the techinques covered in session 2."
   ]
  },
  {
   "cell_type": "markdown",
   "id": "23751ae3",
   "metadata": {},
   "source": [
    "#### 1. What type is that?"
   ]
  },
  {
   "cell_type": "markdown",
   "id": "199c8da5",
   "metadata": {},
   "source": [
    "Create variables a, b and c such that:\n",
    "- `a + b == c` returns `True`\n",
    "- `a`, `b` and `c` are all different data types \n",
    "\n",
    "Print all three values and their types"
   ]
  },
  {
   "cell_type": "code",
   "execution_count": 3,
   "id": "04cc9ec6",
   "metadata": {},
   "outputs": [
    {
     "name": "stdout",
     "output_type": "stream",
     "text": [
      "0 1.0 True\n",
      "<class 'int'> <class 'float'> <class 'bool'>\n"
     ]
    }
   ],
   "source": [
    "a = 0\n",
    "b = 1.0 \n",
    "c = True\n",
    "\n",
    "a + b == c\n",
    "\n",
    "print(a, b, c)\n",
    "print(type(a), type(b), type(c))"
   ]
  },
  {
   "cell_type": "markdown",
   "id": "f5205092",
   "metadata": {},
   "source": [
    "#### 2. String swapping"
   ]
  },
  {
   "cell_type": "markdown",
   "id": "055fec17",
   "metadata": {},
   "source": [
    "You are given two strings:"
   ]
  },
  {
   "cell_type": "code",
   "execution_count": 8,
   "id": "b58a4af3",
   "metadata": {},
   "outputs": [],
   "source": [
    "a = 'physics'\n",
    "b = 'quantum'"
   ]
  },
  {
   "cell_type": "markdown",
   "id": "74d52b4b",
   "metadata": {},
   "source": [
    "Use only slicing and concatenation to create the output `quantumics phys`"
   ]
  },
  {
   "cell_type": "code",
   "execution_count": 9,
   "id": "56de7efb",
   "metadata": {},
   "outputs": [
    {
     "name": "stdout",
     "output_type": "stream",
     "text": [
      "quantumics phys\n"
     ]
    }
   ],
   "source": [
    "result = b + a[-3:] + ' ' + a[:4]\n",
    "print(result)  # quantumics phys"
   ]
  },
  {
   "cell_type": "markdown",
   "id": "cf5b7b65",
   "metadata": {},
   "source": [
    "#### 3. Scientific notation formatting"
   ]
  },
  {
   "cell_type": "markdown",
   "id": "0ca988ca",
   "metadata": {},
   "source": [
    "Define the speed of light, Planck's constant and the gravitational constant. Use f-strings to print a summary of each one in decimal notation to one decimal place, and in scientific notation (use `e` instead of `f` to give number of significant figures in scientific notation) to 3 significant figures"
   ]
  },
  {
   "cell_type": "code",
   "execution_count": 10,
   "id": "22a8ec79",
   "metadata": {},
   "outputs": [
    {
     "name": "stdout",
     "output_type": "stream",
     "text": [
      "Speed of light: 299792458.0 m/s (scientific: 2.998e+08 m/s)\n",
      "Planck's constant: 0.0 J·s (scientific: 6.626e-34 J·s)\n",
      "Gravitational constant: 0.0 m³·kg⁻¹·s⁻² (scientific: 6.674e-11 m³·kg⁻¹·s⁻²)\n"
     ]
    }
   ],
   "source": [
    "# Define constants\n",
    "c = 299792458           # speed of light in m/s\n",
    "h = 6.62607015e-34      # Planck's constant in J·s\n",
    "G = 6.67430e-11         # gravitational constant in m^3·kg^-1·s^-2\n",
    "\n",
    "# Print summaries\n",
    "print(f\"Speed of light: {c:.1f} m/s (scientific: {c:.3e} m/s)\")\n",
    "print(f\"Planck's constant: {h:.1f} J·s (scientific: {h:.3e} J·s)\")\n",
    "print(f\"Gravitational constant: {G:.1f} m³·kg⁻¹·s⁻² (scientific: {G:.3e} m³·kg⁻¹·s⁻²)\")"
   ]
  },
  {
   "cell_type": "markdown",
   "id": "1da15651",
   "metadata": {},
   "source": [
    "#### 4. ASCII codes"
   ]
  },
  {
   "cell_type": "markdown",
   "id": "a7143063",
   "metadata": {},
   "source": [
    "Behind the scenes, every character in a string — like a letter, number, or symbol — is stored as a number. These numbers come from a system called ASCII (American Standard Code for Information Interchange).\n",
    "\n",
    "For example:\n",
    "- `A` is stored as the number `65`\n",
    "- `a` is stored as `97`\n",
    "- `' '` (space) is stored as `32`\n",
    "\n",
    "Python gives us two built-in functions to move between characters and their numeric representations:\n",
    "- `ord(char)` returns the ASCII code of a character"
   ]
  },
  {
   "cell_type": "code",
   "execution_count": 3,
   "id": "eb56d34f",
   "metadata": {},
   "outputs": [
    {
     "data": {
      "text/plain": [
       "66"
      ]
     },
     "execution_count": 3,
     "metadata": {},
     "output_type": "execute_result"
    }
   ],
   "source": [
    "ord('B')"
   ]
  },
  {
   "cell_type": "markdown",
   "id": "aa92864c",
   "metadata": {},
   "source": [
    "- `chr(num)` returns the character from a number"
   ]
  },
  {
   "cell_type": "code",
   "execution_count": 4,
   "id": "a4ba2139",
   "metadata": {},
   "outputs": [
    {
     "data": {
      "text/plain": [
       "'B'"
      ]
     },
     "execution_count": 4,
     "metadata": {},
     "output_type": "execute_result"
    }
   ],
   "source": [
    "chr(66)"
   ]
  },
  {
   "cell_type": "markdown",
   "id": "28e3ab2a",
   "metadata": {},
   "source": [
    "You care given this encoded message:"
   ]
  },
  {
   "cell_type": "code",
   "execution_count": 12,
   "id": "46810a4b",
   "metadata": {},
   "outputs": [],
   "source": [
    "code = [84, 104, 105, 115, 32, 105, 115, 32, 102, 117, 110]"
   ]
  },
  {
   "cell_type": "markdown",
   "id": "bb71bd75",
   "metadata": {},
   "source": [
    "Decode this message and combine the letters into a single string"
   ]
  },
  {
   "cell_type": "code",
   "execution_count": 14,
   "id": "08593a03",
   "metadata": {},
   "outputs": [
    {
     "name": "stdout",
     "output_type": "stream",
     "text": [
      "This is fun\n"
     ]
    }
   ],
   "source": [
    "message = ''.join((chr(code[0]), chr(code[1]), chr(code[2]),\n",
    "                   chr(code[3]), chr(code[4]), chr(code[5]),\n",
    "                   chr(code[6]), chr(code[7]), chr(code[8]),\n",
    "                   chr(code[9]), chr(code[10])))\n",
    "print(message)"
   ]
  },
  {
   "cell_type": "markdown",
   "id": "77592b01",
   "metadata": {},
   "source": [
    "#### 5. Split and join"
   ]
  },
  {
   "cell_type": "markdown",
   "id": "f28383ff",
   "metadata": {},
   "source": [
    "Ask the user for a multi word sentence. Then split that sentence into words, and join them back together (use function `join()`) with a different seperator character the user has specified (e.g. `*`, `:`, `&` etc)"
   ]
  },
  {
   "cell_type": "code",
   "execution_count": 15,
   "id": "73db8a5a",
   "metadata": {},
   "outputs": [
    {
     "name": "stdout",
     "output_type": "stream",
     "text": [
      "hello(world\n"
     ]
    }
   ],
   "source": [
    "sentence = input(\"Enter a multi-word sentence: \")\n",
    "\n",
    "sep = input(\"Enter a separator character (e.g. *, :, &): \")\n",
    "\n",
    "words = sentence.split()\n",
    "\n",
    "result = sep.join(words)\n",
    "\n",
    "print(result)\n"
   ]
  },
  {
   "cell_type": "markdown",
   "id": "587717fd",
   "metadata": {},
   "source": [
    "#### 6. Password management"
   ]
  },
  {
   "cell_type": "markdown",
   "id": "d0be0e51",
   "metadata": {},
   "source": [
    "Ask the user for a username and password, then manipulat the password so that only the first and last letters are shown with all letters in between as `*`. Then print a formatted message such as `Welcome, natalie. Your password is j*******n`"
   ]
  },
  {
   "cell_type": "code",
   "execution_count": 17,
   "id": "a22dcfc5",
   "metadata": {},
   "outputs": [
    {
     "name": "stdout",
     "output_type": "stream",
     "text": [
      "Welcome, Natalie. Your password is p******d\n"
     ]
    }
   ],
   "source": [
    "username = input(\"Enter your username: \")\n",
    "password = input(\"Enter your password: \")\n",
    "\n",
    "length = len(password)\n",
    "\n",
    "stars = \"*\" * ((length - 2) * (length > 2))\n",
    "\n",
    "masked_password = password[:1] + stars + password[-1:]\n",
    "\n",
    "print(f\"Welcome, {username}. Your password is {masked_password}\")\n"
   ]
  },
  {
   "cell_type": "markdown",
   "id": "c7364c76",
   "metadata": {},
   "source": [
    "#### 7. Calculation tasks"
   ]
  },
  {
   "cell_type": "markdown",
   "id": "a20de144",
   "metadata": {},
   "source": [
    "Given a mass and velocity from user input, calculate and return the kinetic energy $KE= \\frac{1}{2}mv^2$"
   ]
  },
  {
   "cell_type": "code",
   "execution_count": 23,
   "id": "8e124d7c",
   "metadata": {},
   "outputs": [
    {
     "name": "stdout",
     "output_type": "stream",
     "text": [
      "Kinetic Energy: 500.00 J\n"
     ]
    }
   ],
   "source": [
    "mass = float(input(\"Enter mass (kg): \"))\n",
    "velocity = float(input(\"Enter velocity (m/s): \"))\n",
    "\n",
    "KE = 0.5 * mass * velocity ** 2\n",
    "\n",
    "print(f\"Kinetic Energy: {KE:.2f} J\")"
   ]
  },
  {
   "cell_type": "markdown",
   "id": "11e3cfd1",
   "metadata": {},
   "source": [
    "Calculate escape velocity from a planet $v_e = \\sqrt{\\frac{2GM}{R}}$ where the user gives the planet mass and radius. Print velocity in km/s with 3 decimals.\n",
    "​"
   ]
  },
  {
   "cell_type": "code",
   "execution_count": 24,
   "id": "39121b73",
   "metadata": {},
   "outputs": [
    {
     "name": "stdout",
     "output_type": "stream",
     "text": [
      "Escape velocity: 4.717 km/s\n"
     ]
    }
   ],
   "source": [
    "G = 6.67430e-11\n",
    "\n",
    "M = float(input(\"Enter planet mass (kg): \"))\n",
    "R = float(input(\"Enter planet radius (m): \"))\n",
    "\n",
    "ve = (2 * G * M / R) ** 0.5\n",
    "\n",
    "ve_km_s = ve / 1000\n",
    "\n",
    "print(f\"Escape velocity: {ve_km_s:.3f} km/s\")\n"
   ]
  },
  {
   "cell_type": "markdown",
   "id": "f8fd90d5",
   "metadata": {},
   "source": [
    "A spaceship travels at speed $v$ as a fraction of the speed of light $c$. The time dilation factor $\\gamma$ is given by\n",
    "$$\n",
    "\\gamma = \\frac{1}{\\sqrt{1-\\frac{v^2}{c^2}}}\n",
    "$$\n",
    "Given the time interval measured on the spaceship t_0 (proper time), clculate the time interval $t$ observed from Earth $t = \\gamma t_0$\n",
    "\n",
    "Input the speed $v$ as a decimal fraction of $c$ (e.g., 0.9 for 90% of the speed of light). Use an f-string to output the answer with appropriate decimal places.\n",
    "\n"
   ]
  },
  {
   "cell_type": "code",
   "execution_count": 25,
   "id": "de1ec9fb",
   "metadata": {},
   "outputs": [
    {
     "name": "stdout",
     "output_type": "stream",
     "text": [
      "Time observed from Earth: 2.2942\n"
     ]
    }
   ],
   "source": [
    "c = 1.0\n",
    "\n",
    "# Inputs\n",
    "v = float(input(\"Enter speed as fraction of c (e.g. 0.9): \"))\n",
    "t0 = float(input(\"Enter proper time interval t0 (e.g. seconds): \"))\n",
    "\n",
    "gamma = 1 / (1 - (v ** 2) / (c ** 2)) ** 0.5\n",
    "\n",
    "t = gamma * t0\n",
    "\n",
    "print(f\"Time observed from Earth: {t:.4f}\")\n"
   ]
  },
  {
   "cell_type": "markdown",
   "id": "4e44a71d",
   "metadata": {},
   "source": [
    "#### 8. Wrap around using modulus"
   ]
  },
  {
   "cell_type": "markdown",
   "id": "7edd5a0b",
   "metadata": {},
   "source": [
    "Write a program that:\n",
    "\n",
    "1. Asks the user to enter the current hour on a 12-hour clock (0 to 11).\n",
    "\n",
    "2. Asks the user how many hours to add (can be positive or negative).\n",
    "\n",
    "3. Calculates and prints the new hour after adding, correctly wrapping around the clock using modulus %."
   ]
  },
  {
   "cell_type": "code",
   "execution_count": 26,
   "id": "5eb7c644",
   "metadata": {},
   "outputs": [
    {
     "name": "stdout",
     "output_type": "stream",
     "text": [
      "The new hour is: 2\n"
     ]
    }
   ],
   "source": [
    "current_hour = int(input(\"Enter the current hour (0-11): \"))\n",
    "\n",
    "hours_to_add = int(input(\"Enter hours to add (can be negative): \"))\n",
    "\n",
    "new_hour = (current_hour + hours_to_add) % 12\n",
    "\n",
    "print(f\"The new hour is: {new_hour}\")\n"
   ]
  },
  {
   "cell_type": "markdown",
   "id": "99d87069",
   "metadata": {},
   "source": [
    "#### 9. Secret Message"
   ]
  },
  {
   "cell_type": "markdown",
   "id": "33542eb3",
   "metadata": {},
   "source": [
    "You're given the following encrypted string:"
   ]
  },
  {
   "cell_type": "code",
   "execution_count": 48,
   "id": "3fba54ea",
   "metadata": {},
   "outputs": [],
   "source": [
    "cipher = \"ckqnv%nkkdg\""
   ]
  },
  {
   "cell_type": "markdown",
   "id": "b874c747",
   "metadata": {},
   "source": [
    "The message has been encrypted in multiple layers:\n",
    "\n",
    "1. Reverse the cipher\n",
    "\n",
    "2. Replacing `%` with a space\n",
    "\n",
    "4. Shifting each letter 1 letter forward in the alphabet\n",
    "\n",
    "Join the characters into a final message."
   ]
  },
  {
   "cell_type": "code",
   "execution_count": 49,
   "id": "46acf9d6",
   "metadata": {},
   "outputs": [
    {
     "name": "stdout",
     "output_type": "stream",
     "text": [
      "hello world\n"
     ]
    }
   ],
   "source": [
    "# Step 1: Reverse\n",
    "rev_cipher = cipher[::-1]  # \"gdkkn%vnqkc\"\n",
    "\n",
    "# Step 2: Replace '%' with space\n",
    "step1 = rev_cipher.replace('%', ' ')\n",
    "\n",
    "# Step 3: Shift each letter forward by 1\n",
    "\n",
    "c0 = chr(ord(step1[0]) + 1)  # g->h\n",
    "c1 = chr(ord(step1[1]) + 1)  # d->e\n",
    "c2 = chr(ord(step1[2]) + 1)  # k->l\n",
    "c3 = chr(ord(step1[3]) + 1)  # k->l\n",
    "c4 = chr(ord(step1[4]) + 1)  # n->o\n",
    "c5 = step1[5]                # space\n",
    "c6 = chr(ord(step1[6]) + 1)  # v->w\n",
    "c7 = chr(ord(step1[7]) + 1)  # n->o\n",
    "c8 = chr(ord(step1[8]) + 1)  # q->r\n",
    "c9 = chr(ord(step1[9]) + 1)  # k->l\n",
    "c10 = chr(ord(step1[10]) + 1) # c->d\n",
    "\n",
    "decoded = c0 + c1 + c2 + c3 + c4 + c5 + c6 + c7 + c8 + c9 + c10\n",
    "\n",
    "print(decoded)\n"
   ]
  }
 ],
 "metadata": {
  "kernelspec": {
   "display_name": "testing_URs",
   "language": "python",
   "name": "testing_urs"
  },
  "language_info": {
   "codemirror_mode": {
    "name": "ipython",
    "version": 3
   },
   "file_extension": ".py",
   "mimetype": "text/x-python",
   "name": "python",
   "nbconvert_exporter": "python",
   "pygments_lexer": "ipython3",
   "version": "3.12.2"
  }
 },
 "nbformat": 4,
 "nbformat_minor": 5
}
