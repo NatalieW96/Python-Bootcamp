{
 "cells": [
  {
   "cell_type": "markdown",
   "id": "796f3892",
   "metadata": {},
   "source": [
    "# Practical Session 2: Python Basics"
   ]
  },
  {
   "cell_type": "markdown",
   "id": "2253f9b8",
   "metadata": {},
   "source": [
    "Here we will go through some hands-on exercises on Python basics as covered in the lecture. Please ask questions as needed, chat to the people near you, and use the lecture slides to help you."
   ]
  },
  {
   "cell_type": "markdown",
   "id": "6b86a843",
   "metadata": {},
   "source": [
    "### Using Jupyter"
   ]
  },
  {
   "cell_type": "markdown",
   "id": "5bda6856",
   "metadata": {},
   "source": [
    "We will do our coding in Jupyter notebooks. These can be ran and edited on Google collab, or downloaded and worked on offline if you have Jupyter downloaded.\n",
    "\n",
    "Code in Jupyter is entered into *cells* (you can add cells at the top of the page), and ran with `shift`+`Enter`. Interact with it! Add as many cells as needed, copy and paste parts of the lecture and run them to better understand the code. Change variables in the examples, add lines and run it. Coding is a practical application and is best learnt through doing.\n",
    "\n",
    "**Important**: What was ran and defined in the cells is remembered! Careful of overwriting things or running cells in weird orders. You can restart the notebook from scratch using 'restart kernel' at the top of the page."
   ]
  },
  {
   "cell_type": "markdown",
   "id": "09a8f1b5",
   "metadata": {},
   "source": [
    "## 1. Printing and comments"
   ]
  },
  {
   "cell_type": "markdown",
   "id": "32d0e3a1",
   "metadata": {},
   "source": [
    "#### 1.1 Print your name and a short message using the `print()` function"
   ]
  },
  {
   "cell_type": "code",
   "execution_count": null,
   "id": "1be67e42",
   "metadata": {},
   "outputs": [],
   "source": []
  },
  {
   "cell_type": "markdown",
   "id": "841f4809",
   "metadata": {},
   "source": [
    "##### Add a comment above explaining what your code does"
   ]
  },
  {
   "cell_type": "markdown",
   "id": "4a94b2bf",
   "metadata": {},
   "source": [
    "## 2. Variables and Data Types"
   ]
  },
  {
   "cell_type": "markdown",
   "id": "aa132e74",
   "metadata": {},
   "source": [
    "#### 2.1 Create a a string `name` and integer `age` to store your name and age."
   ]
  },
  {
   "cell_type": "code",
   "execution_count": null,
   "id": "4993d7d0",
   "metadata": {},
   "outputs": [],
   "source": []
  },
  {
   "cell_type": "markdown",
   "id": "f3eadb2c",
   "metadata": {},
   "source": [
    "#### 2.2 Create a float `height` and a boolean `is_student` for your height and student status"
   ]
  },
  {
   "cell_type": "code",
   "execution_count": null,
   "id": "98d1c36d",
   "metadata": {},
   "outputs": [],
   "source": []
  },
  {
   "cell_type": "markdown",
   "id": "bdd2c174",
   "metadata": {},
   "source": [
    "#### 2.3 Use `print` to output all your variables"
   ]
  },
  {
   "cell_type": "code",
   "execution_count": null,
   "id": "8dbf3e09",
   "metadata": {},
   "outputs": [],
   "source": []
  },
  {
   "cell_type": "markdown",
   "id": "a67b9ac6",
   "metadata": {},
   "source": [
    "#### 2.4 Print the data type of each variable to check they are all as expected"
   ]
  },
  {
   "cell_type": "code",
   "execution_count": null,
   "id": "516f8902",
   "metadata": {},
   "outputs": [],
   "source": []
  },
  {
   "cell_type": "markdown",
   "id": "f6a5af2d",
   "metadata": {},
   "source": [
    "#### 2.5 Convert age to a `float`, height to an `int` and `is_student` to an `int`. Then print their values and data types again."
   ]
  },
  {
   "cell_type": "code",
   "execution_count": null,
   "id": "d5d72ad4",
   "metadata": {},
   "outputs": [],
   "source": []
  },
  {
   "cell_type": "markdown",
   "id": "8d785eb9",
   "metadata": {},
   "source": [
    "## 3. Operations"
   ]
  },
  {
   "cell_type": "markdown",
   "id": "429cf0e9",
   "metadata": {},
   "source": [
    "#### 3.1 Define two variables `a` and `b` and perform\n",
    "- Addition\n",
    "- Subtraction\n",
    "- Multiplication\n",
    "- Division\n",
    "- Modulus\n",
    "- Floor Division\n",
    "- Power"
   ]
  },
  {
   "cell_type": "code",
   "execution_count": null,
   "id": "610d08f2",
   "metadata": {},
   "outputs": [],
   "source": []
  },
  {
   "cell_type": "markdown",
   "id": "269d4642",
   "metadata": {},
   "source": [
    "#### 3.2 Start with `x = 7`. Use assignment operators (`+=`, `*=`, etc) to transform it into:\n",
    "- 10\n",
    "- The double it\n",
    "- Then subtract 5\n",
    "- Then divide by 3\n",
    "\n",
    "Print the result"
   ]
  },
  {
   "cell_type": "code",
   "execution_count": null,
   "id": "254b6d8f",
   "metadata": {},
   "outputs": [],
   "source": []
  },
  {
   "cell_type": "markdown",
   "id": "30112cef",
   "metadata": {},
   "source": [
    "## 4. Conditional Operators"
   ]
  },
  {
   "cell_type": "markdown",
   "id": "811946de",
   "metadata": {},
   "source": [
    "#### 6.1 Write a code that compares your age to a friends with variables and `==`, `!=`, `>`, `<`"
   ]
  },
  {
   "cell_type": "code",
   "execution_count": null,
   "id": "00006a74",
   "metadata": {},
   "outputs": [],
   "source": []
  },
  {
   "cell_type": "markdown",
   "id": "15553057",
   "metadata": {},
   "source": [
    "#### 6.2 Try comparing a string to a number. What happens?"
   ]
  },
  {
   "cell_type": "code",
   "execution_count": null,
   "id": "13f04339",
   "metadata": {},
   "outputs": [],
   "source": []
  },
  {
   "cell_type": "markdown",
   "id": "31f8302d",
   "metadata": {},
   "source": [
    "## 5. Logical Operators"
   ]
  },
  {
   "cell_type": "markdown",
   "id": "fd979495",
   "metadata": {},
   "source": [
    "#### Before performing a spacewalk an astronauts suit must pass a safety check.\n",
    "The astronaut can only leave the spacecraft if:\n",
    "- The suit is sealed\n",
    "- The oxygen tank is full\n",
    "- And the helmet is on\n",
    "- And not experiencing a warning alert\n",
    "\n",
    "You are given the following variables:"
   ]
  },
  {
   "cell_type": "code",
   "execution_count": null,
   "id": "5228447e",
   "metadata": {},
   "outputs": [],
   "source": [
    "is_sealed = True\n",
    "oxygen_full = True\n",
    "helmet_on = False\n",
    "has_alert = True"
   ]
  },
  {
   "cell_type": "markdown",
   "id": "8bf50db3",
   "metadata": {},
   "source": [
    "#### Use logical operators and print() to check\n",
    "#### 5.1 Is the suit fully safe to exit in?"
   ]
  },
  {
   "cell_type": "code",
   "execution_count": null,
   "id": "6e66e845",
   "metadata": {},
   "outputs": [],
   "source": []
  },
  {
   "cell_type": "markdown",
   "id": "6eb7ac1e",
   "metadata": {},
   "source": [
    "#### 5.2 Is any one part of the suit setup not ready?"
   ]
  },
  {
   "cell_type": "code",
   "execution_count": null,
   "id": "3244ca70",
   "metadata": {},
   "outputs": [],
   "source": []
  },
  {
   "cell_type": "markdown",
   "id": "42e1cce7",
   "metadata": {},
   "source": [
    "## 6. Indexing and slicing strings"
   ]
  },
  {
   "cell_type": "markdown",
   "id": "5f54047f",
   "metadata": {},
   "source": [
    "You are given a planet and its corresponding code identifier"
   ]
  },
  {
   "cell_type": "code",
   "execution_count": null,
   "id": "966b89ba",
   "metadata": {},
   "outputs": [],
   "source": [
    "planet = \"Neptune\"\n",
    "code = \"NP-849X-Z2\""
   ]
  },
  {
   "cell_type": "markdown",
   "id": "07f74006",
   "metadata": {},
   "source": [
    "#### 6.1 Use indexing to extract:\n",
    "- The first letter of the planet\n",
    "- The last letter of the planet\n",
    "- The 3rd letter of the planet\n",
    "- The last character of the code\n",
    "- The 3rd character from the end of the code"
   ]
  },
  {
   "cell_type": "code",
   "execution_count": null,
   "id": "971fb9be",
   "metadata": {},
   "outputs": [],
   "source": []
  },
  {
   "cell_type": "markdown",
   "id": "c68ac0fb",
   "metadata": {},
   "source": [
    "#### 6.2 Use slicing to extract:\n",
    "- The first 4 letters of the planet\n",
    "- The planet name in reverse\n",
    "- Every second letter of the planet\n",
    "- The numeric part of the code (\"849\")\n",
    "- The letters only from the code (\"NPXZ\" — use slicing and `+`)"
   ]
  },
  {
   "cell_type": "code",
   "execution_count": null,
   "id": "739e0065",
   "metadata": {},
   "outputs": [],
   "source": []
  },
  {
   "cell_type": "markdown",
   "id": "1a50af75",
   "metadata": {},
   "source": [
    "## 7. String Methods"
   ]
  },
  {
   "cell_type": "markdown",
   "id": "98e46673",
   "metadata": {},
   "source": [
    "You are given the string"
   ]
  },
  {
   "cell_type": "code",
   "execution_count": null,
   "id": "db8f5dba",
   "metadata": {},
   "outputs": [],
   "source": [
    "sentence = \"  welcome to Python bootcamp!  \""
   ]
  },
  {
   "cell_type": "markdown",
   "id": "f398c8b6",
   "metadata": {},
   "source": [
    "#### 7.1 With this string:\n",
    "- Strip the whitespace\n",
    "- Convert it to upper-case\n",
    "- Replace `!` to `?`\n",
    "- Split the sentence into words"
   ]
  },
  {
   "cell_type": "code",
   "execution_count": null,
   "id": "19b890b6",
   "metadata": {},
   "outputs": [],
   "source": []
  },
  {
   "cell_type": "markdown",
   "id": "c48f7da2",
   "metadata": {},
   "source": [
    "## 8. Formatting Strings"
   ]
  },
  {
   "cell_type": "markdown",
   "id": "c5d4a137",
   "metadata": {},
   "source": [
    "You're writing the summary of a research experiement"
   ]
  },
  {
   "cell_type": "code",
   "execution_count": null,
   "id": "83141b35",
   "metadata": {},
   "outputs": [],
   "source": [
    "experiment = \"Thermal Conductivity Test\"\n",
    "material = \"Graphene\"\n",
    "temperature = 348.5678  # in Kelvin\n",
    "duration = 127.8  # in seconds\n",
    "samples = 12"
   ]
  },
  {
   "cell_type": "markdown",
   "id": "99196179",
   "metadata": {},
   "source": [
    "#### 8.1 Using f-strings, write a sentence to describe the full experiment using these variables, with temerature to 2 decimal places"
   ]
  },
  {
   "cell_type": "code",
   "execution_count": null,
   "id": "eb4f1e7d",
   "metadata": {},
   "outputs": [],
   "source": []
  },
  {
   "cell_type": "markdown",
   "id": "856c38b8",
   "metadata": {},
   "source": [
    "## 9. User input"
   ]
  },
  {
   "cell_type": "markdown",
   "id": "768874f8",
   "metadata": {},
   "source": [
    "#### 9.1 Ask the user to enter their name and favourite colour, where the code outputs `\"Hello [name], [colour] is a great choice!\"`"
   ]
  },
  {
   "cell_type": "code",
   "execution_count": null,
   "id": "72023a9d",
   "metadata": {},
   "outputs": [],
   "source": []
  },
  {
   "cell_type": "markdown",
   "id": "cb89071b",
   "metadata": {},
   "source": [
    "#### 9.2 Ask for a speed (in km/s) as input, and calculate how long it would take to reach the ISS, which is 400 km away.\n",
    "- Add a 2-second docking delay\n",
    "- Display the final ETA using an f-string"
   ]
  },
  {
   "cell_type": "code",
   "execution_count": null,
   "id": "26293f1f",
   "metadata": {},
   "outputs": [],
   "source": []
  },
  {
   "cell_type": "code",
   "execution_count": null,
   "id": "9b4f1cb4",
   "metadata": {},
   "outputs": [],
   "source": []
  }
 ],
 "metadata": {
  "kernelspec": {
   "display_name": "testing_URs",
   "language": "python",
   "name": "testing_urs"
  },
  "language_info": {
   "codemirror_mode": {
    "name": "ipython",
    "version": 3
   },
   "file_extension": ".py",
   "mimetype": "text/x-python",
   "name": "python",
   "nbconvert_exporter": "python",
   "pygments_lexer": "ipython3",
   "version": "3.12.2"
  }
 },
 "nbformat": 4,
 "nbformat_minor": 5
}
