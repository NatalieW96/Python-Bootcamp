{
 "cells": [
  {
   "cell_type": "markdown",
   "id": "542a11fe",
   "metadata": {},
   "source": [
    "# Practical Session 5: Functions"
   ]
  },
  {
   "cell_type": "markdown",
   "id": "0bcef850",
   "metadata": {},
   "source": [
    "### 1. Function basics\n",
    "\n",
    "Define a function `area_circle` that returns the area of a circle from a radius and test it."
   ]
  },
  {
   "cell_type": "code",
   "execution_count": 3,
   "id": "264d15d9",
   "metadata": {},
   "outputs": [
    {
     "data": {
      "text/plain": [
       "12.56636"
      ]
     },
     "execution_count": 3,
     "metadata": {},
     "output_type": "execute_result"
    }
   ],
   "source": [
    "def area_circle(radius):\n",
    "    pi = 3.14159\n",
    "    area = pi * radius ** 2\n",
    "    return area\n",
    "\n",
    "area_circle(2)"
   ]
  },
  {
   "cell_type": "markdown",
   "id": "1f4bd750",
   "metadata": {},
   "source": [
    "Define a function `fahrenheit_to_celsius(temp)` that converts from Fahrenheit to Celsius and test it."
   ]
  },
  {
   "cell_type": "code",
   "execution_count": 4,
   "id": "878056ba",
   "metadata": {},
   "outputs": [
    {
     "name": "stdout",
     "output_type": "stream",
     "text": [
      "37.0\n"
     ]
    }
   ],
   "source": [
    "def fahrenheit_to_celsius(temp):\n",
    "    celsius = (temp - 32) * 5 / 9\n",
    "    return celsius\n",
    "\n",
    "print(fahrenheit_to_celsius(98.6)) # 37.0"
   ]
  },
  {
   "cell_type": "markdown",
   "id": "5f856026",
   "metadata": {},
   "source": [
    "Define a function `greet_multiple(name1, name2)` that prints:\n",
    "```python\n",
    "Hello, name1 and name2!\n",
    "```\n"
   ]
  },
  {
   "cell_type": "code",
   "execution_count": 5,
   "id": "45fe1b1e",
   "metadata": {},
   "outputs": [
    {
     "name": "stdout",
     "output_type": "stream",
     "text": [
      "Hello, Alice and Bob!\n"
     ]
    }
   ],
   "source": [
    "def greet_multiple(name1, name2):\n",
    "    print(f\"Hello, {name1} and {name2}!\")\n",
    "\n",
    "greet_multiple(\"Alice\", \"Bob\")"
   ]
  },
  {
   "cell_type": "markdown",
   "id": "2b99aa3a",
   "metadata": {},
   "source": [
    "### 2. Keyword and default parameters"
   ]
  },
  {
   "cell_type": "markdown",
   "id": "149f49c2",
   "metadata": {},
   "source": [
    "Build a function `accretion_luminosity(M, Mdot, R)`, which returns the accretion luminosity onto a compact object:\n",
    "$$\n",
    "L=\\frac{GM\\dot{M}}{R}\n",
    "$$\n",
    "where $L$ is the luminosity, $G$ is the gravitational constant, $M$ is the mass of the compact object, $\\dot{M}$ is the accretion rate and $R$ is the radius of the compact object. Include an appropriate docstring which includes the inputs, outputs and purpose of the function. Test the function and print the docstring."
   ]
  },
  {
   "cell_type": "code",
   "execution_count": 6,
   "id": "9a7ea23d",
   "metadata": {},
   "outputs": [
    {
     "name": "stdout",
     "output_type": "stream",
     "text": [
      "Accretion luminosity: 1.907e+28 W\n",
      "\n",
      "    Calculate the accretion luminosity onto a compact object.\n",
      "\n",
      "    Parameters:\n",
      "    M (float): Mass of the compact object (in kg)\n",
      "    Mdot (float): Accretion rate (mass per unit time, in kg/s)\n",
      "    R (float): Radius of the compact object (in meters)\n",
      "\n",
      "    Returns:\n",
      "    float: Accretion luminosity (in watts)\n",
      "\n",
      "    Formula:\n",
      "    L = (G * M * Mdot) / R\n",
      "    where G is the gravitational constant (6.67430e-11 m^3 kg^-1 s^-2)\n",
      "    \n"
     ]
    }
   ],
   "source": [
    "def accretion_luminosity(M, Mdot, R):\n",
    "    \"\"\"\n",
    "    Calculate the accretion luminosity onto a compact object.\n",
    "\n",
    "    Parameters:\n",
    "    M (float): Mass of the compact object (in kg)\n",
    "    Mdot (float): Accretion rate (mass per unit time, in kg/s)\n",
    "    R (float): Radius of the compact object (in meters)\n",
    "\n",
    "    Returns:\n",
    "    float: Accretion luminosity (in watts)\n",
    "\n",
    "    Formula:\n",
    "    L = (G * M * Mdot) / R\n",
    "    where G is the gravitational constant (6.67430e-11 m^3 kg^-1 s^-2)\n",
    "    \"\"\"\n",
    "    G = 6.67430e-11  # gravitational constant in SI units\n",
    "    L = (G * M * Mdot) / R\n",
    "    return L\n",
    "\n",
    "# Test the function\n",
    "mass = 2e30       # mass in kg (e.g. approx mass of Sun)\n",
    "accretion_rate = 1e17  # accretion rate in kg/s\n",
    "radius = 7e8      # radius in meters (e.g. approx radius of Sun)\n",
    "\n",
    "luminosity = accretion_luminosity(mass, accretion_rate, radius)\n",
    "print(f\"Accretion luminosity: {luminosity:.3e} W\")\n",
    "\n",
    "# Print the docstring\n",
    "print(accretion_luminosity.__doc__)\n"
   ]
  },
  {
   "cell_type": "markdown",
   "id": "c16fa98e",
   "metadata": {},
   "source": [
    "Now add a default keyword parameter `efficiency=1.0`, and modify the calculation to include efficiency"
   ]
  },
  {
   "cell_type": "code",
   "execution_count": 7,
   "id": "d85e1c49",
   "metadata": {},
   "outputs": [
    {
     "name": "stdout",
     "output_type": "stream",
     "text": [
      "Accretion luminosity with efficiency=0.3: 5.721e+27 W\n"
     ]
    }
   ],
   "source": [
    "def accretion_luminosity(M, Mdot, R, efficiency=1.0):\n",
    "    \"\"\"\n",
    "    Calculate the accretion luminosity onto a compact object.\n",
    "\n",
    "    Parameters:\n",
    "    M (float): Mass of the compact object (in kg)\n",
    "    Mdot (float): Accretion rate (mass per unit time, in kg/s)\n",
    "    R (float): Radius of the compact object (in meters)\n",
    "    efficiency (float, optional): Efficiency factor (default is 1.0)\n",
    "\n",
    "    Returns:\n",
    "    float: Accretion luminosity (in watts)\n",
    "\n",
    "    Formula:\n",
    "    L = efficiency * (G * M * Mdot) / R\n",
    "    where G is the gravitational constant (6.67430e-11 m^3 kg^-1 s^-2)\n",
    "    \"\"\"\n",
    "    G = 6.67430e-11  # gravitational constant in SI units\n",
    "    L = efficiency * (G * M * Mdot) / R\n",
    "    return L\n",
    "\n",
    "# Test with efficiency\n",
    "luminosity_eff = accretion_luminosity(mass, accretion_rate, radius, efficiency=0.3)\n",
    "print(f\"Accretion luminosity with efficiency=0.3: {luminosity_eff:.3e} W\")\n"
   ]
  },
  {
   "cell_type": "markdown",
   "id": "634ba17f",
   "metadata": {},
   "source": [
    "Add a default flag `relativistic=False`, which is `True` applies the correction\n",
    "$$\n",
    "L\\rightarrow L \\bigg( 1-\\frac{2GM}{Rc^2}\\bigg)^{-1}"
   ]
  },
  {
   "cell_type": "code",
   "execution_count": 8,
   "id": "f2d04078",
   "metadata": {},
   "outputs": [
    {
     "name": "stdout",
     "output_type": "stream",
     "text": [
      "Non-relativistic luminosity: 1.335e+33 W\n",
      "Relativistic corrected luminosity: 5.697e+32 W\n"
     ]
    }
   ],
   "source": [
    "def accretion_luminosity(M, Mdot, R, efficiency=1.0, relativistic=False):\n",
    "    \"\"\"\n",
    "    Calculate the accretion luminosity onto a compact object.\n",
    "\n",
    "    Parameters:\n",
    "    M (float): Mass of the compact object (in kg)\n",
    "    Mdot (float): Accretion rate (mass per unit time, in kg/s)\n",
    "    R (float): Radius of the compact object (in meters)\n",
    "    efficiency (float, optional): Efficiency factor (default is 1.0)\n",
    "    relativistic (bool, optional): If True, apply relativistic correction (default is False)\n",
    "\n",
    "    Returns:\n",
    "    float: Accretion luminosity (in watts)\n",
    "\n",
    "    Formula:\n",
    "    L = efficiency * (G * M * Mdot) / R\n",
    "    If relativistic is True:\n",
    "    L -> L * (1 - 2GM / (R c^2))^-1\n",
    "    \"\"\"\n",
    "    G = 6.67430e-11  # gravitational constant in SI units\n",
    "    c = 2.99792458e8  # speed of light in m/s\n",
    "    \n",
    "    L = efficiency * (G * M * Mdot) / R\n",
    "    \n",
    "    if relativistic:\n",
    "        correction_factor = 1 - (2 * G * M) / (R * c**2)\n",
    "        if correction_factor <= 0:\n",
    "            raise ValueError(\"Relativistic correction factor <= 0, check parameters.\")\n",
    "        L /= correction_factor\n",
    "    \n",
    "    return L\n",
    "\n",
    "# Example test:\n",
    "mass = 2e30          # kg (roughly solar mass)\n",
    "accretion_rate = 1e17  # kg/s\n",
    "radius = 1e4         # meters\n",
    "\n",
    "luminosity_non_rel = accretion_luminosity(mass, accretion_rate, radius)\n",
    "luminosity_rel = accretion_luminosity(mass, accretion_rate, radius, efficiency=0.3, relativistic=True)\n",
    "\n",
    "print(f\"Non-relativistic luminosity: {luminosity_non_rel:.3e} W\")\n",
    "print(f\"Relativistic corrected luminosity: {luminosity_rel:.3e} W\")\n"
   ]
  },
  {
   "cell_type": "markdown",
   "id": "6dec1055",
   "metadata": {},
   "source": [
    "Add `*args` to allow for multiple accretion rates to be passed such as \n",
    "```python\n",
    "accretion_luminosity(M, *Mdot_values, R=R, efficiency=0.1)\n",
    "```\n",
    "Return a list of luminosities, one for each accretion rate."
   ]
  },
  {
   "cell_type": "code",
   "execution_count": 9,
   "id": "c6049d12",
   "metadata": {},
   "outputs": [
    {
     "name": "stdout",
     "output_type": "stream",
     "text": [
      "Luminosity for accretion rate 1.0e+17 kg/s: 1.899e+32 W\n",
      "Luminosity for accretion rate 5.0e+17 kg/s: 9.495e+32 W\n",
      "Luminosity for accretion rate 1.0e+18 kg/s: 1.899e+33 W\n"
     ]
    }
   ],
   "source": [
    "def accretion_luminosity(M, *Mdot_values, R, efficiency=1.0, relativistic=False):\n",
    "    \"\"\"\n",
    "    Calculate accretion luminosities for multiple accretion rates onto a compact object.\n",
    "\n",
    "    Parameters:\n",
    "    M (float): Mass of the compact object (in kg)\n",
    "    *Mdot_values (float): One or more accretion rates (kg/s)\n",
    "    R (float): Radius of the compact object (in meters)\n",
    "    efficiency (float, optional): Efficiency factor (default is 1.0)\n",
    "    relativistic (bool, optional): If True, apply relativistic correction (default is False)\n",
    "\n",
    "    Returns:\n",
    "    list of float: List of accretion luminosities (in watts) corresponding to each accretion rate\n",
    "    \"\"\"\n",
    "    G = 6.67430e-11  # gravitational constant (SI units)\n",
    "    c = 2.99792458e8  # speed of light (m/s)\n",
    "    \n",
    "    luminosities = []\n",
    "    for Mdot in Mdot_values:\n",
    "        L = efficiency * (G * M * Mdot) / R\n",
    "        \n",
    "        if relativistic:\n",
    "            correction_factor = 1 - (2 * G * M) / (R * c**2)\n",
    "            if correction_factor <= 0:\n",
    "                raise ValueError(\"Relativistic correction factor <= 0, check parameters.\")\n",
    "            L /= correction_factor\n",
    "        \n",
    "        luminosities.append(L)\n",
    "    \n",
    "    return luminosities\n",
    "\n",
    "# Test with multiple accretion rates\n",
    "mass = 2e30\n",
    "radius = 1e4\n",
    "mdots = [1e17, 5e17, 1e18]\n",
    "\n",
    "results = accretion_luminosity(mass, *mdots, R=radius, efficiency=0.1, relativistic=True)\n",
    "for i, lum in enumerate(results, 1):\n",
    "    print(f\"Luminosity for accretion rate {mdots[i-1]:.1e} kg/s: {lum:.3e} W\")\n"
   ]
  },
  {
   "cell_type": "markdown",
   "id": "8c89314c",
   "metadata": {},
   "source": [
    "Add `**kwargs` to accept parameters in a dictionary e.g.\n",
    "```python\n",
    "bh = {\n",
    "    \"M\": 5e30,\n",
    "    \"Mdot\": 1e12,\n",
    "    \"R\": 1e4,\n",
    "    \"efficiency\": 0.1,\n",
    "    \"relativistic\": True\n",
    "}\n",
    "accretion_luminosity(**bh)\n",
    "```"
   ]
  },
  {
   "cell_type": "code",
   "execution_count": 10,
   "id": "062baad7",
   "metadata": {},
   "outputs": [
    {
     "name": "stdout",
     "output_type": "stream",
     "text": [
      "Luminosity: 1.297e+28 W\n"
     ]
    }
   ],
   "source": [
    "def accretion_luminosity(M, *Mdot_values, R, efficiency=1.0, relativistic=False, **kwargs):\n",
    "    \"\"\"\n",
    "    Calculate accretion luminosities for multiple accretion rates onto a compact object.\n",
    "\n",
    "    Parameters:\n",
    "    M (float): Mass of the compact object (in kg)\n",
    "    *Mdot_values (float): One or more accretion rates (kg/s)\n",
    "    R (float): Radius of the compact object (in meters)\n",
    "    efficiency (float, optional): Efficiency factor (default is 1.0)\n",
    "    relativistic (bool, optional): If True, apply relativistic correction (default is False)\n",
    "    **kwargs: Additional keyword arguments (ignored)\n",
    "\n",
    "    Returns:\n",
    "    list of float: List of accretion luminosities (in watts) corresponding to each accretion rate\n",
    "    \"\"\"\n",
    "    G = 6.67430e-11  # gravitational constant (SI units)\n",
    "    c = 2.99792458e8  # speed of light (m/s)\n",
    "\n",
    "    # If no Mdot passed in *Mdot_values, check if Mdot is in kwargs\n",
    "    if not Mdot_values:\n",
    "        if \"Mdot\" in kwargs:\n",
    "            Mdot_values = (kwargs[\"Mdot\"],)\n",
    "        else:\n",
    "            raise ValueError(\"No accretion rate(s) provided\")\n",
    "\n",
    "    luminosities = []\n",
    "    for Mdot in Mdot_values:\n",
    "        L = efficiency * (G * M * Mdot) / R\n",
    "\n",
    "        if relativistic:\n",
    "            correction_factor = 1 - (2 * G * M) / (R * c**2)\n",
    "            if correction_factor <= 0:\n",
    "                raise ValueError(\"Relativistic correction factor <= 0, check parameters.\")\n",
    "            L /= correction_factor\n",
    "\n",
    "        luminosities.append(L)\n",
    "\n",
    "    return luminosities\n",
    "\n",
    "\n",
    "# Example usage with dictionary\n",
    "bh = {\n",
    "    \"M\": 5e30,\n",
    "    \"Mdot\": 1e12,\n",
    "    \"R\": 1e4,\n",
    "    \"efficiency\": 0.1,\n",
    "    \"relativistic\": True\n",
    "}\n",
    "\n",
    "luminosities = accretion_luminosity(**bh)\n",
    "print(f\"Luminosity: {luminosities[0]:.3e} W\")\n"
   ]
  },
  {
   "cell_type": "markdown",
   "id": "68d7e20e",
   "metadata": {},
   "source": [
    "### 3. Local and global variables"
   ]
  },
  {
   "cell_type": "markdown",
   "id": "e92fa62e",
   "metadata": {},
   "source": [
    "You're simulating the energy of a bouncing ball. You want to track the total elapsed simulation time and energy. You have global variables `energy` and `time`\n",
    "\n",
    "```python\n",
    "energy = 10.0   # initial energy in joules\n",
    "time = 0.0      # total time elapsed in seconds\n",
    "```\n",
    "\n",
    "You track energy and time with this function:\n",
    "```python\n",
    "def simulate_step(dt):\n",
    "    \"\"\"\n",
    "    Simulate a single time step.\n",
    "    \n",
    "    Parameters:\n",
    "        dt (float): duration of time step in seconds.\n",
    "    \"\"\"\n",
    "    time = time + dt\n",
    "    energy = energy - 0.5 * dt\n",
    "    print(f\"Time: {time:.2f} s, Energy: {energy:.2f} J\")\n",
    "```\n",
    "\n",
    "Run this function after assigning your global variables. What happens? Without passing any extra arguments to `simulate_step` and using your global variables, fix this function."
   ]
  },
  {
   "cell_type": "code",
   "execution_count": 12,
   "id": "90fcf662",
   "metadata": {},
   "outputs": [
    {
     "name": "stdout",
     "output_type": "stream",
     "text": [
      "Time: 1.00 s, Energy: 9.50 J\n",
      "Time: 3.00 s, Energy: 8.50 J\n"
     ]
    }
   ],
   "source": [
    "def simulate_step(dt):\n",
    "    \"\"\"\n",
    "    Simulate a single time step.\n",
    "    \n",
    "    Parameters:\n",
    "        dt (float): duration of time step in seconds.\n",
    "    \"\"\"\n",
    "    global time, energy  # refer to the global variables\n",
    "    \n",
    "    time = time + dt\n",
    "    energy = energy - 0.5 * dt\n",
    "    print(f\"Time: {time:.2f} s, Energy: {energy:.2f} J\")\n",
    "\n",
    "energy = 10.0\n",
    "time = 0.0\n",
    "\n",
    "simulate_step(1.0)\n",
    "simulate_step(2.0)"
   ]
  },
  {
   "cell_type": "markdown",
   "id": "93ab46f4",
   "metadata": {},
   "source": [
    "Does using global variables for both `time` and `energy` seem like a good idea? What happens if we want to simulate two balls? If we run the cell twice by accident does it behave predictably?\n",
    "\n",
    "Reflecting upon these questions we may decide to keep time global, but make `energy` local. Change your function to reflect this."
   ]
  },
  {
   "cell_type": "code",
   "execution_count": 13,
   "id": "973c9c03",
   "metadata": {},
   "outputs": [
    {
     "name": "stdout",
     "output_type": "stream",
     "text": [
      "Time: 1.00 s, Energy: 9.50 J\n",
      "Time: 3.00 s, Energy: 8.50 J\n"
     ]
    }
   ],
   "source": [
    "energy = 10.0   # initial energy for a ball\n",
    "time = 0.0      # total simulation time\n",
    "\n",
    "def simulate_step(dt, energy):\n",
    "    \"\"\"\n",
    "    Simulate a single time step.\n",
    "    \n",
    "    Parameters:\n",
    "        dt (float): duration of time step in seconds.\n",
    "        energy (float): current energy of the ball.\n",
    "        \n",
    "    Returns:\n",
    "        float: updated energy after the time step.\n",
    "    \"\"\"\n",
    "    global time\n",
    "    time += dt  # update global time\n",
    "    \n",
    "    energy = energy - 0.5 * dt  # update local energy\n",
    "    \n",
    "    print(f\"Time: {time:.2f} s, Energy: {energy:.2f} J\")\n",
    "    \n",
    "    return energy\n",
    "\n",
    "# Example usage:\n",
    "energy = simulate_step(1.0, energy)\n",
    "energy = simulate_step(2.0, energy)\n"
   ]
  },
  {
   "cell_type": "markdown",
   "id": "d7aa1ee2",
   "metadata": {},
   "source": [
    "### 4. Loops and functions"
   ]
  },
  {
   "cell_type": "markdown",
   "id": "3302bce7",
   "metadata": {},
   "source": [
    "Create a function `simulate_orbit` which takes arguments as\n",
    "```python\n",
    "def simulate_orbit(\n",
    "    r,                     # Orbital radius (m)\n",
    "    M,                     # Mass of central star (kg)\n",
    "    steps=100,             # Number of steps in simulation\n",
    "    G=6.67430e-11,         # Gravitational constant (default value)\n",
    "    return_period=True     # Whether to return the period\n",
    "):\n",
    "```\n",
    "and has docstring\n",
    "```python\n",
    "    \"\"\"\n",
    "    Simulate the x, y positions of a planet in circular orbit.\n",
    "\n",
    "    Parameters:\n",
    "        r (float): Orbital radius in meters.\n",
    "        M (float): Mass of the star in kg.\n",
    "        steps (int, optional): Number of time steps. Default is 100.\n",
    "        G (float, optional): Gravitational constant. Default is 6.67430e-11.\n",
    "        return_period (bool, optional): Whether to return orbital period.\n",
    "\n",
    "    Returns:\n",
    "        list of tuple: x, y positions at each time step.\n",
    "        float (optional): Orbital period in seconds.\n",
    "    \"\"\"\n",
    "```\n",
    "Use the formulae:\n",
    "- Orbital speed $v = \\sqrt{\\frac{GM}{r}}$\n",
    "- Orbital period $T=\\frac{2\\pi r}{v}$\n",
    "- Position at time $t$: $x = r\\cos (\\omega t), y = r\\sin (\\omega t)$ where $\\omega = \\frac{2\\pi}{T}$\n",
    "\n",
    "Use a loop to calculate the x,y positions at each timestep. Check your function gives sensible values with an Earth-Sun system. Below functions fobasic maths routines are provided:\n",
    "\n",
    "```python\n",
    "# Define own math functions\n",
    "def sqrt(x):\n",
    "    # Newton's method for square root\n",
    "    guess = x / 2.0\n",
    "    for _ in range(10):\n",
    "        guess = (guess + x / guess) / 2\n",
    "    return guess\n",
    "\n",
    "def cos(theta):\n",
    "    # Use Taylor expansion for cosine around 0 up to 5 terms\n",
    "    # theta in radians\n",
    "    result = 1\n",
    "    term = 1\n",
    "    sign = -1\n",
    "    for i in range(1, 6):\n",
    "        term = term * theta * theta / ((2*i-1)*2*i)\n",
    "        result += sign * term\n",
    "        sign *= -1\n",
    "    return result\n",
    "\n",
    "def sin(theta):\n",
    "    # Use Taylor expansion for sine around 0 up to 5 terms\n",
    "    # theta in radians\n",
    "    result = 0\n",
    "    term = theta\n",
    "    sign = 1\n",
    "    for i in range(1, 6):\n",
    "        result += sign * term\n",
    "        term = term * theta * theta / ((2*i)*(2*i+1))\n",
    "        sign *= -1\n",
    "    return result\n",
    "\n",
    "def pi():\n",
    "    # Use Leibniz series for pi approximation (10000 terms)\n",
    "    pi_val = 0\n",
    "    for i in range(10000):\n",
    "        pi_val += ((-1)**i) / (2*i + 1)\n",
    "    return 4 * pi_val\n",
    "```"
   ]
  },
  {
   "cell_type": "code",
   "execution_count": 1,
   "id": "13be5c32",
   "metadata": {},
   "outputs": [
    {
     "name": "stdout",
     "output_type": "stream",
     "text": [
      "Orbital period (seconds): 2.17e+06\n",
      "Orbital period (days): 25.07\n",
      "First 5 positions:\n",
      "(149600000000.0, 0.0)\n",
      "(149304817359.4942, 9393163111.970072)\n",
      "(148420434314.86533, 18749258059.63409)\n",
      "(146950340899.8343, 28031362960.485744)\n",
      "(144900338532.26263, 37202847918.34827)\n"
     ]
    }
   ],
   "source": [
    "def simulate_orbit(\n",
    "    r,                     # Orbital radius (m)\n",
    "    M,                     # Mass of central star (kg)\n",
    "    steps=100,             # Number of steps in simulation\n",
    "    G=6.67430e-11,         # Gravitational constant (default value)\n",
    "    return_period=True     # Whether to return orbital period\n",
    "):\n",
    "    \"\"\"\n",
    "    Simulate the x, y positions of a planet in circular orbit.\n",
    "\n",
    "    Parameters:\n",
    "        r (float): Orbital radius in meters.\n",
    "        M (float): Mass of the star in kg.\n",
    "        steps (int, optional): Number of time steps. Default is 100.\n",
    "        G (float, optional): Gravitational constant. Default is 6.67430e-11.\n",
    "        return_period (bool, optional): Whether to return orbital period.\n",
    "\n",
    "    Returns:\n",
    "        list of tuple: x, y positions at each time step.\n",
    "        float (optional): Orbital period in seconds.\n",
    "    \"\"\"\n",
    "    # Define own math functions\n",
    "    def sqrt(x):\n",
    "        # Newton's method for square root\n",
    "        guess = x / 2.0\n",
    "        for _ in range(10):\n",
    "            guess = (guess + x / guess) / 2\n",
    "        return guess\n",
    "    \n",
    "    def cos(theta):\n",
    "        # Use Taylor expansion for cosine around 0 up to 5 terms\n",
    "        # theta in radians\n",
    "        result = 1\n",
    "        term = 1\n",
    "        sign = -1\n",
    "        for i in range(1, 6):\n",
    "            term = term * theta * theta / ((2*i-1)*2*i)\n",
    "            result += sign * term\n",
    "            sign *= -1\n",
    "        return result\n",
    "\n",
    "    def sin(theta):\n",
    "        # Use Taylor expansion for sine around 0 up to 5 terms\n",
    "        # theta in radians\n",
    "        result = 0\n",
    "        term = theta\n",
    "        sign = 1\n",
    "        for i in range(1, 6):\n",
    "            result += sign * term\n",
    "            term = term * theta * theta / ((2*i)*(2*i+1))\n",
    "            sign *= -1\n",
    "        return result\n",
    "\n",
    "    def pi():\n",
    "        # Use Leibniz series for pi approximation (10000 terms)\n",
    "        pi_val = 0\n",
    "        for i in range(10000):\n",
    "            pi_val += ((-1)**i) / (2*i + 1)\n",
    "        return 4 * pi_val\n",
    "\n",
    "    pi_val = pi()\n",
    "    v = sqrt(G * M / r)\n",
    "    T = 2 * pi_val * r / v\n",
    "    omega = 2 * pi_val / T\n",
    "\n",
    "    positions = []\n",
    "    dt = T / steps\n",
    "\n",
    "    for step in range(steps):\n",
    "        t = step * dt\n",
    "        x = r * cos(omega * t)\n",
    "        y = r * sin(omega * t)\n",
    "        positions.append((x, y))\n",
    "\n",
    "    if return_period:\n",
    "        return positions, T\n",
    "    else:\n",
    "        return positions\n",
    "\n",
    "\n",
    "# Example usage (Earth-Sun)\n",
    "positions, period = simulate_orbit(1.496e11, 1.989e30)\n",
    "print(f\"Orbital period (seconds): {period:.2e}\")\n",
    "print(f\"Orbital period (days): {period / (3600*24):.2f}\")\n",
    "print(\"First 5 positions:\")\n",
    "for pos in positions[:5]:\n",
    "    print(pos)\n",
    "\n"
   ]
  },
  {
   "cell_type": "markdown",
   "id": "18986b85",
   "metadata": {},
   "source": [
    "### 5. Nested functions"
   ]
  },
  {
   "cell_type": "markdown",
   "id": "8de681a7",
   "metadata": {},
   "source": [
    "Write a main function called `calculate_total(cart, discount_codes=None)` which calculates the total of `cart` which contains a list of tuples `(price, discount_code)` for a given dictionary of known `discount_codes`.\n",
    "\n",
    "The main function should use another two functions inside it:\n",
    "- `apply_discount(price, discount_code)` takes a price and a discount code string, returns the discounted price. If discount code is invalid or None, returns original price.\n",
    "- `sum_prices(prices)` sums a list of prices and returns the total\n",
    "\n",
    "Decide and reason if `apply_discount(price, discount_code)` and/or `sum_prices(prices)` should be nested functions within `calculate_total`, or defined outside the function. Think about the potential reuse of these functions elsewhere, and how tightly coupled they are to `calculate_total`.\n",
    "\n",
    "Then run the function with input arguments:\n",
    "```python\n",
    "discounts = {\"SALE10\": 0.10, \"VIP20\": 0.20}\n",
    "cart_items = [(100, \"SALE10\"), (200, None), (50, \"VIP20\")]\n",
    "```\n",
    "\n",
    "**Hint**: when looping over keys in a dictionary you can unpack the key and value such as\n",
    "\n",
    "```python\n",
    "for key, value in dict:\n",
    "```"
   ]
  },
  {
   "cell_type": "code",
   "execution_count": 16,
   "id": "0a57ab09",
   "metadata": {},
   "outputs": [
    {
     "name": "stdout",
     "output_type": "stream",
     "text": [
      "Total price: 330.00\n"
     ]
    }
   ],
   "source": [
    "def apply_discount(price, discount_code, discount_codes):\n",
    "    \"\"\"\n",
    "    Apply discount if discount_code is valid.\n",
    "    \n",
    "    Parameters:\n",
    "        price (float): Original price.\n",
    "        discount_code (str or None): Discount code string.\n",
    "        discount_codes (dict): Mapping discount code strings to discount fractions.\n",
    "        \n",
    "    Returns:\n",
    "        float: Discounted price.\n",
    "    \"\"\"\n",
    "    if discount_code in discount_codes:\n",
    "        discount = discount_codes[discount_code]\n",
    "        return price * (1 - discount)\n",
    "    else:\n",
    "        return price\n",
    "\n",
    "\n",
    "def calculate_total(cart, discount_codes=None):\n",
    "    \"\"\"\n",
    "    Calculate the total price for a cart applying discount codes.\n",
    "    \n",
    "    Parameters:\n",
    "        cart (list of tuples): Each tuple is (price, discount_code).\n",
    "        discount_codes (dict, optional): Mapping discount codes to discount fractions.\n",
    "        \n",
    "    Returns:\n",
    "        float: Total price after discounts.\n",
    "    \"\"\"\n",
    "    if discount_codes is None:\n",
    "        discount_codes = {}\n",
    "    \n",
    "    def sum_prices(prices):\n",
    "        total = 0\n",
    "        for price in prices:\n",
    "            total += price\n",
    "        return total\n",
    "    \n",
    "    discounted_prices = []\n",
    "    for price, code in cart:\n",
    "        discounted_price = apply_discount(price, code, discount_codes)\n",
    "        discounted_prices.append(discounted_price)\n",
    "    \n",
    "    total = sum_prices(discounted_prices)\n",
    "    return total\n",
    "\n",
    "\n",
    "# Test example\n",
    "discounts = {\"SALE10\": 0.10, \"VIP20\": 0.20}\n",
    "cart_items = [(100, \"SALE10\"), (200, None), (50, \"VIP20\")]\n",
    "\n",
    "total_price = calculate_total(cart_items, discounts)\n",
    "print(f\"Total price: {total_price:.2f}\")\n"
   ]
  }
 ],
 "metadata": {
  "kernelspec": {
   "display_name": "testing_URs",
   "language": "python",
   "name": "testing_urs"
  },
  "language_info": {
   "codemirror_mode": {
    "name": "ipython",
    "version": 3
   },
   "file_extension": ".py",
   "mimetype": "text/x-python",
   "name": "python",
   "nbconvert_exporter": "python",
   "pygments_lexer": "ipython3",
   "version": "3.12.2"
  }
 },
 "nbformat": 4,
 "nbformat_minor": 5
}
