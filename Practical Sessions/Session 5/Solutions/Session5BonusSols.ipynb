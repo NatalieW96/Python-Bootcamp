{
 "cells": [
  {
   "cell_type": "markdown",
   "id": "b85e4751",
   "metadata": {},
   "source": [
    "# Practical Session 5 Bonus: Classes"
   ]
  },
  {
   "cell_type": "markdown",
   "id": "3fcb7e42",
   "metadata": {},
   "source": [
    "In Python, **classes** allow us to create our own data types that combine data (attributes) and behavior (methods). This is the foundation of **object-oriented programming (OOP)**.\n",
    "\n",
    "##### Why Use Classes?\n",
    "- Group related data and functions together\n",
    "- Model real-world or abstract systems cleanly\n",
    "- Create reusable, extensible components\n",
    "\n",
    "A simple class contains:\n",
    "\n",
    "- `__init__` — the **constructor** that runs when you create an object\n",
    "- `self` — a reference to the instance (object)\n",
    "- **Attributes** — variables tied to the object\n",
    "- **Methods** — functions that belong to the class\n",
    "\n",
    "##### Example: A Simple `GasCloud` Class\n",
    "\n",
    "We'll model a gas cloud in space with a temperature and mass, and give it a method to calculate its thermal energy."
   ]
  },
  {
   "cell_type": "code",
   "execution_count": 1,
   "id": "994e0085",
   "metadata": {},
   "outputs": [],
   "source": [
    "class GasCloud:\n",
    "    def __init__(self, mass, temperature):\n",
    "        self.mass = mass                # in kilograms\n",
    "        self.temperature = temperature  # in Kelvin\n",
    "\n",
    "    def thermal_energy(self):\n",
    "        k_B = 1.38e-23  # Boltzmann constant\n",
    "        return 1.5 * k_B * self.temperature * self.mass\n",
    "\n",
    "    def summary(self):\n",
    "        return f\"Gas cloud: {self.mass:.2e} kg, {self.temperature} K\""
   ]
  },
  {
   "cell_type": "code",
   "execution_count": 2,
   "id": "956bad14",
   "metadata": {},
   "outputs": [
    {
     "name": "stdout",
     "output_type": "stream",
     "text": [
      "Gas cloud: 1.00e+30 kg, 5000 K\n",
      "Thermal energy: 1.04e+11 J\n"
     ]
    }
   ],
   "source": [
    "cloud = GasCloud(mass=1e30, temperature=5000)\n",
    "\n",
    "print(cloud.summary())\n",
    "\n",
    "E = cloud.thermal_energy()\n",
    "print(f\"Thermal energy: {E:.2e} J\")"
   ]
  },
  {
   "cell_type": "markdown",
   "id": "eb57d110",
   "metadata": {},
   "source": [
    "### Task: Orbit Simulator\n",
    "Here we will take the code from the practical session 5 and alter it from a function format into a class format. \n",
    "\n",
    "#### 1. Create a class called OrbitSimulator with an __init__ method that stores:\n",
    "- the orbital radius `r`\n",
    "- the mass of the central body `M`\n",
    "- the number of time steps `steps` (default `100`)\n",
    "- the gravitational constant `G` (default `6.67430e-11`)\n",
    "\n",
    "```python\n",
    "class OrbitSimulator:\n",
    "    def __init__(self, r, M, steps=100, G=6.67430e-11):\n",
    "        # your code here\n",
    "```\n",
    "#### 2. Add a method (class function) which `orbital_speed` that returns the orbital speed, and test it with values for the Earth and Sun\n",
    "```python\n",
    "earth_orbit = OrbitSimulator(r=1.496e11, M=1.989e30)\n",
    "print(f\"Speed: {earth_orbit.orbital_speed():.2e} m/s\")\n",
    "```\n",
    "#### 3. Add a method (class function) which `orbital_period` that returns the orbital period, and test it with values for the Earth and Sun\n",
    "```python\n",
    "print(f\"Period: {earth_orbit.orbital_period() / (60*60*24):.2f} days\")\n",
    "```\n",
    "\n",
    "#### 4. Add a method `simulate_positions()` that returns a list of `(x, y)` positions of the orbiting body over one full orbit"
   ]
  },
  {
   "cell_type": "code",
   "execution_count": 3,
   "id": "043cd601",
   "metadata": {},
   "outputs": [
    {
     "name": "stdout",
     "output_type": "stream",
     "text": [
      "Orbital period (seconds): 2.17e+06\n",
      "Orbital period (days): 25.07\n",
      "First 5 positions:\n",
      "(149600000000.0, 0.0)\n",
      "(149304817359.4942, 9393163111.970072)\n",
      "(148420434314.86533, 18749258059.63409)\n",
      "(146950340899.8343, 28031362960.485744)\n",
      "(144900338532.26263, 37202847918.34827)\n"
     ]
    }
   ],
   "source": [
    "# Math helper functions outside the class\n",
    "\n",
    "def sqrt(x):\n",
    "    guess = x / 2.0\n",
    "    for _ in range(10):\n",
    "        guess = (guess + x / guess) / 2\n",
    "    return guess\n",
    "\n",
    "def cos(theta):\n",
    "    result = 1\n",
    "    term = 1\n",
    "    sign = -1\n",
    "    for i in range(1, 6):\n",
    "        term = term * theta * theta / ((2*i-1)*2*i)\n",
    "        result += sign * term\n",
    "        sign *= -1\n",
    "    return result\n",
    "\n",
    "def sin(theta):\n",
    "    result = 0\n",
    "    term = theta\n",
    "    sign = 1\n",
    "    for i in range(1, 6):\n",
    "        result += sign * term\n",
    "        term = term * theta * theta / ((2*i)*(2*i+1))\n",
    "        sign *= -1\n",
    "    return result\n",
    "\n",
    "def pi():\n",
    "    pi_val = 0\n",
    "    for i in range(10000):\n",
    "        pi_val += ((-1)**i) / (2*i + 1)\n",
    "    return 4 * pi_val\n",
    "\n",
    "\n",
    "class OrbitSimulator:\n",
    "    def __init__(self, r, M, steps=100, G=6.67430e-11):\n",
    "        self.r = r\n",
    "        self.M = M\n",
    "        self.steps = steps\n",
    "        self.G = G\n",
    "    \n",
    "    def orbital_speed(self):\n",
    "        return sqrt(self.G * self.M / self.r)\n",
    "    \n",
    "    def orbital_period(self):\n",
    "        pi_val = pi()\n",
    "        v = self.orbital_speed()\n",
    "        return 2 * pi_val * self.r / v\n",
    "    \n",
    "    def simulate_positions(self):\n",
    "        pi_val = pi()\n",
    "        v = self.orbital_speed()\n",
    "        T = self.orbital_period()\n",
    "        omega = 2 * pi_val / T\n",
    "        dt = T / self.steps\n",
    "        positions = []\n",
    "        \n",
    "        for step in range(self.steps):\n",
    "            t = step * dt\n",
    "            angle = omega * t\n",
    "            x = self.r * cos(angle)\n",
    "            y = self.r * sin(angle)\n",
    "            positions.append((x, y))\n",
    "        \n",
    "        return positions\n",
    "\n",
    "\n",
    "# Test with Earth-Sun parameters\n",
    "earth_orbit = OrbitSimulator(r=1.496e11, M=1.989e30)\n",
    "period = earth_orbit.orbital_period()\n",
    "positions = earth_orbit.simulate_positions()\n",
    "\n",
    "print(f\"Orbital period (seconds): {period:.2e}\")\n",
    "print(f\"Orbital period (days): {period / (3600*24):.2f}\")\n",
    "print(\"First 5 positions:\")\n",
    "for pos in positions[:5]:\n",
    "    print(pos)\n"
   ]
  }
 ],
 "metadata": {
  "kernelspec": {
   "display_name": "testing_URs",
   "language": "python",
   "name": "testing_urs"
  },
  "language_info": {
   "codemirror_mode": {
    "name": "ipython",
    "version": 3
   },
   "file_extension": ".py",
   "mimetype": "text/x-python",
   "name": "python",
   "nbconvert_exporter": "python",
   "pygments_lexer": "ipython3",
   "version": "3.12.2"
  }
 },
 "nbformat": 4,
 "nbformat_minor": 5
}
