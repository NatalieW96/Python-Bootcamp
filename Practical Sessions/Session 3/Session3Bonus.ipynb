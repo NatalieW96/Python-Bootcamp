{
 "cells": [
  {
   "cell_type": "markdown",
   "id": "53ab3e50",
   "metadata": {},
   "source": [
    "# Practical Session 3 Bonus: Advanced tasks"
   ]
  },
  {
   "cell_type": "markdown",
   "id": "b43bc969",
   "metadata": {},
   "source": [
    "#### 1. Additional list methods\n",
    "\n",
    "In this exercise, you will practice using some additional **list methods** that were not covered in the lecture:\n",
    "\n",
    "- **`list.sort()`**: Sorts the list *in place* in ascending order. For example, it arranges strings alphabetically or numbers from smallest to largest.\n",
    "  \n",
    "- **`list.reverse()`**: Reverses the order of elements in the list *in place*. The last element becomes the first, and so on.\n",
    "  \n",
    "- **`list.index(value)`**: Returns the **index** of the first occurrence of the specified `value` in the list. Raises an error if the value is not found.\n",
    "  \n",
    "- **`list.count(value)`**: Counts how many times the specified `value` appears in the list.\n"
   ]
  },
  {
   "cell_type": "markdown",
   "id": "d64520dd",
   "metadata": {},
   "source": [
    "You are given a list of movie ratings on a scale of 1 to 10 (integers). \n",
    "\n",
    "```python\n",
    "ratings = [5, 8, 7, 9, 8, 7, 6, 7, 10, 5, 8]\n",
    "```\n",
    "Your tasks are:\n",
    "\n",
    "1. Sort the list of ratings in ascending order.\n",
    "2. Reverse the list so the ratings are now in descending order.\n",
    "3. Find the index of the first rating of 8 in the list.\n",
    "4. Count how many times the rating 7 appears in the list.\n",
    "5. Print the list after each operation to observe the changes."
   ]
  },
  {
   "cell_type": "code",
   "execution_count": null,
   "id": "656f4c45",
   "metadata": {},
   "outputs": [],
   "source": []
  },
  {
   "cell_type": "markdown",
   "id": "9b14fb7d",
   "metadata": {},
   "source": [
    "#### 2. Additional tuple methods"
   ]
  },
  {
   "cell_type": "markdown",
   "id": "df968207",
   "metadata": {},
   "source": [
    "Here are some **tuple methods** that were not covered in the lecture:\n",
    "- **`tuple.count(value)`**: Returns how many times `value` appears in the tuple.\n",
    "- **`tuple.index(value)`**: Returns the index of the first occurrence of `value` in the tuple. Raises an error if the value is not found.\n"
   ]
  },
  {
   "cell_type": "markdown",
   "id": "2c682388",
   "metadata": {},
   "source": [
    "You have a tuple representing the grades of students on an exam:\n",
    "\n",
    "```python\n",
    "grades = (85, 90, 78, 92, 85, 88, 90, 92, 85)\n",
    "```"
   ]
  },
  {
   "cell_type": "markdown",
   "id": "35606f27",
   "metadata": {},
   "source": [
    "Perform the following tasks using tuple methods:\n",
    "\n",
    "1. Find the number of times the grade 85 appears.\n",
    "\n",
    "2. Find the index of the first occurrence of the grade 92.\n",
    "\n",
    "3. Find the index of the first occurrence of the grade 78."
   ]
  },
  {
   "cell_type": "code",
   "execution_count": null,
   "id": "dd0dfcfc",
   "metadata": {},
   "outputs": [],
   "source": []
  },
  {
   "cell_type": "markdown",
   "id": "49cd2d2b",
   "metadata": {},
   "source": [
    "#### 3. Additional dictionary methods"
   ]
  },
  {
   "cell_type": "markdown",
   "id": "4f9a97f6",
   "metadata": {},
   "source": [
    "Here are some **dictionary methods** that were not covered in the lecture:"
   ]
  },
  {
   "cell_type": "markdown",
   "id": "156244f7",
   "metadata": {},
   "source": [
    "- **`dict.get(key, default)`**: Returns the value for `key` if it exists; otherwise returns `default` (or `None` if not specified). This avoids errors if the key is missing.\n",
    "- **`dict.items()`**: Returns a view object containing `(key, value)` pairs, useful for inspecting all contents.\n",
    "- **`dict.update(other_dict)`**: Adds key-value pairs from `other_dict` to the original dictionary, overwriting existing keys if necessary.\n"
   ]
  },
  {
   "cell_type": "markdown",
   "id": "6c30d6d6",
   "metadata": {},
   "source": [
    "You have two dictionaries of student grades for two different exams:\n",
    "\n",
    "```python\n",
    "exam1_grades = {\"Alice\": 85, \"Bob\": 78, \"Charlie\": 92}\n",
    "exam2_grades = {\"Bob\": 82, \"Charlie\": 88, \"David\": 90}\n",
    "```\n",
    "Complete the following:\n",
    "\n",
    "1. Use `.get()` to safely retrieve Alice’s grade from `exam2_grades`. If not found, return `\"No grade\"`.\n",
    "\n",
    "2. Print all `(student, grade)` pairs from `exam1_grades` using `.items()`.\n",
    "\n",
    "3. Update `exam1_grades` with the grades from `exam2_grades` using `.update()`.\n",
    "\n",
    "4. Print the updated `exam1_grades`."
   ]
  },
  {
   "cell_type": "code",
   "execution_count": null,
   "id": "7e36b43f",
   "metadata": {},
   "outputs": [],
   "source": []
  },
  {
   "cell_type": "markdown",
   "id": "0a408765",
   "metadata": {},
   "source": [
    "#### 4. List Comprehensions"
   ]
  },
  {
   "cell_type": "markdown",
   "id": "61f04af9",
   "metadata": {},
   "source": [
    "A list comprehension is a concise syntax in Python designed to create new lists by applying an expression to each element of an existing collection.\n",
    "\n",
    "Conceptually, it represents a transformation process:\n",
    "\n",
    "- You start with an input collection (a list, tuple, etc.)\n",
    "\n",
    "- For each element in that collection, you apply a specified operation or function\n",
    "\n",
    "- The results of these operations are collected into a new list\n",
    "\n",
    "The general form is:\n",
    "```python\n",
    "[ expression(element) for element in collection ]\n",
    "```\n",
    "- `collection` is the original sequence of elements\n",
    "\n",
    "- `element` refers to each item taken from `collection` one at a time\n",
    "\n",
    "- `expression(element)` is any valid Python expression that uses `element` and returns a value\n",
    "\n",
    "The list comprehension produces a new list composed of the evaluated results of the expression for each element in the original collection.\n",
    "\n",
    "Here is an example where we square each number in a list:"
   ]
  },
  {
   "cell_type": "code",
   "execution_count": null,
   "id": "1736aaed",
   "metadata": {},
   "outputs": [],
   "source": []
  },
  {
   "cell_type": "markdown",
   "id": "33180fcf",
   "metadata": {},
   "source": [
    "Given a list of temperatures in Celsius\n",
    "```python\n",
    "celsius_temps = [0, 12, 25, 30, -5]\n",
    "```\n",
    "use a list comprehension to convert all temperatures to Fahrenheit. The formula for conversion is:\n",
    "$$\n",
    "F = \\frac{9}{5}\\times C +32\n",
    "$$"
   ]
  },
  {
   "cell_type": "code",
   "execution_count": null,
   "id": "751e46c5",
   "metadata": {},
   "outputs": [],
   "source": []
  },
  {
   "cell_type": "markdown",
   "id": "1733d00b",
   "metadata": {},
   "source": [
    "We can also go though each item in a dictionary. You have a dictionary with student names as keys and their scores (out of 100) as values. Using a list comprehension, create a list that contains all student names from the dictionary.\n",
    "```python\n",
    "scores = {\n",
    "    \"Alice\": 85,\n",
    "    \"Bob\": 62,\n",
    "    \"Charlie\": 77,\n",
    "    \"Diana\": 59,\n",
    "    \"Evan\": 91\n",
    "}\n",
    "```"
   ]
  },
  {
   "cell_type": "code",
   "execution_count": null,
   "id": "cf88a478",
   "metadata": {},
   "outputs": [],
   "source": []
  },
  {
   "cell_type": "markdown",
   "id": "a2e442e9",
   "metadata": {},
   "source": []
  }
 ],
 "metadata": {
  "kernelspec": {
   "display_name": "testing_URs",
   "language": "python",
   "name": "testing_urs"
  },
  "language_info": {
   "codemirror_mode": {
    "name": "ipython",
    "version": 3
   },
   "file_extension": ".py",
   "mimetype": "text/x-python",
   "name": "python",
   "nbconvert_exporter": "python",
   "pygments_lexer": "ipython3",
   "version": "3.12.2"
  }
 },
 "nbformat": 4,
 "nbformat_minor": 5
}
