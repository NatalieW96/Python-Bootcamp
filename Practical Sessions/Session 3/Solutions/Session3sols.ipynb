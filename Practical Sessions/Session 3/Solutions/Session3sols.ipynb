{
 "cells": [
  {
   "cell_type": "markdown",
   "id": "ce4b1003",
   "metadata": {},
   "source": [
    "# Practical Session 3: Lists, Tuples, Sets & Dictionaries"
   ]
  },
  {
   "cell_type": "markdown",
   "id": "5f8d08d1",
   "metadata": {},
   "source": [
    "#### 1. List Manipulation"
   ]
  },
  {
   "cell_type": "markdown",
   "id": "b786d4ca",
   "metadata": {},
   "source": [
    "Create a list temperatures representing daily temperatures (°C) for a week: 23, 25, 21, 20, 22.\n",
    "Then:\n",
    "- Add a temperature reading for a new day, 24.\n",
    "- Insert a missing temperature 19 at the second position.\n",
    "- Remove the temperature 20.\n",
    "- Print the final list and its length."
   ]
  },
  {
   "cell_type": "code",
   "execution_count": 1,
   "id": "3705e71c",
   "metadata": {},
   "outputs": [
    {
     "name": "stdout",
     "output_type": "stream",
     "text": [
      "[23, 19, 25, 21, 22, 24]\n",
      "6\n"
     ]
    }
   ],
   "source": [
    "temperatures = [23, 25, 21, 20, 22]\n",
    "\n",
    "temperatures.append(24)\n",
    "\n",
    "temperatures.insert(1, 19)\n",
    "\n",
    "temperatures.remove(20)\n",
    "\n",
    "print(temperatures)\n",
    "print(len(temperatures))"
   ]
  },
  {
   "cell_type": "markdown",
   "id": "0037cbaf",
   "metadata": {},
   "source": [
    "#### 2. List indexing and slicing"
   ]
  },
  {
   "cell_type": "markdown",
   "id": "ef068f86",
   "metadata": {},
   "source": [
    "Given the list of recorded pH values in an experiment:"
   ]
  },
  {
   "cell_type": "code",
   "execution_count": 2,
   "id": "53167cc1",
   "metadata": {},
   "outputs": [],
   "source": [
    "ph_values = [7.2, 7.4, 6.8, 7.0, 7.1, 6.9]"
   ]
  },
  {
   "cell_type": "markdown",
   "id": "8153ba7e",
   "metadata": {},
   "source": [
    "- Print the first pH value\n",
    "- Print the last three pH values using slicing\n",
    "- Print the pH values in reverse order using slicing"
   ]
  },
  {
   "cell_type": "code",
   "execution_count": 6,
   "id": "a01279a5",
   "metadata": {},
   "outputs": [
    {
     "name": "stdout",
     "output_type": "stream",
     "text": [
      "7.2\n",
      "[7.0, 7.1, 6.9]\n",
      "[6.9, 7.1, 7.0, 6.8, 7.4, 7.2]\n"
     ]
    }
   ],
   "source": [
    "print(ph_values[0])\n",
    "print(ph_values[-3:])\n",
    "print(ph_values[::-1])"
   ]
  },
  {
   "cell_type": "markdown",
   "id": "681c054e",
   "metadata": {},
   "source": [
    "#### 3. Nested Lists"
   ]
  },
  {
   "cell_type": "markdown",
   "id": "932182cd",
   "metadata": {},
   "source": [
    "Create a 3x3 matrix using nested lists where each element is a list of [R,G,B] colour values (numbers from 0 to 255).\n",
    "Then:\n",
    "1. Print the green value of the pixel in the second row, first column\n",
    "2. Change the blue value of the pixel in the first row, second column\n",
    "3. Print the updated matrix"
   ]
  },
  {
   "cell_type": "code",
   "execution_count": 7,
   "id": "4059eb7f",
   "metadata": {},
   "outputs": [
    {
     "name": "stdout",
     "output_type": "stream",
     "text": [
      "125\n",
      "[[[255, 0, 0], [0, 255, 128], [0, 0, 255]], [[125, 125, 0], [50, 100, 150], [200, 200, 200]], [[0, 0, 0], [255, 255, 255], [123, 45, 67]]]\n"
     ]
    }
   ],
   "source": [
    "matrix = [\n",
    "    [[255, 0, 0], [0, 255, 0], [0, 0, 255]],     # first row\n",
    "    [[125, 125, 0], [50, 100, 150], [200, 200, 200]],  # second row\n",
    "    [[0, 0, 0], [255, 255, 255], [123, 45, 67]]  # third row\n",
    "]\n",
    "\n",
    "\n",
    "print(matrix[1][0][1])\n",
    "\n",
    "\n",
    "matrix[0][1][2] = 128\n",
    "\n",
    "\n",
    "print(matrix)"
   ]
  },
  {
   "cell_type": "markdown",
   "id": "bfcd4118",
   "metadata": {},
   "source": [
    "#### 4. Tuples"
   ]
  },
  {
   "cell_type": "markdown",
   "id": "6167bfa6",
   "metadata": {},
   "source": [
    "You have tuples representing the opening and closing prices of a stock on three days:"
   ]
  },
  {
   "cell_type": "code",
   "execution_count": 8,
   "id": "7b5c008a",
   "metadata": {},
   "outputs": [],
   "source": [
    "day1 = (135.5, 137.0)  # (opening price, closing price)\n",
    "day2 = (136.0, 135.0)\n",
    "day3 = (134.5, 136.5)"
   ]
  },
  {
   "cell_type": "markdown",
   "id": "2f33f23a",
   "metadata": {},
   "source": [
    "1. Unpack the opening and closing prices from each day and print statements like:\n",
    "\"Day 1 opened at 135.5 and closed at 137.0.\"\n",
    "\n",
    "2. Create a tuple containing the daily price differences (closing - opening) for each day.\n",
    "\n",
    "3. Calculate the total price change over the three days by summing these differences.\n",
    "\n",
    "4. Create a new tuple adding day 4’s prices (137.5, 138.0) to the existing data."
   ]
  },
  {
   "cell_type": "code",
   "execution_count": 9,
   "id": "903210c3",
   "metadata": {},
   "outputs": [
    {
     "name": "stdout",
     "output_type": "stream",
     "text": [
      "Day 1 opened at 135.5 and closed at 137.0.\n",
      "Day 2 opened at 136.0 and closed at 135.0.\n",
      "Day 3 opened at 134.5 and closed at 136.5.\n",
      "Total price change over 3 days: 2.5\n",
      "((135.5, 137.0), (136.0, 135.0), (134.5, 136.5), (137.5, 138.0))\n"
     ]
    }
   ],
   "source": [
    "open1, close1 = day1\n",
    "open2, close2 = day2\n",
    "open3, close3 = day3\n",
    "\n",
    "print(f\"Day 1 opened at {open1} and closed at {close1}.\")\n",
    "print(f\"Day 2 opened at {open2} and closed at {close2}.\")\n",
    "print(f\"Day 3 opened at {open3} and closed at {close3}.\")\n",
    "\n",
    "diffs = (close1 - open1, close2 - open2, close3 - open3)\n",
    "\n",
    "total_change = diffs[0] + diffs[1] + diffs[2]\n",
    "\n",
    "print(f\"Total price change over 3 days: {total_change}\")\n",
    "\n",
    "day4 = (137.5, 138.0)\n",
    "all_days = (day1, day2, day3, day4)\n",
    "\n",
    "print(all_days)"
   ]
  },
  {
   "cell_type": "markdown",
   "id": "c6ec516d",
   "metadata": {},
   "source": [
    "#### 5. Sets"
   ]
  },
  {
   "cell_type": "markdown",
   "id": "ee5bcd88",
   "metadata": {},
   "source": [
    "Create two sets:"
   ]
  },
  {
   "cell_type": "code",
   "execution_count": 11,
   "id": "4cb00a80",
   "metadata": {},
   "outputs": [],
   "source": [
    "observed_morning = {\"sparrow\", \"robin\", \"finch\"}\n",
    "observed_afternoon = {\"finch\", \"cardinal\", \"robin\"}"
   ]
  },
  {
   "cell_type": "markdown",
   "id": "c5e1be3b",
   "metadata": {},
   "source": [
    "1. Print all the birds observed in the day.\n",
    "\n",
    "2. Print the birds that were observed in both the morning and evening. \n",
    "\n",
    "3. Print only the species observed in the morning.\n",
    "\n",
    "4. Add a blue jay to the observed birds in the morning\n",
    "\n",
    "5. Remove robin from the birds observed in the afternoon\n",
    "\n",
    "6. Check if cardinal was observed in the morning"
   ]
  },
  {
   "cell_type": "code",
   "execution_count": 12,
   "id": "71b0660a",
   "metadata": {},
   "outputs": [
    {
     "name": "stdout",
     "output_type": "stream",
     "text": [
      "{'robin', 'finch', 'sparrow', 'cardinal'}\n",
      "{'robin', 'finch'}\n",
      "{'sparrow'}\n",
      "True\n"
     ]
    }
   ],
   "source": [
    "print(observed_morning | observed_afternoon)\n",
    "print(observed_morning & observed_afternoon)\n",
    "print(observed_morning - observed_afternoon)\n",
    "\n",
    "observed_morning.add(\"blue jay\")\n",
    "observed_afternoon.remove(\"robin\")\n",
    "\n",
    "print(bool(observed_morning and {\"cardinal\"}))"
   ]
  },
  {
   "cell_type": "markdown",
   "id": "958b225a",
   "metadata": {},
   "source": [
    "#### 6. Dictionaries"
   ]
  },
  {
   "cell_type": "markdown",
   "id": "8ef27ccc",
   "metadata": {},
   "source": [
    "Create a dictionary called book, which contains the title, author and year of your favourite book. \n",
    "\n",
    "Then:\n",
    "\n",
    "1. Print the author's name\n",
    "\n",
    "2. Add a new key \"Checked out\" and set it to a boolean\n",
    "\n",
    "3. Change the year to this year, there's been a reprint\n",
    "\n",
    "4. Print all the keys and values in an f-string\n",
    "\n",
    "5. Now with your book dictionry, make a nested library dictionary where your book is one of 3 books (with 2 other books of your choice). Each book is identified with a barcode number. \n",
    "\n",
    "6. Using the library nested dictionary, print the author and title of each book, and if it's checked out.\n",
    "\n",
    "7. Add a genre catagory for each book, with multiple genres contained in a list\n",
    "\n",
    "8. Someone stole a book, remove the second book for your library. \n"
   ]
  },
  {
   "cell_type": "code",
   "execution_count": 14,
   "id": "23c74538",
   "metadata": {},
   "outputs": [
    {
     "name": "stdout",
     "output_type": "stream",
     "text": [
      "George Orwell\n",
      "Title: 1984, Author: George Orwell, Year: 2025, Checked out: False\n",
      "George Orwell - 1984 (Checked out: False)\n",
      "Jane Austen - Pride and Prejudice (Checked out: True)\n",
      "J.R.R. Tolkien - The Hobbit (Checked out: False)\n"
     ]
    },
    {
     "data": {
      "text/plain": [
       "{'title': 'Pride and Prejudice',\n",
       " 'author': 'Jane Austen',\n",
       " 'year': 1813,\n",
       " 'Checked out': True,\n",
       " 'genre': ['Romance', 'Classic']}"
      ]
     },
     "execution_count": 14,
     "metadata": {},
     "output_type": "execute_result"
    }
   ],
   "source": [
    "# 1. Create book dictionary\n",
    "book1 = {\n",
    "    \"title\": \"1984\",\n",
    "    \"author\": \"George Orwell\",\n",
    "    \"year\": 1949\n",
    "}\n",
    "\n",
    "# 2. Print author's name\n",
    "print(book1[\"author\"])\n",
    "\n",
    "# 3. Add \"Checked out\" key\n",
    "book1[\"Checked out\"] = False\n",
    "\n",
    "# 4. Change year to current year (2025)\n",
    "book1[\"year\"] = 2025\n",
    "\n",
    "# 5. Print all keys and values with f-string\n",
    "print(f\"Title: {book1['title']}, Author: {book1['author']}, Year: {book1['year']}, Checked out: {book1['Checked out']}\")\n",
    "\n",
    "# 6. Create nested library dictionary with 3 books\n",
    "book2 = {\n",
    "    \"title\": \"Pride and Prejudice\",\n",
    "    \"author\": \"Jane Austen\",\n",
    "    \"year\": 1813,\n",
    "    \"Checked out\": True\n",
    "}\n",
    "\n",
    "book3 = {\n",
    "    \"title\": \"The Hobbit\",\n",
    "    \"author\": \"J.R.R. Tolkien\",\n",
    "    \"year\": 1937,\n",
    "    \"Checked out\": False\n",
    "}\n",
    "\n",
    "library = {\n",
    "    \"B001\": book1,\n",
    "    \"B002\": book2,\n",
    "    \"B003\": book3\n",
    "}\n",
    "\n",
    "# 7. Print author, title and checked out status for each book\n",
    "print(f\"{library['B001']['author']} - {library['B001']['title']} (Checked out: {library['B001']['Checked out']})\")\n",
    "print(f\"{library['B002']['author']} - {library['B002']['title']} (Checked out: {library['B002']['Checked out']})\")\n",
    "print(f\"{library['B003']['author']} - {library['B003']['title']} (Checked out: {library['B003']['Checked out']})\")\n",
    "\n",
    "# 8. Add genre list to each book\n",
    "library[\"B001\"][\"genre\"] = [\"Dystopian\", \"Political Fiction\"]\n",
    "library[\"B002\"][\"genre\"] = [\"Romance\", \"Classic\"]\n",
    "library[\"B003\"][\"genre\"] = [\"Fantasy\", \"Adventure\"]\n",
    "\n",
    "# 9. Remove second book (B002)\n",
    "library.pop(\"B002\")\n"
   ]
  },
  {
   "cell_type": "markdown",
   "id": "4523822d",
   "metadata": {},
   "source": [
    "#### 7. Converting and manipulating collections"
   ]
  },
  {
   "cell_type": "markdown",
   "id": "8149c270",
   "metadata": {},
   "source": [
    "You're given information about a company in various collection formats"
   ]
  },
  {
   "cell_type": "code",
   "execution_count": 15,
   "id": "3fd0c7ff",
   "metadata": {},
   "outputs": [],
   "source": [
    "employees = [(\"Anna\", \"Sales\"), (\"Ben\", \"IT\"), (\"Cara\", \"Sales\")]\n",
    "\n",
    "departments = {\"Sales\", \"IT\", \"HR\"}\n",
    "\n",
    "dept_employees = {\n",
    "    \"Sales\": [\"Anna\", \"Cara\"],\n",
    "    \"IT\": [\"Ben\"],\n",
    "    \"HR\": []\n",
    "}"
   ]
  },
  {
   "cell_type": "markdown",
   "id": "cd3f97ed",
   "metadata": {},
   "source": [
    "1. Create a tuple of all employee names from the employees list.\n",
    "\n",
    "2. Convert that tuple of names into a set to get unique employee names.\n",
    "\n",
    "3. Add a new employee `(\"David\", \"HR\")` to employees list, the names tuple, the unique names set, and update `dept_employees` accordingly (add \"David\" to \"HR\" list).\n",
    "\n",
    "4. Remove `\"Cara\"` from employees list, names tuple, unique names set, and update `dept_employees` (remove from \"Sales\").\n",
    "\n",
    "5. Print the length of `employees` list."
   ]
  },
  {
   "cell_type": "code",
   "execution_count": 16,
   "id": "909b286f",
   "metadata": {},
   "outputs": [
    {
     "name": "stdout",
     "output_type": "stream",
     "text": [
      "3\n"
     ]
    }
   ],
   "source": [
    "employees = [(\"Anna\", \"Sales\"), (\"Ben\", \"IT\"), (\"Cara\", \"Sales\")]\n",
    "departments = {\"Sales\", \"IT\", \"HR\"}\n",
    "dept_employees = {\n",
    "    \"Sales\": [\"Anna\", \"Cara\"],\n",
    "    \"IT\": [\"Ben\"],\n",
    "    \"HR\": []\n",
    "}\n",
    "\n",
    "# 1. Create a tuple of all employee names\n",
    "names = (employees[0][0], employees[1][0], employees[2][0])\n",
    "\n",
    "# 2. Convert that tuple into a set\n",
    "unique_names = set(names)\n",
    "\n",
    "# 3. Add new employee David\n",
    "employees.append((\"David\", \"HR\"))\n",
    "names = names + (\"David\",)\n",
    "unique_names = unique_names | {\"David\"}\n",
    "dept_employees[\"HR\"].append(\"David\")\n",
    "\n",
    "# 4. Remove Cara\n",
    "employees.remove((\"Cara\", \"Sales\"))\n",
    "names = (names[0], names[1], names[3])  # remove Cara (index 2)\n",
    "unique_names = unique_names - {\"Cara\"}\n",
    "dept_employees[\"Sales\"].remove(\"Cara\")\n",
    "\n",
    "# 5. Print length of employees\n",
    "print(len(employees))\n"
   ]
  },
  {
   "cell_type": "code",
   "execution_count": null,
   "id": "b9db04f9",
   "metadata": {},
   "outputs": [],
   "source": []
  }
 ],
 "metadata": {
  "kernelspec": {
   "display_name": "testing_URs",
   "language": "python",
   "name": "testing_urs"
  },
  "language_info": {
   "codemirror_mode": {
    "name": "ipython",
    "version": 3
   },
   "file_extension": ".py",
   "mimetype": "text/x-python",
   "name": "python",
   "nbconvert_exporter": "python",
   "pygments_lexer": "ipython3",
   "version": "3.12.2"
  }
 },
 "nbformat": 4,
 "nbformat_minor": 5
}
