{
 "cells": [
  {
   "cell_type": "markdown",
   "id": "5ceb9dd0",
   "metadata": {},
   "source": [
    "# Practical Session 7 Bonus: `pandas`"
   ]
  },
  {
   "cell_type": "markdown",
   "id": "0e501185",
   "metadata": {},
   "source": [
    "### What is pandas?\n",
    "\n",
    "- `pandas` is a Python library for working with structured/tabular data - — like Excel sheets, CSVs, or SQL tables.\n",
    "\n",
    "- It is built on top of `numpy`, and integrates well with other Python tools.\n",
    "\n",
    "- The core data structures in pandas are:\n",
    "\n",
    "    - Series – a 1D labeled array\n",
    "\n",
    "    - DataFrame – a 2D table with labeled rows and columns\n",
    "\n",
    "- It’s ideal for loading, cleaning, analyzing, filtering, and aggregating data."
   ]
  },
  {
   "cell_type": "code",
   "execution_count": null,
   "id": "938aed8e",
   "metadata": {},
   "outputs": [],
   "source": [
    "import pandas as pd"
   ]
  },
  {
   "cell_type": "markdown",
   "id": "97000ad3",
   "metadata": {},
   "source": [
    "### `pandas` tutorial\n",
    "\n",
    "Tables can be loaded from files such as \n",
    "```python\n",
    "df = pd.read_csv(\"data.csv\")\n",
    "```\n",
    "\n",
    "Alternatively dataframes can be created for scratch e.g. from a dictionary"
   ]
  },
  {
   "cell_type": "code",
   "execution_count": null,
   "id": "d8ad16b4",
   "metadata": {},
   "outputs": [],
   "source": [
    "data = {'Time': [0, 1, 2], 'Position': [0.0, 4.9, 9.8]}\n",
    "\n",
    "df = pd.DataFrame(data)"
   ]
  },
  {
   "cell_type": "markdown",
   "id": "23b63e50",
   "metadata": {},
   "source": [
    "Or `numpy` arrays"
   ]
  },
  {
   "cell_type": "code",
   "execution_count": null,
   "id": "3c66d478",
   "metadata": {},
   "outputs": [],
   "source": [
    "import numpy as np\n",
    "\n",
    "arr = np.array([[0, 0.0],\n",
    "                [1, 4.9],\n",
    "                [2, 9.8]])\n",
    "\n",
    "df = pd.DataFrame(arr, columns=['Time', 'Position'])"
   ]
  },
  {
   "cell_type": "code",
   "execution_count": null,
   "id": "b207a15f",
   "metadata": {},
   "outputs": [],
   "source": [
    "df # Display the DataFrame"
   ]
  },
  {
   "cell_type": "markdown",
   "id": "62268997",
   "metadata": {},
   "source": [
    "In a `pandas` DataFrame, the index is the label for each row. By default, pandas assigns a simple numerical index starting from 0, shown on the left side of the table. This is similar to row numbers in a spreadsheet.\n",
    "\n",
    "You can:\n",
    "\n",
    "- Leave the default index (0, 1, 2, …)\n",
    "\n",
    "- Set a custom index (e.g. time, IDs, dates)\n",
    "\n",
    "- Use the index to select, filter, or merge rows\n",
    "\n",
    "You can access or assign new indexes using\n",
    "```python\n",
    "df.index\n",
    "```\n",
    "for example for looping over them"
   ]
  },
  {
   "cell_type": "code",
   "execution_count": null,
   "id": "e1da74d6",
   "metadata": {},
   "outputs": [],
   "source": [
    "for i in df.index:\n",
    "    print(i)"
   ]
  },
  {
   "cell_type": "markdown",
   "id": "69ed8d13",
   "metadata": {},
   "source": [
    "`pandas` has various functions for exploring the data\n",
    "```python\n",
    "df.head()        # First 5 rows\n",
    "df.tail(3)       # Last 3 rows\n",
    "df.shape         # (rows, columns)\n",
    "df.columns       # Column names\n",
    "df.dtypes        # Data types\n",
    "df.info()        # Summary of structure\n",
    "df.describe()    # Summary statistics\n",
    "```"
   ]
  },
  {
   "cell_type": "markdown",
   "id": "66aa1639",
   "metadata": {},
   "source": [
    "Columns can be accessed through"
   ]
  },
  {
   "cell_type": "code",
   "execution_count": null,
   "id": "3e575277",
   "metadata": {},
   "outputs": [],
   "source": [
    "df['Time']          # Single column (returns Series)"
   ]
  },
  {
   "cell_type": "markdown",
   "id": "461f3ddb",
   "metadata": {},
   "source": [
    "Rows can be accessed through `iloc` (if you have custom indexes you can instead use `loc`)"
   ]
  },
  {
   "cell_type": "code",
   "execution_count": null,
   "id": "6cd37fbe",
   "metadata": {},
   "outputs": [],
   "source": [
    "df.iloc[0]"
   ]
  },
  {
   "cell_type": "markdown",
   "id": "a55618bc",
   "metadata": {},
   "source": [
    "Filtering can be done with conditions as so"
   ]
  },
  {
   "cell_type": "code",
   "execution_count": null,
   "id": "b0239991",
   "metadata": {},
   "outputs": [],
   "source": [
    "df[df['Position'] > 5]              # Rows where position > 10"
   ]
  },
  {
   "cell_type": "code",
   "execution_count": null,
   "id": "dad8e974",
   "metadata": {},
   "outputs": [],
   "source": [
    "df[(df['Position'] > 5) & (df['Time'] < 2)]  # Multiple conditions"
   ]
  },
  {
   "cell_type": "markdown",
   "id": "c09589a4",
   "metadata": {},
   "source": [
    "Note that these create new dataframes and don't alter `df` itself. To modify `df` directly it needs to be done through assignment"
   ]
  },
  {
   "cell_type": "code",
   "execution_count": null,
   "id": "0c350f4c",
   "metadata": {},
   "outputs": [],
   "source": [
    "df['Position'] = df['Position'] * 100\n",
    "df"
   ]
  },
  {
   "cell_type": "markdown",
   "id": "e2e0097d",
   "metadata": {},
   "source": [
    "Dataframes can be saved with\n",
    "```python\n",
    "df.to_csv('new_data.csv', index=False)\n",
    "```\n",
    "The `index=False` argument means the indexes aren't saved in the file."
   ]
  },
  {
   "cell_type": "markdown",
   "id": "39d1dee3",
   "metadata": {},
   "source": [
    "### Task: Projectile Motion with `pandas`"
   ]
  },
  {
   "cell_type": "markdown",
   "id": "9e612d9d",
   "metadata": {},
   "source": [
    "We are going to work with the `projectile_analysis.csv` which we created in the practical session 7 worksheet.\n",
    "\n",
    "Firstly load the data into a `pandas` dataframe, giving appropriate column names."
   ]
  },
  {
   "cell_type": "code",
   "execution_count": null,
   "id": "e1c8de8e",
   "metadata": {},
   "outputs": [],
   "source": []
  },
  {
   "cell_type": "markdown",
   "id": "aebd9050",
   "metadata": {},
   "source": [
    "Use `.info()` and `.describe()` to understand the structure and summary of the dataset."
   ]
  },
  {
   "cell_type": "code",
   "execution_count": null,
   "id": "fd06bdb6",
   "metadata": {},
   "outputs": [],
   "source": []
  },
  {
   "cell_type": "markdown",
   "id": "f1405627",
   "metadata": {},
   "source": [
    "Calculate and print the average acceleration during freefall (i.e., when the velocity is negative and position is above 0.5 m)."
   ]
  },
  {
   "cell_type": "code",
   "execution_count": null,
   "id": "5ad112f2",
   "metadata": {},
   "outputs": [],
   "source": []
  },
  {
   "cell_type": "markdown",
   "id": "58551213",
   "metadata": {},
   "source": [
    "Add a new column to the DataFrame with the ball’s kinetic energy:\n",
    "$$\n",
    "KE = \\frac{1}{2} m v^2\n",
    "$$\n",
    "Assume the mass is 0.2kg"
   ]
  },
  {
   "cell_type": "code",
   "execution_count": null,
   "id": "36b2cab1",
   "metadata": {},
   "outputs": [],
   "source": []
  },
  {
   "cell_type": "markdown",
   "id": "a68a2ff1",
   "metadata": {},
   "source": [
    "Save this new dataframe as `projection_final.csv`"
   ]
  },
  {
   "cell_type": "code",
   "execution_count": null,
   "id": "7648c170",
   "metadata": {},
   "outputs": [],
   "source": []
  }
 ],
 "metadata": {
  "kernelspec": {
   "display_name": "testing_URs",
   "language": "python",
   "name": "testing_urs"
  },
  "language_info": {
   "codemirror_mode": {
    "name": "ipython",
    "version": 3
   },
   "file_extension": ".py",
   "mimetype": "text/x-python",
   "name": "python",
   "nbconvert_exporter": "python",
   "pygments_lexer": "ipython3",
   "version": "3.12.2"
  }
 },
 "nbformat": 4,
 "nbformat_minor": 5
}
