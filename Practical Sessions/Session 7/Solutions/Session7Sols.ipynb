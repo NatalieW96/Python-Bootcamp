{
 "cells": [
  {
   "cell_type": "markdown",
   "id": "4ccf7ef1",
   "metadata": {},
   "source": [
    "# Practical Session 7: `numpy`"
   ]
  },
  {
   "cell_type": "markdown",
   "id": "ab9514b7",
   "metadata": {},
   "source": [
    "### 1. Basic arrays\n",
    "\n",
    "Firstly import `numpy` using alais `np`, this only needs to be done *once* per notebook or Python script"
   ]
  },
  {
   "cell_type": "code",
   "execution_count": null,
   "id": "941935aa",
   "metadata": {},
   "outputs": [],
   "source": [
    "import numpy as np"
   ]
  },
  {
   "cell_type": "markdown",
   "id": "9900a460",
   "metadata": {},
   "source": [
    "Create arrays of various dimensions:\n",
    "\n",
    "- A scalar (0D)\n",
    "- A vector of 5 elements (1D)\n",
    "\n",
    "- A 3x4  2D array (matrix)\n",
    "\n",
    "- A 2x3x2 3D tensor\n",
    "\n",
    "Print the shape of each"
   ]
  },
  {
   "cell_type": "code",
   "execution_count": 4,
   "id": "44f6ee6c",
   "metadata": {},
   "outputs": [
    {
     "name": "stdout",
     "output_type": "stream",
     "text": [
      "Scalar shape: ()\n",
      "Vector shape: (5,)\n",
      "Matrix shape: (3, 4)\n",
      "Tensor shape: (2, 3, 2)\n"
     ]
    }
   ],
   "source": [
    "import numpy as np\n",
    "\n",
    "# Scalar (0D)\n",
    "scalar = np.array(42)\n",
    "print(\"Scalar shape:\", scalar.shape)\n",
    "\n",
    "# Vector of 5 elements (1D)\n",
    "vector = np.array([1, 2, 3, 4, 5])\n",
    "print(\"Vector shape:\", vector.shape)\n",
    "\n",
    "# 3x4 2D array (matrix)\n",
    "matrix = np.arange(12).reshape(3, 4)\n",
    "print(\"Matrix shape:\", matrix.shape)\n",
    "\n",
    "# 2x3x2 3D tensor\n",
    "tensor = np.arange(12).reshape(2, 3, 2)\n",
    "print(\"Tensor shape:\", tensor.shape)"
   ]
  },
  {
   "cell_type": "markdown",
   "id": "799befdf",
   "metadata": {},
   "source": [
    "### 2. Creating arrays\n",
    "\n",
    "Create the following arrays:\n",
    "\n",
    "- A 6×6 array filled with zeros\n",
    "\n",
    "- A 2×5 array filled with the number 7\n",
    "\n",
    "- A linearly spaced 1D array from -1 to 1 with 9 elements\n",
    "\n",
    "- A 3×3 array with numbers from 0 to 8 using arange\n",
    "\n",
    "- A 1D array with values [1, 4, 9, 16, 25] generated using vectorised operations"
   ]
  },
  {
   "cell_type": "code",
   "execution_count": 3,
   "id": "ab6c80be",
   "metadata": {},
   "outputs": [
    {
     "name": "stdout",
     "output_type": "stream",
     "text": [
      "6x6 zeros array:\n",
      " [[0. 0. 0. 0. 0. 0.]\n",
      " [0. 0. 0. 0. 0. 0.]\n",
      " [0. 0. 0. 0. 0. 0.]\n",
      " [0. 0. 0. 0. 0. 0.]\n",
      " [0. 0. 0. 0. 0. 0.]\n",
      " [0. 0. 0. 0. 0. 0.]]\n",
      "\n",
      "2x5 array filled with 7:\n",
      " [[7 7 7 7 7]\n",
      " [7 7 7 7 7]]\n",
      "\n",
      "Linearly spaced array from -1 to 1 with 9 elements:\n",
      " [-1.   -0.75 -0.5  -0.25  0.    0.25  0.5   0.75  1.  ]\n",
      "\n",
      "3x3 array from 0 to 8:\n",
      " [[0 1 2]\n",
      " [3 4 5]\n",
      " [6 7 8]]\n",
      "\n",
      "1D array with squares of 1 to 5:\n",
      " [ 1  4  9 16 25]\n"
     ]
    }
   ],
   "source": [
    "# 6×6 array filled with zeros\n",
    "zeros_array = np.zeros((6, 6))\n",
    "print(\"6x6 zeros array:\\n\", zeros_array)\n",
    "\n",
    "# 2×5 array filled with the number 7\n",
    "sevens_array = np.full((2, 5), 7)\n",
    "print(\"\\n2x5 array filled with 7:\\n\", sevens_array)\n",
    "\n",
    "# Linearly spaced 1D array from -1 to 1 with 9 elements\n",
    "linspace_array = np.linspace(-1, 1, 9)\n",
    "print(\"\\nLinearly spaced array from -1 to 1 with 9 elements:\\n\", linspace_array)\n",
    "\n",
    "# 3×3 array with numbers from 0 to 8 using arange\n",
    "arange_array = np.arange(9).reshape((3, 3))\n",
    "print(\"\\n3x3 array from 0 to 8:\\n\", arange_array)\n",
    "\n",
    "# 1D array with values [1, 4, 9, 16, 25] using vectorized operations\n",
    "x = np.arange(1, 6)\n",
    "squares_array = x**2\n",
    "print(\"\\n1D array with squares of 1 to 5:\\n\", squares_array)"
   ]
  },
  {
   "cell_type": "markdown",
   "id": "a1434144",
   "metadata": {},
   "source": [
    "Create a 4×4 array of random floats between 0 and 1. Then:\n",
    "\n",
    "- Multiply all values by 100 and round them\n",
    "\n",
    "- Set all values above 70 to 70"
   ]
  },
  {
   "cell_type": "code",
   "execution_count": 5,
   "id": "77514707",
   "metadata": {},
   "outputs": [
    {
     "name": "stdout",
     "output_type": "stream",
     "text": [
      "[[70. 22. 70. 44.]\n",
      " [65. 32. 70. 70.]\n",
      " [70. 50.  1. 32.]\n",
      " [70. 70. 53. 70.]]\n"
     ]
    }
   ],
   "source": [
    "# Create a 4x4 array of random floats between 0 and 1\n",
    "arr = np.random.rand(4, 4)\n",
    "\n",
    "# Multiply all values by 100 and round them\n",
    "arr = np.round(arr * 100)\n",
    "\n",
    "# Set all values above 70 to 70\n",
    "arr[arr > 70] = 70\n",
    "\n",
    "print(arr)\n"
   ]
  },
  {
   "cell_type": "markdown",
   "id": "22378d79",
   "metadata": {},
   "source": [
    "### 3. Reshaping and Indexing\n",
    "\n",
    "You are given this flat array:\n",
    "\n",
    "```python\n",
    "arr = np.arange(24)\n",
    "```\n",
    "Reshape it to a 3×2×4 array"
   ]
  },
  {
   "cell_type": "code",
   "execution_count": 6,
   "id": "dd1d702c",
   "metadata": {},
   "outputs": [
    {
     "name": "stdout",
     "output_type": "stream",
     "text": [
      "[[[ 0  1  2  3]\n",
      "  [ 4  5  6  7]]\n",
      "\n",
      " [[ 8  9 10 11]\n",
      "  [12 13 14 15]]\n",
      "\n",
      " [[16 17 18 19]\n",
      "  [20 21 22 23]]]\n"
     ]
    }
   ],
   "source": [
    "arr = np.arange(24)\n",
    "reshaped_arr = arr.reshape((3, 2, 4))\n",
    "print(reshaped_arr)\n"
   ]
  },
  {
   "cell_type": "markdown",
   "id": "6c823d27",
   "metadata": {},
   "source": [
    "Extract:\n",
    "\n",
    "- The 2nd block (index 1)\n",
    "\n",
    "- The last row of the first block\n",
    "\n",
    "- The element at position `[2, 1, 3]`\n",
    "\n"
   ]
  },
  {
   "cell_type": "code",
   "execution_count": 7,
   "id": "f8b8f3f2",
   "metadata": {},
   "outputs": [
    {
     "name": "stdout",
     "output_type": "stream",
     "text": [
      "Second block (index 1):\n",
      "[[ 8  9 10 11]\n",
      " [12 13 14 15]]\n",
      "\n",
      "Last row of the first block:\n",
      "[4 5 6 7]\n",
      "\n",
      "Element at position [2, 1, 3]:\n",
      "23\n"
     ]
    }
   ],
   "source": [
    "# The 2nd block (index 1)\n",
    "second_block = reshaped_arr[1]\n",
    "print(\"Second block (index 1):\")\n",
    "print(second_block)\n",
    "\n",
    "# The last row of the first block (index 0)\n",
    "last_row_first_block = reshaped_arr[0, -1]\n",
    "print(\"\\nLast row of the first block:\")\n",
    "print(last_row_first_block)\n",
    "\n",
    "# The element at position [2, 1, 3]\n",
    "element_2_1_3 = reshaped_arr[2, 1, 3]\n",
    "print(\"\\nElement at position [2, 1, 3]:\")\n",
    "print(element_2_1_3)"
   ]
  },
  {
   "cell_type": "markdown",
   "id": "ddb44124",
   "metadata": {},
   "source": [
    "Flatten the full array"
   ]
  },
  {
   "cell_type": "code",
   "execution_count": 8,
   "id": "cffda96b",
   "metadata": {},
   "outputs": [
    {
     "name": "stdout",
     "output_type": "stream",
     "text": [
      "[ 0  1  2  3  4  5  6  7  8  9 10 11 12 13 14 15 16 17 18 19 20 21 22 23]\n"
     ]
    }
   ],
   "source": [
    "flattened = reshaped_arr.flatten()\n",
    "print(flattened)"
   ]
  },
  {
   "cell_type": "markdown",
   "id": "2830443e",
   "metadata": {},
   "source": [
    "### 4. Efficiency\n",
    "\n",
    "Generate an array of 1000000 random numbers between 0 and 10. Each reading should then be adjusted by this set of rules:\n",
    "\n",
    "- If the value is less than 2, square it.\n",
    "\n",
    "- If it's between 2 and 8 (inclusive), take the square root.\n",
    "\n",
    "- If it's above 8, set it to 10.\n",
    "\n",
    "Use a loop to make these changes. Time how long this takes by\n",
    "```python\n",
    "import time\n",
    "t_start = time.time()\n",
    "\n",
    "# Put loop here\n",
    "\n",
    "t_end = time.time()\n",
    "\n",
    "print(f'This calculation took {t_end-t_start} seconds')\n",
    "```"
   ]
  },
  {
   "cell_type": "code",
   "execution_count": 11,
   "id": "3c1bc0fc",
   "metadata": {},
   "outputs": [
    {
     "name": "stdout",
     "output_type": "stream",
     "text": [
      "Loop calculation took 0.2648 seconds\n"
     ]
    }
   ],
   "source": [
    "import time\n",
    "\n",
    "# Generate the same random array for both methods\n",
    "np.random.seed(0)\n",
    "arr_loop = np.random.uniform(0, 10, 1000000)\n",
    "arr_vec = arr_loop\n",
    "\n",
    "# Loop method (re-run for timing)\n",
    "t_start = time.time()\n",
    "for i in range(len(arr_loop)):\n",
    "    if arr_loop[i] < 2:\n",
    "        arr_loop[i] = arr_loop[i] ** 2\n",
    "    elif 2 <= arr_loop[i] <= 8:\n",
    "        arr_loop[i] = arr_loop[i] ** 0.5\n",
    "    else:\n",
    "        arr_loop[i] = 10\n",
    "t_end = time.time()\n",
    "print(f\"Loop calculation took {t_end - t_start:.4f} seconds\")\n"
   ]
  },
  {
   "cell_type": "markdown",
   "id": "6a5405ec",
   "metadata": {},
   "source": [
    "Now use boolean masking and `numpy` vectorised operations (no loops!) to achieve the same result, and time it again. Confirm the results using both techniques are the same (or very close) using `np.allclose`."
   ]
  },
  {
   "cell_type": "code",
   "execution_count": 12,
   "id": "f9e9d489",
   "metadata": {},
   "outputs": [
    {
     "name": "stdout",
     "output_type": "stream",
     "text": [
      "Loop calculation took 0.2699 seconds\n",
      "Vectorized calculation took 0.0229 seconds\n",
      "Results are close: True\n"
     ]
    }
   ],
   "source": [
    "# Generate the same random array for both methods\n",
    "arr_loop = np.random.uniform(0, 10, 1000000)\n",
    "arr_vec = arr_loop\n",
    "\n",
    "# Loop method (re-run for timing)\n",
    "t_start = time.time()\n",
    "for i in range(len(arr_loop)):\n",
    "    if arr_loop[i] < 2:\n",
    "        arr_loop[i] = arr_loop[i] ** 2\n",
    "    elif 2 <= arr_loop[i] <= 8:\n",
    "        arr_loop[i] = arr_loop[i] ** 0.5\n",
    "    else:\n",
    "        arr_loop[i] = 10\n",
    "t_end = time.time()\n",
    "print(f\"Loop calculation took {t_end - t_start:.4f} seconds\")\n",
    "\n",
    "# Vectorized method\n",
    "t_start = time.time()\n",
    "mask1 = arr_vec < 2\n",
    "mask2 = (arr_vec >= 2) & (arr_vec <= 8)\n",
    "mask3 = arr_vec > 8\n",
    "\n",
    "arr_vec[mask1] = arr_vec[mask1] ** 2\n",
    "arr_vec[mask2] = np.sqrt(arr_vec[mask2])\n",
    "arr_vec[mask3] = 10\n",
    "t_end = time.time()\n",
    "print(f\"Vectorized calculation took {t_end - t_start:.4f} seconds\")\n",
    "\n",
    "# Confirm results are close\n",
    "print(\"Results are close:\", np.allclose(arr_loop, arr_vec))\n"
   ]
  },
  {
   "cell_type": "markdown",
   "id": "116f8488",
   "metadata": {},
   "source": [
    "### 5. Statistics in arrays\n",
    "\n",
    "You have this data:\n",
    "\n",
    "```python\n",
    "data = np.array([[1.2, 3.5, 2.1],\n",
    "                 [4.4, 5.1, 0.5],\n",
    "                 [3.3, 3.3, 3.3]])\n",
    "\n",
    "```\n",
    "- Compute the mean and standard deviation of each row\n",
    "\n",
    "- Compute the column-wise sum\n",
    "\n",
    "- Identify the index of the maximum value in the whole array\n",
    "\n",
    "- Normalize each row to have a maximum of 1"
   ]
  },
  {
   "cell_type": "code",
   "execution_count": 13,
   "id": "d1b1c984",
   "metadata": {},
   "outputs": [
    {
     "name": "stdout",
     "output_type": "stream",
     "text": [
      "Row means: [2.26666667 3.33333333 3.3       ]\n",
      "Row std devs: [9.46337971e-01 2.02374790e+00 4.44089210e-16]\n",
      "Column sums: [ 8.9 11.9  5.9]\n",
      "Index of max value (flattened): 4\n",
      "Index of max value (2D): (1, 1)\n",
      "Normalized data:\n",
      " [[0.34285714 1.         0.6       ]\n",
      " [0.8627451  1.         0.09803922]\n",
      " [1.         1.         1.        ]]\n"
     ]
    }
   ],
   "source": [
    "data = np.array([[1.2, 3.5, 2.1],\n",
    "                 [4.4, 5.1, 0.5],\n",
    "                 [3.3, 3.3, 3.3]])\n",
    "\n",
    "# Mean and std dev of each row\n",
    "row_means = np.mean(data, axis=1)\n",
    "row_stds = np.std(data, axis=1)\n",
    "\n",
    "# Column-wise sum\n",
    "col_sums = np.sum(data, axis=0)\n",
    "\n",
    "# Index of maximum value in the whole array (flattened index)\n",
    "max_index_flat = np.argmax(data)\n",
    "# Convert flattened index to 2D index (row, col)\n",
    "max_index_2d = np.unravel_index(max_index_flat, data.shape)\n",
    "\n",
    "# Normalize each row to have max of 1\n",
    "row_maxes = np.max(data, axis=1, keepdims=True)\n",
    "normalized_data = data / row_maxes\n",
    "\n",
    "print(\"Row means:\", row_means)\n",
    "print(\"Row std devs:\", row_stds)\n",
    "print(\"Column sums:\", col_sums)\n",
    "print(\"Index of max value (flattened):\", max_index_flat)\n",
    "print(\"Index of max value (2D):\", max_index_2d)\n",
    "print(\"Normalized data:\\n\", normalized_data)\n"
   ]
  },
  {
   "cell_type": "markdown",
   "id": "b869efec",
   "metadata": {},
   "source": [
    "### 6. Matrix Operations\n",
    "\n",
    "Let:\n",
    "\n",
    "```python\n",
    "A = np.array([[1, 2],\n",
    "              [3, 4]])\n",
    "\n",
    "B = np.array([[2, 0],\n",
    "              [1, 2]])\n",
    "```\n",
    "\n",
    "Compute:\n",
    "\n",
    "- A + B\n",
    "\n",
    "- A × B (matrix product)\n",
    "\n",
    "- Transpose of A\n",
    "\n",
    "- Inverse of B\n",
    "\n",
    "- Eigenvalues and eigenvectors of A\n",
    "\n",
    "- Norm of A"
   ]
  },
  {
   "cell_type": "code",
   "execution_count": 14,
   "id": "bfe4f3dc",
   "metadata": {},
   "outputs": [
    {
     "name": "stdout",
     "output_type": "stream",
     "text": [
      "A + B =\n",
      " [[3 2]\n",
      " [4 6]]\n",
      "A × B =\n",
      " [[ 4  4]\n",
      " [10  8]]\n",
      "Transpose of A =\n",
      " [[1 3]\n",
      " [2 4]]\n",
      "Inverse of B =\n",
      " [[ 0.5   0.  ]\n",
      " [-0.25  0.5 ]]\n",
      "Eigenvalues of A = [-0.37228132  5.37228132]\n",
      "Eigenvectors of A =\n",
      " [[-0.82456484 -0.41597356]\n",
      " [ 0.56576746 -0.90937671]]\n",
      "Norm of A = 5.477225575051661\n"
     ]
    }
   ],
   "source": [
    "A = np.array([[1, 2],\n",
    "              [3, 4]])\n",
    "\n",
    "B = np.array([[2, 0],\n",
    "              [1, 2]])\n",
    "\n",
    "# A + B\n",
    "sum_AB = A + B\n",
    "\n",
    "# A × B (matrix multiplication)\n",
    "prod_AB = A @ B  # or np.dot(A, B)\n",
    "\n",
    "# Transpose of A\n",
    "transpose_A = A.T\n",
    "\n",
    "# Inverse of B\n",
    "inv_B = np.linalg.inv(B)\n",
    "\n",
    "# Eigenvalues and eigenvectors of A\n",
    "eigvals, eigvecs = np.linalg.eig(A)\n",
    "\n",
    "# Norm of A (Frobenius by default)\n",
    "norm_A = np.linalg.norm(A)\n",
    "\n",
    "print(\"A + B =\\n\", sum_AB)\n",
    "print(\"A × B =\\n\", prod_AB)\n",
    "print(\"Transpose of A =\\n\", transpose_A)\n",
    "print(\"Inverse of B =\\n\", inv_B)\n",
    "print(\"Eigenvalues of A =\", eigvals)\n",
    "print(\"Eigenvectors of A =\\n\", eigvecs)\n",
    "print(\"Norm of A =\", norm_A)\n"
   ]
  },
  {
   "cell_type": "markdown",
   "id": "a26fbec2",
   "metadata": {},
   "source": [
    "### 7. Estimating $\\pi$ using Monte Carlo integration\n",
    "\n",
    "Imagine a square with side length 2 centered at the origin. Inside it, there's a circle of radius 1, also centered at the origin.\n",
    "\n",
    "If you randomly throw $n$ darts at this square, the fraction that lands inside the circle $n_\\mathrm{circle}$ is roughly equal to the area of the circle $A_\\mathrm{circle}$ divided by the area of the square $A_\\mathrm{square}$:\n",
    "\n",
    "$$\n",
    "\\frac{n}{n_{\\mathrm{circle}}} = \\frac{A_\\mathrm{square}}{A_{\\mathrm{circle}}}\n",
    "$$\n",
    "\n",
    "With somem rearranging, we can therefore use this fraction to estimate $\\pi$.\n",
    "\n",
    "Task:\n",
    "\n",
    "- Generate n random points in the square `[-1,1] x [-1, 1]`\n",
    "\n",
    "- Count how many fall within the unit circle\n",
    "\n",
    "- Use the ratio to estimate $\\pi$"
   ]
  },
  {
   "cell_type": "code",
   "execution_count": 16,
   "id": "71f8d2f4",
   "metadata": {},
   "outputs": [
    {
     "name": "stdout",
     "output_type": "stream",
     "text": [
      "Estimated π after 1000000 points: 3.141176\n"
     ]
    }
   ],
   "source": [
    "def estimate_pi(n):\n",
    "    # Generate n random points in [-1,1] x [-1,1]\n",
    "    x = np.random.uniform(-1, 1, n)\n",
    "    y = np.random.uniform(-1, 1, n)\n",
    "    \n",
    "    # Calculate distance from origin\n",
    "    dist = np.sqrt(x**2 + y**2)\n",
    "    \n",
    "    # Count points inside the unit circle\n",
    "    inside_circle = np.sum(dist <= 1)\n",
    "    \n",
    "    # Estimate pi using ratio of points inside circle vs total points\n",
    "    pi_estimate = 4 * inside_circle / n\n",
    "    \n",
    "    return pi_estimate\n",
    "\n",
    "# Example usage:\n",
    "n_points = 1000000\n",
    "pi_approx = estimate_pi(n_points)\n",
    "print(f\"Estimated π after {n_points} points: {pi_approx:.6f}\")\n"
   ]
  },
  {
   "cell_type": "markdown",
   "id": "1c8c64ce",
   "metadata": {},
   "source": [
    "If not already, turn this code into a function `estimate_pi(n)`, and check the error between your estimation and the true value of $\\pi$ for $n = 10, 100, 1000, 10000, 100000, 1000000$"
   ]
  },
  {
   "cell_type": "code",
   "execution_count": 17,
   "id": "44619db8",
   "metadata": {},
   "outputs": [
    {
     "name": "stdout",
     "output_type": "stream",
     "text": [
      "n\tEstimate\tError\n",
      "10\t4.000000\t0.858407\n",
      "100\t3.200000\t0.058407\n",
      "1000\t3.148000\t0.006407\n",
      "10000\t3.171600\t0.030007\n",
      "100000\t3.146240\t0.004647\n",
      "1000000\t3.140752\t0.000841\n"
     ]
    }
   ],
   "source": [
    "# Values of n to test\n",
    "n_values = [10, 100, 1000, 10000, 100000, 1000000]\n",
    "\n",
    "print(\"n\\tEstimate\\tError\")\n",
    "for n in n_values:\n",
    "    pi_est = estimate_pi(n)\n",
    "    error = abs(np.pi - pi_est)\n",
    "    print(f\"{n}\\t{pi_est:.6f}\\t{error:.6f}\")"
   ]
  },
  {
   "cell_type": "markdown",
   "id": "2b3192df",
   "metadata": {},
   "source": [
    "### 8. Simulating Particle Collisions in 1D\n",
    "\n",
    "You have a stream of particles moving along a line. Each particle has a position and velocity.\n",
    "\n",
    "- Positions and velocities are stored in two NumPy arrays of length N.\n",
    "\n",
    "- At each timestep, particles move according to their velocity.\n",
    "\n",
    "- If two particles collide (positions become equal or cross), they exchange velocities.\n",
    "\n",
    "Initialize arrays for N=10 particles with random positions between 0 and 10 and velocities between -1 and 1.\n"
   ]
  },
  {
   "cell_type": "code",
   "execution_count": 19,
   "id": "6197f0ee",
   "metadata": {},
   "outputs": [
    {
     "name": "stdout",
     "output_type": "stream",
     "text": [
      "Initial positions: [1.15696432 6.34529448 6.75810624 6.17600981 2.77919186 9.51095159\n",
      " 5.47040462 6.58322315 0.76833653 7.15122412]\n",
      "Initial velocities: [ 0.20433008 -0.07456726 -0.04820047  0.08374808 -0.06991769  0.90749464\n",
      " -0.88846144  0.99183965 -0.82052696  0.7770196 ]\n"
     ]
    }
   ],
   "source": [
    "N = 10\n",
    "positions = np.random.uniform(0, 10, N)\n",
    "velocities = np.random.uniform(-1, 1, N)\n",
    "\n",
    "print(\"Initial positions:\", positions)\n",
    "print(\"Initial velocities:\", velocities)"
   ]
  },
  {
   "cell_type": "markdown",
   "id": "c46e463f",
   "metadata": {},
   "source": [
    "Write a loop that advances the system by 100 timesteps:\n",
    "\n",
    "- Update positions by adding velocity.\n",
    "\n",
    "- Check for collisions by comparing positions.\n",
    "\n",
    "- Swap velocities of colliding particles.\n",
    "\n",
    "After the loop, report the final positions and velocities.\n"
   ]
  },
  {
   "cell_type": "code",
   "execution_count": 21,
   "id": "d9671be2",
   "metadata": {},
   "outputs": [
    {
     "name": "stdout",
     "output_type": "stream",
     "text": [
      "Final positions: [ 60.49569995  -3.35718073  -3.2801303   61.17167622  60.69132969\n",
      " -49.30730158  -3.80623492 -49.51140429 -48.94662064  -3.52453213]\n",
      "Final velocities: [ 0.8736018  -0.68494723 -0.58169338  0.11940147  0.73756234 -0.02784459\n",
      "  0.50707899 -0.56411711 -0.94845     0.23979985]\n"
     ]
    }
   ],
   "source": [
    "N = 10\n",
    "positions = np.random.uniform(0, 10, N)\n",
    "velocities = np.random.uniform(-1, 1, N)\n",
    "\n",
    "timesteps = 100\n",
    "\n",
    "for _ in range(timesteps):\n",
    "    # Update positions\n",
    "    positions += velocities\n",
    "    \n",
    "    # Check collisions: compare every pair of particles\n",
    "    for i in range(N):\n",
    "        for j in range(i + 1, N):\n",
    "            # If particles have crossed or are at the same position\n",
    "            # i.e. the positions have overlapped or passed each other\n",
    "            if (positions[i] - positions[j]) * (positions[i] - velocities[i] - (positions[j] - velocities[j])) <= 0:\n",
    "                # Swap velocities\n",
    "                velocities[i], velocities[j] = velocities[j], velocities[i]\n",
    "\n",
    "print(\"Final positions:\", positions)\n",
    "print(\"Final velocities:\", velocities)\n"
   ]
  },
  {
   "cell_type": "markdown",
   "id": "e18df55b",
   "metadata": {},
   "source": [
    "### 9. Analysing Projectile Motion Data"
   ]
  },
  {
   "cell_type": "markdown",
   "id": "67c333df",
   "metadata": {},
   "source": [
    "You have experimental data from a projectile motion experiment: vertical position $y$ measured over time intervals of 0.1s in the data file `projectile_data.csv`.\n",
    "\n",
    "Firstly load the data from `projectile_data.csv` into a numpy array."
   ]
  },
  {
   "cell_type": "code",
   "execution_count": 22,
   "id": "00adf60d",
   "metadata": {},
   "outputs": [
    {
     "name": "stdout",
     "output_type": "stream",
     "text": [
      "[0.00000000e+00 9.90190000e-02 1.97057000e-01 2.94114000e-01\n",
      " 3.90190000e-01 4.85285000e-01 5.79399000e-01 6.72532000e-01\n",
      " 7.64684000e-01 8.55855000e-01 9.46045000e-01 1.03525400e+00\n",
      " 1.12348200e+00 1.21072900e+00 1.29699500e+00 1.38228000e+00\n",
      " 1.46658400e+00 1.54990700e+00 1.63224900e+00 1.71361000e+00\n",
      " 1.79399000e+00 1.87338900e+00 1.95180700e+00 2.02924400e+00\n",
      " 2.10570000e+00 2.18117500e+00 2.25566900e+00 2.32918200e+00\n",
      " 2.40171400e+00 2.47326500e+00 2.54383500e+00 2.61342400e+00\n",
      " 2.68203200e+00 2.74965900e+00 2.81630500e+00 2.88197000e+00\n",
      " 2.94665400e+00 3.01035700e+00 3.07307900e+00 3.13482000e+00\n",
      " 3.19558000e+00 3.25535900e+00 3.31415700e+00 3.37197400e+00\n",
      " 3.42881000e+00 3.48466500e+00 3.53953900e+00 3.59343200e+00\n",
      " 3.64634400e+00 3.69827500e+00 3.74922500e+00 3.79919400e+00\n",
      " 3.84818200e+00 3.89618900e+00 3.94321500e+00 3.98926000e+00\n",
      " 4.03432400e+00 4.07840700e+00 4.12150900e+00 4.16363000e+00\n",
      " 4.20477000e+00 4.24492900e+00 4.28410700e+00 4.32230400e+00\n",
      " 4.35952000e+00 4.39575500e+00 4.43100900e+00 4.46528200e+00\n",
      " 4.49857400e+00 4.53088500e+00 4.56221500e+00 4.59256400e+00\n",
      " 4.62193200e+00 4.65031900e+00 4.67772500e+00 4.70415000e+00\n",
      " 4.72959400e+00 4.75405700e+00 4.77753900e+00 4.80004000e+00\n",
      " 4.82156000e+00 4.84209900e+00 4.86165700e+00 4.88023400e+00\n",
      " 4.89783000e+00 4.91444500e+00 4.93007900e+00 4.94473200e+00\n",
      " 4.95840400e+00 4.97109500e+00 4.98280500e+00 4.99353400e+00\n",
      " 5.00328200e+00 5.01204900e+00 5.01983500e+00 5.02664000e+00\n",
      " 5.03246400e+00 5.03730700e+00 5.04116900e+00 5.04405000e+00\n",
      " 5.04595000e+00 5.04686900e+00 5.04680700e+00 5.04576400e+00\n",
      " 5.04374000e+00 5.04073500e+00 5.03674900e+00 5.03178200e+00\n",
      " 5.02583400e+00 5.01890500e+00 5.01099500e+00 5.00210400e+00\n",
      " 4.99223200e+00 4.98137900e+00 4.96954500e+00 4.95673000e+00\n",
      " 4.94293400e+00 4.92815700e+00 4.91239900e+00 4.89566000e+00\n",
      " 4.87794000e+00 4.85923900e+00 4.83955700e+00 4.81889400e+00\n",
      " 4.79725000e+00 4.77462500e+00 4.75101900e+00 4.72643200e+00\n",
      " 4.70086400e+00 4.67431500e+00 4.64678500e+00 4.61827400e+00\n",
      " 4.58878200e+00 4.55830900e+00 4.52685500e+00 4.49442000e+00\n",
      " 4.46100400e+00 4.42660700e+00 4.39122900e+00 4.35487000e+00\n",
      " 4.31753000e+00 4.27920900e+00 4.23990700e+00 4.19962400e+00\n",
      " 4.15836000e+00 4.11611500e+00 4.07288900e+00 4.02868200e+00\n",
      " 3.98349400e+00 3.93732500e+00 3.89017500e+00 3.84204400e+00\n",
      " 3.79293200e+00 3.74283900e+00 3.69176500e+00 3.63971000e+00\n",
      " 3.58667400e+00 3.53265700e+00 3.47765900e+00 3.42168000e+00\n",
      " 3.36472000e+00 3.30677900e+00 3.24785700e+00 3.18795400e+00\n",
      " 3.12707000e+00 3.06520500e+00 3.00235900e+00 2.93853200e+00\n",
      " 2.87372400e+00 2.80793500e+00 2.74116500e+00 2.67341400e+00\n",
      " 2.60468200e+00 2.53496900e+00 2.46427500e+00 2.39260000e+00\n",
      " 2.31994400e+00 2.24630700e+00 2.17168900e+00 2.09609000e+00\n",
      " 2.01951000e+00 1.94194900e+00 1.86340700e+00 1.78388400e+00\n",
      " 1.70338000e+00 1.62189500e+00 1.53942900e+00 1.45598200e+00\n",
      " 1.37155400e+00 1.28614500e+00 1.19975500e+00 1.11238400e+00\n",
      " 1.02403200e+00 9.34699000e-01 8.44385000e-01 7.53090000e-01\n",
      " 6.60814000e-01 5.67557000e-01 4.73319000e-01 3.78100000e-01\n",
      " 2.81900000e-01 1.84719000e-01 8.65570000e-02 0.00000000e+00\n",
      " 7.83334000e-02 1.55685800e-01 2.32057200e-01 3.07447600e-01\n",
      " 3.81857000e-01 4.55285400e-01 5.27732800e-01 5.99199200e-01\n",
      " 6.69684600e-01 7.39189000e-01 8.07712400e-01 8.75254800e-01\n",
      " 9.41816200e-01 1.00739660e+00 1.07199600e+00 1.13561440e+00\n",
      " 1.19825180e+00 1.25990820e+00 1.32058360e+00 1.38027800e+00\n",
      " 1.43899140e+00 1.49672380e+00 1.55347520e+00 1.60924560e+00\n",
      " 1.66403500e+00 1.71784340e+00 1.77067080e+00 1.82251720e+00\n",
      " 1.87338260e+00 1.92326700e+00 1.97217040e+00 2.02009280e+00\n",
      " 2.06703420e+00 2.11299460e+00 2.15797400e+00 2.20197240e+00\n",
      " 2.24498980e+00 2.28702620e+00 2.32808160e+00 2.36815600e+00\n",
      " 2.40724940e+00 2.44536180e+00 2.48249320e+00 2.51864360e+00\n",
      " 2.55381300e+00 2.58800140e+00 2.62120880e+00 2.65343520e+00\n",
      " 2.68468060e+00 2.71494500e+00 2.74422840e+00 2.77253080e+00\n",
      " 2.79985220e+00 2.82619260e+00 2.85155200e+00 2.87593040e+00\n",
      " 2.89932780e+00 2.92174420e+00 2.94317960e+00 2.96363400e+00\n",
      " 2.98310740e+00 3.00159980e+00 3.01911120e+00 3.03564160e+00\n",
      " 3.05119100e+00 3.06575940e+00 3.07934680e+00 3.09195320e+00\n",
      " 3.10357860e+00 3.11422300e+00 3.12388640e+00 3.13256880e+00\n",
      " 3.14027020e+00 3.14699060e+00 3.15273000e+00 3.15748840e+00\n",
      " 3.16126580e+00 3.16406220e+00 3.16587760e+00 3.16671200e+00\n",
      " 3.16656540e+00 3.16543780e+00 3.16332920e+00 3.16023960e+00\n",
      " 3.15616900e+00 3.15111740e+00 3.14508480e+00 3.13807120e+00\n",
      " 3.13007660e+00 3.12110100e+00 3.11114440e+00 3.10020680e+00\n",
      " 3.08828820e+00 3.07538860e+00 3.06150800e+00 3.04664640e+00\n",
      " 3.03080380e+00 3.01398020e+00 2.99617560e+00 2.97739000e+00\n",
      " 2.95762340e+00 2.93687580e+00 2.91514720e+00 2.89243760e+00\n",
      " 2.86874700e+00 2.84407540e+00 2.81842280e+00 2.79178920e+00\n",
      " 2.76417460e+00 2.73557900e+00 2.70600240e+00 2.67544480e+00\n",
      " 2.64390620e+00 2.61138660e+00 2.57788600e+00 2.54340440e+00\n",
      " 2.50794180e+00 2.47149820e+00 2.43407360e+00 2.39566800e+00\n",
      " 2.35628140e+00 2.31591380e+00 2.27456520e+00 2.23223560e+00\n",
      " 2.18892500e+00 2.14463340e+00 2.09936080e+00 2.05310720e+00\n",
      " 2.00587260e+00 1.95765700e+00 1.90846040e+00 1.85828280e+00\n",
      " 1.80712420e+00 1.75498460e+00 1.70186400e+00 1.64776240e+00\n",
      " 1.59267980e+00 1.53661620e+00 1.47957160e+00 1.42154600e+00\n",
      " 1.36253940e+00 1.30255180e+00 1.24158320e+00 1.17963360e+00\n",
      " 1.11670300e+00 1.05279140e+00 9.87898800e-01 9.22025200e-01\n",
      " 8.55170600e-01 7.87335000e-01 7.18518400e-01 6.48720800e-01\n",
      " 5.77942200e-01 5.06182600e-01 4.33442000e-01 3.59720400e-01\n",
      " 2.85017800e-01 2.09334200e-01 1.32669600e-01 5.50240000e-02\n",
      " 0.00000000e+00 6.19202800e-02 1.22859560e-01 1.82817840e-01\n",
      " 2.41795120e-01 2.99791400e-01 3.56806680e-01 4.12840960e-01\n",
      " 4.67894240e-01 5.21966520e-01 5.75057800e-01 6.27168080e-01\n",
      " 6.78297360e-01 7.28445640e-01 7.77612920e-01 8.25799200e-01\n",
      " 8.73004480e-01 9.19228760e-01 9.64472040e-01 1.00873432e+00\n",
      " 1.05201560e+00 1.09431588e+00 1.13563516e+00 1.17597344e+00\n",
      " 1.21533072e+00 1.25370700e+00 1.29110228e+00 1.32751656e+00\n",
      " 1.36294984e+00 1.39740212e+00 1.43087340e+00 1.46336368e+00\n",
      " 1.49487296e+00 1.52540124e+00 1.55494852e+00 1.58351480e+00\n",
      " 1.61110008e+00 1.63770436e+00 1.66332764e+00 1.68796992e+00\n",
      " 1.71163120e+00 1.73431148e+00 1.75601076e+00 1.77672904e+00\n",
      " 1.79646632e+00 1.81522260e+00 1.83299788e+00 1.84979216e+00\n",
      " 1.86560544e+00 1.88043772e+00 1.89428900e+00 1.90715928e+00\n",
      " 1.91904856e+00 1.92995684e+00 1.93988412e+00 1.94883040e+00\n",
      " 1.95679568e+00 1.96377996e+00 1.96978324e+00 1.97480552e+00\n",
      " 1.97884680e+00 1.98190708e+00 1.98398636e+00 1.98508464e+00\n",
      " 1.98520192e+00 1.98433820e+00 1.98249348e+00 1.97966776e+00\n",
      " 1.97586104e+00 1.97107332e+00 1.96530460e+00 1.95855488e+00\n",
      " 1.95082416e+00 1.94211244e+00 1.93241972e+00 1.92174600e+00\n",
      " 1.91009128e+00 1.89745556e+00 1.88383884e+00 1.86924112e+00\n",
      " 1.85366240e+00 1.83710268e+00 1.81956196e+00 1.80104024e+00\n",
      " 1.78153752e+00 1.76105380e+00 1.73958908e+00 1.71714336e+00\n",
      " 1.69371664e+00 1.66930892e+00 1.64392020e+00 1.61755048e+00\n",
      " 1.59019976e+00 1.56186804e+00 1.53255532e+00 1.50226160e+00\n",
      " 1.47098688e+00 1.43873116e+00 1.40549444e+00 1.37127672e+00\n",
      " 1.33607800e+00 1.29989828e+00 1.26273756e+00 1.22459584e+00\n",
      " 1.18547312e+00 1.14536940e+00 1.10428468e+00 1.06221896e+00\n",
      " 1.01917224e+00 9.75144520e-01 9.30135800e-01 8.84146080e-01\n",
      " 8.37175360e-01 7.89223640e-01 7.40290920e-01 6.90377200e-01\n",
      " 6.39482480e-01 5.87606760e-01 5.34750040e-01 4.80912320e-01\n",
      " 4.26093600e-01 3.70293880e-01 3.13513160e-01 2.55751440e-01\n",
      " 1.97008720e-01 1.37285000e-01 7.65802800e-02 1.48945600e-02\n",
      " 0.00000000e+00 4.91523760e-02 9.73237520e-02 1.44514128e-01\n",
      " 1.90723504e-01 2.35951880e-01 2.80199256e-01 3.23465632e-01\n",
      " 3.65751008e-01 4.07055384e-01 4.47378760e-01 4.86721136e-01\n",
      " 5.25082512e-01 5.62462888e-01 5.98862264e-01 6.34280640e-01\n",
      " 6.68718016e-01 7.02174392e-01 7.34649768e-01 7.66144144e-01\n",
      " 7.96657520e-01 8.26189896e-01 8.54741272e-01 8.82311648e-01\n",
      " 9.08901024e-01 9.34509400e-01 9.59136776e-01 9.82783152e-01\n",
      " 1.00544853e+00 1.02713290e+00 1.04783628e+00 1.06755866e+00\n",
      " 1.08630003e+00 1.10406041e+00 1.12083978e+00 1.13663816e+00\n",
      " 1.15145554e+00 1.16529191e+00 1.17814729e+00 1.19002166e+00\n",
      " 1.20091504e+00 1.21082742e+00 1.21975879e+00 1.22770917e+00\n",
      " 1.23467854e+00 1.24066692e+00 1.24567430e+00 1.24970067e+00\n",
      " 1.25274605e+00 1.25481042e+00 1.25589380e+00 1.25599618e+00\n",
      " 1.25511755e+00 1.25325793e+00 1.25041730e+00 1.24659568e+00\n",
      " 1.24179306e+00 1.23600943e+00 1.22924481e+00 1.22149918e+00\n",
      " 1.21277256e+00 1.20306494e+00 1.19237631e+00 1.18070669e+00\n",
      " 1.16805606e+00 1.15442444e+00 1.13981182e+00 1.12421819e+00\n",
      " 1.10764357e+00 1.09008794e+00 1.07155132e+00 1.05203370e+00\n",
      " 1.03153507e+00 1.01005545e+00 9.87594824e-01 9.64153200e-01\n",
      " 9.39730576e-01 9.14326952e-01 8.87942328e-01 8.60576704e-01\n",
      " 8.32230080e-01 8.02902456e-01 7.72593832e-01 7.41304208e-01\n",
      " 7.09033584e-01 6.75781960e-01 6.41549336e-01 6.06335712e-01\n",
      " 5.70141088e-01 5.32965464e-01 4.94808840e-01 4.55671216e-01\n",
      " 4.15552592e-01 3.74452968e-01 3.32372344e-01 2.89310720e-01\n",
      " 2.45268096e-01 2.00244472e-01 1.54239848e-01 1.07254224e-01\n",
      " 5.92876000e-02 1.03399760e-02 0.00000000e+00 3.89618992e-02\n",
      " 7.69427984e-02 1.13942698e-01 1.49961597e-01 1.84999496e-01\n",
      " 2.19056395e-01 2.52132294e-01 2.84227194e-01 3.15341093e-01\n",
      " 3.45473992e-01 3.74625891e-01 4.02796790e-01 4.29986690e-01\n",
      " 4.56195589e-01 4.81423488e-01 5.05670387e-01 5.28936286e-01\n",
      " 5.51221186e-01 5.72525085e-01 5.92847984e-01 6.12189883e-01\n",
      " 6.30550782e-01 6.47930682e-01 6.64329581e-01 6.79747480e-01\n",
      " 6.94184379e-01 7.07640278e-01 7.20115178e-01 7.31609077e-01\n",
      " 7.42121976e-01 7.51653875e-01 7.60204774e-01 7.67774674e-01\n",
      " 7.74363573e-01 7.79971472e-01 7.84598371e-01 7.88244270e-01\n",
      " 7.90909170e-01 7.92593069e-01 7.93295968e-01 7.93017867e-01\n",
      " 7.91758766e-01 7.89518666e-01 7.86297565e-01 7.82095464e-01\n",
      " 7.76912363e-01 7.70748262e-01 7.63603162e-01 7.55477061e-01\n",
      " 7.46369960e-01 7.36281859e-01 7.25212758e-01 7.13162658e-01\n",
      " 7.00131557e-01 6.86119456e-01 6.71126355e-01 6.55152254e-01\n",
      " 6.38197154e-01 6.20261053e-01 6.01343952e-01 5.81445851e-01\n",
      " 5.60566750e-01 5.38706650e-01 5.15865549e-01 4.92043448e-01\n",
      " 4.67240347e-01 4.41456246e-01 4.14691146e-01 3.86945045e-01\n",
      " 3.58217944e-01 3.28509843e-01 2.97820742e-01 2.66150642e-01\n",
      " 2.33499541e-01 1.99867440e-01 1.65254339e-01 1.29660238e-01\n",
      " 9.30851376e-02 5.55290368e-02 1.69919360e-02 0.00000000e+00\n",
      " 3.06334806e-02 6.02859613e-02 8.89574419e-02 1.16647923e-01\n",
      " 1.43357403e-01 1.69085884e-01 1.93833364e-01 2.17599845e-01\n",
      " 2.40385326e-01 2.62189806e-01 2.83013287e-01 3.02855768e-01\n",
      " 3.21717248e-01 3.39597729e-01 3.56497210e-01 3.72415690e-01\n",
      " 3.87353171e-01 4.01309652e-01 4.14285132e-01 4.26279613e-01\n",
      " 4.37293093e-01 4.47325574e-01 4.56377055e-01 4.64447535e-01\n",
      " 4.71537016e-01 4.77645497e-01 4.82772977e-01 4.86919458e-01\n",
      " 4.90084939e-01 4.92269419e-01 4.93472900e-01 4.93695380e-01\n",
      " 4.92936861e-01 4.91197342e-01 4.88476822e-01 4.84775303e-01\n",
      " 4.80092784e-01 4.74429264e-01 4.67784745e-01 4.60159226e-01\n",
      " 4.51552706e-01 4.41965187e-01 4.31396668e-01 4.19847148e-01\n",
      " 4.07316629e-01 3.93805109e-01 3.79312590e-01 3.63839071e-01\n",
      " 3.47384551e-01 3.29949032e-01 3.11532513e-01 2.92134993e-01\n",
      " 2.71756474e-01 2.50396955e-01 2.28056435e-01 2.04734916e-01\n",
      " 1.80432396e-01 1.55148877e-01 1.28884358e-01 1.01638838e-01\n",
      " 7.34123190e-02 4.42047997e-02 1.40162803e-02 0.00000000e+00\n",
      " 2.39546155e-02 4.69282310e-02 6.89208465e-02 8.99324620e-02\n",
      " 1.09963077e-01 1.29012693e-01 1.47081308e-01 1.64168924e-01\n",
      " 1.80275539e-01 1.95401155e-01 2.09545770e-01 2.22709386e-01\n",
      " 2.34892001e-01 2.46093617e-01 2.56314232e-01 2.65553848e-01\n",
      " 2.73812463e-01 2.81090079e-01 2.87386694e-01 2.92702310e-01\n",
      " 2.97036925e-01 3.00390541e-01 3.02763156e-01 3.04154772e-01\n",
      " 3.04565387e-01 3.03995003e-01 3.02443618e-01 2.99911234e-01\n",
      " 2.96397849e-01 2.91903465e-01 2.86428080e-01 2.79971696e-01\n",
      " 2.72534311e-01 2.64115927e-01 2.54716542e-01 2.44336158e-01\n",
      " 2.32974773e-01 2.20632389e-01 2.07309004e-01 1.93004620e-01\n",
      " 1.77719235e-01 1.61452850e-01 1.44205466e-01 1.25977081e-01\n",
      " 1.06767697e-01 8.65773124e-02 6.54059279e-02 4.32535434e-02\n",
      " 2.01201589e-02 0.00000000e+00 1.83105076e-02 3.56400152e-02\n",
      " 5.19885228e-02 6.73560304e-02 8.17425380e-02 9.51480457e-02\n",
      " 1.07572553e-01 1.19016061e-01 1.29478568e-01 1.38960076e-01\n",
      " 1.47460584e-01 1.54980091e-01 1.61518599e-01 1.67076107e-01\n",
      " 1.71652614e-01 1.75248122e-01 1.77862629e-01 1.79496137e-01\n",
      " 1.80148645e-01 1.79820152e-01 1.78510660e-01 1.76220167e-01\n",
      " 1.72948675e-01 1.68696183e-01 1.63462690e-01 1.57248198e-01\n",
      " 1.50052705e-01 1.41876213e-01 1.32718721e-01 1.22580228e-01\n",
      " 1.11460736e-01 9.93602435e-02 8.62787511e-02 7.22162587e-02\n",
      " 5.71727663e-02 4.11482739e-02 2.41427816e-02 6.15628916e-03\n",
      " 0.00000000e+00 1.41929939e-02 2.74049878e-02 3.96359817e-02\n",
      " 5.08859756e-02 6.11549696e-02 7.04429635e-02 7.87499574e-02\n",
      " 8.60759513e-02 9.24209452e-02 9.77849391e-02 1.02167933e-01\n",
      " 1.05569927e-01 1.07990921e-01 1.09430915e-01 1.09889909e-01\n",
      " 1.09367903e-01 1.07864897e-01 1.05380890e-01 1.01915884e-01\n",
      " 9.74698782e-02 9.20428722e-02 8.56348661e-02 7.82458600e-02\n",
      " 6.98758539e-02 6.05248478e-02 5.01928417e-02 3.88798356e-02\n",
      " 2.65858295e-02 1.33108235e-02 0.00000000e+00 1.04238049e-02\n",
      " 1.98666097e-02 2.83284146e-02 3.58092195e-02 4.23090244e-02\n",
      " 4.78278292e-02 5.23656341e-02 5.59224390e-02 5.84982438e-02\n",
      " 6.00930487e-02 6.07068536e-02 6.03396584e-02 5.89914633e-02\n",
      " 5.66622682e-02 5.33520731e-02 4.90608779e-02 4.37886828e-02\n",
      " 3.75354877e-02 3.03012925e-02 2.20860974e-02 1.28899023e-02\n",
      " 2.71270714e-03 0.00000000e+00 7.94555610e-03 1.49101122e-02\n",
      " 2.08936683e-02 2.58962244e-02 2.99177805e-02 3.29583366e-02\n",
      " 3.50178927e-02 3.60964488e-02 3.61940049e-02 3.53105610e-02\n",
      " 3.34461171e-02 3.06006732e-02 2.67742294e-02 2.19667855e-02\n",
      " 1.61783416e-02 9.40889766e-03 1.65845377e-03 0.00000000e+00\n",
      " 6.00415512e-03 1.10273102e-02 1.50694654e-02 1.81306205e-02\n",
      " 2.02107756e-02 2.13099307e-02 2.14280858e-02 2.05652409e-02\n",
      " 1.87213961e-02 1.58965512e-02 1.20907063e-02 7.30386140e-03\n",
      " 1.53601652e-03 0.00000000e+00 4.41807591e-03 7.85515181e-03\n",
      " 1.03112277e-02 1.17863036e-02 1.22803795e-02 1.17934554e-02\n",
      " 1.03255313e-02 7.87660725e-03 4.44668316e-03 3.57590649e-05\n",
      " 0.00000000e+00 3.33253927e-03 5.68407855e-03 7.05461782e-03\n",
      " 7.44415710e-03 6.85269637e-03 5.28023565e-03 2.72677492e-03\n",
      " 0.00000000e+00 1.84656858e-03 2.71213716e-03 2.59670574e-03\n",
      " 1.50027432e-03 0.00000000e+00 6.80945136e-04 3.80890272e-04\n",
      " 0.00000000e+00 4.38438913e-05 0.00000000e+00 0.00000000e+00\n",
      " 0.00000000e+00 0.00000000e+00 0.00000000e+00 0.00000000e+00\n",
      " 0.00000000e+00 0.00000000e+00 0.00000000e+00 0.00000000e+00\n",
      " 0.00000000e+00 0.00000000e+00 0.00000000e+00 0.00000000e+00\n",
      " 0.00000000e+00 0.00000000e+00 0.00000000e+00 0.00000000e+00\n",
      " 0.00000000e+00 0.00000000e+00 0.00000000e+00 0.00000000e+00\n",
      " 0.00000000e+00 0.00000000e+00 0.00000000e+00 0.00000000e+00\n",
      " 0.00000000e+00 0.00000000e+00 0.00000000e+00 0.00000000e+00\n",
      " 0.00000000e+00 0.00000000e+00 0.00000000e+00 0.00000000e+00\n",
      " 0.00000000e+00 0.00000000e+00 0.00000000e+00 0.00000000e+00\n",
      " 0.00000000e+00 0.00000000e+00 0.00000000e+00 0.00000000e+00\n",
      " 0.00000000e+00 0.00000000e+00 0.00000000e+00 0.00000000e+00\n",
      " 0.00000000e+00 0.00000000e+00 0.00000000e+00 0.00000000e+00\n",
      " 0.00000000e+00 0.00000000e+00 0.00000000e+00 0.00000000e+00\n",
      " 0.00000000e+00 0.00000000e+00 0.00000000e+00 0.00000000e+00]\n"
     ]
    }
   ],
   "source": [
    "# Load data from CSV file (assuming one column for vertical position y)\n",
    "data = np.loadtxt('projectile_data.csv', delimiter=',')\n",
    "\n",
    "print(data)\n"
   ]
  },
  {
   "cell_type": "markdown",
   "id": "0ecfe4ff",
   "metadata": {},
   "source": [
    "Create a time array for this data, where each time corresponds to the position in `projectile_data.csv`."
   ]
  },
  {
   "cell_type": "code",
   "execution_count": 23,
   "id": "ccfe44fe",
   "metadata": {},
   "outputs": [
    {
     "name": "stdout",
     "output_type": "stream",
     "text": [
      "[ 0.   0.1  0.2  0.3  0.4  0.5  0.6  0.7  0.8  0.9  1.   1.1  1.2  1.3\n",
      "  1.4  1.5  1.6  1.7  1.8  1.9  2.   2.1  2.2  2.3  2.4  2.5  2.6  2.7\n",
      "  2.8  2.9  3.   3.1  3.2  3.3  3.4  3.5  3.6  3.7  3.8  3.9  4.   4.1\n",
      "  4.2  4.3  4.4  4.5  4.6  4.7  4.8  4.9  5.   5.1  5.2  5.3  5.4  5.5\n",
      "  5.6  5.7  5.8  5.9  6.   6.1  6.2  6.3  6.4  6.5  6.6  6.7  6.8  6.9\n",
      "  7.   7.1  7.2  7.3  7.4  7.5  7.6  7.7  7.8  7.9  8.   8.1  8.2  8.3\n",
      "  8.4  8.5  8.6  8.7  8.8  8.9  9.   9.1  9.2  9.3  9.4  9.5  9.6  9.7\n",
      "  9.8  9.9 10.  10.1 10.2 10.3 10.4 10.5 10.6 10.7 10.8 10.9 11.  11.1\n",
      " 11.2 11.3 11.4 11.5 11.6 11.7 11.8 11.9 12.  12.1 12.2 12.3 12.4 12.5\n",
      " 12.6 12.7 12.8 12.9 13.  13.1 13.2 13.3 13.4 13.5 13.6 13.7 13.8 13.9\n",
      " 14.  14.1 14.2 14.3 14.4 14.5 14.6 14.7 14.8 14.9 15.  15.1 15.2 15.3\n",
      " 15.4 15.5 15.6 15.7 15.8 15.9 16.  16.1 16.2 16.3 16.4 16.5 16.6 16.7\n",
      " 16.8 16.9 17.  17.1 17.2 17.3 17.4 17.5 17.6 17.7 17.8 17.9 18.  18.1\n",
      " 18.2 18.3 18.4 18.5 18.6 18.7 18.8 18.9 19.  19.1 19.2 19.3 19.4 19.5\n",
      " 19.6 19.7 19.8 19.9 20.  20.1 20.2 20.3 20.4 20.5 20.6 20.7 20.8 20.9\n",
      " 21.  21.1 21.2 21.3 21.4 21.5 21.6 21.7 21.8 21.9 22.  22.1 22.2 22.3\n",
      " 22.4 22.5 22.6 22.7 22.8 22.9 23.  23.1 23.2 23.3 23.4 23.5 23.6 23.7\n",
      " 23.8 23.9 24.  24.1 24.2 24.3 24.4 24.5 24.6 24.7 24.8 24.9 25.  25.1\n",
      " 25.2 25.3 25.4 25.5 25.6 25.7 25.8 25.9 26.  26.1 26.2 26.3 26.4 26.5\n",
      " 26.6 26.7 26.8 26.9 27.  27.1 27.2 27.3 27.4 27.5 27.6 27.7 27.8 27.9\n",
      " 28.  28.1 28.2 28.3 28.4 28.5 28.6 28.7 28.8 28.9 29.  29.1 29.2 29.3\n",
      " 29.4 29.5 29.6 29.7 29.8 29.9 30.  30.1 30.2 30.3 30.4 30.5 30.6 30.7\n",
      " 30.8 30.9 31.  31.1 31.2 31.3 31.4 31.5 31.6 31.7 31.8 31.9 32.  32.1\n",
      " 32.2 32.3 32.4 32.5 32.6 32.7 32.8 32.9 33.  33.1 33.2 33.3 33.4 33.5\n",
      " 33.6 33.7 33.8 33.9 34.  34.1 34.2 34.3 34.4 34.5 34.6 34.7 34.8 34.9\n",
      " 35.  35.1 35.2 35.3 35.4 35.5 35.6 35.7 35.8 35.9 36.  36.1 36.2 36.3\n",
      " 36.4 36.5 36.6 36.7 36.8 36.9 37.  37.1 37.2 37.3 37.4 37.5 37.6 37.7\n",
      " 37.8 37.9 38.  38.1 38.2 38.3 38.4 38.5 38.6 38.7 38.8 38.9 39.  39.1\n",
      " 39.2 39.3 39.4 39.5 39.6 39.7 39.8 39.9 40.  40.1 40.2 40.3 40.4 40.5\n",
      " 40.6 40.7 40.8 40.9 41.  41.1 41.2 41.3 41.4 41.5 41.6 41.7 41.8 41.9\n",
      " 42.  42.1 42.2 42.3 42.4 42.5 42.6 42.7 42.8 42.9 43.  43.1 43.2 43.3\n",
      " 43.4 43.5 43.6 43.7 43.8 43.9 44.  44.1 44.2 44.3 44.4 44.5 44.6 44.7\n",
      " 44.8 44.9 45.  45.1 45.2 45.3 45.4 45.5 45.6 45.7 45.8 45.9 46.  46.1\n",
      " 46.2 46.3 46.4 46.5 46.6 46.7 46.8 46.9 47.  47.1 47.2 47.3 47.4 47.5\n",
      " 47.6 47.7 47.8 47.9 48.  48.1 48.2 48.3 48.4 48.5 48.6 48.7 48.8 48.9\n",
      " 49.  49.1 49.2 49.3 49.4 49.5 49.6 49.7 49.8 49.9 50.  50.1 50.2 50.3\n",
      " 50.4 50.5 50.6 50.7 50.8 50.9 51.  51.1 51.2 51.3 51.4 51.5 51.6 51.7\n",
      " 51.8 51.9 52.  52.1 52.2 52.3 52.4 52.5 52.6 52.7 52.8 52.9 53.  53.1\n",
      " 53.2 53.3 53.4 53.5 53.6 53.7 53.8 53.9 54.  54.1 54.2 54.3 54.4 54.5\n",
      " 54.6 54.7 54.8 54.9 55.  55.1 55.2 55.3 55.4 55.5 55.6 55.7 55.8 55.9\n",
      " 56.  56.1 56.2 56.3 56.4 56.5 56.6 56.7 56.8 56.9 57.  57.1 57.2 57.3\n",
      " 57.4 57.5 57.6 57.7 57.8 57.9 58.  58.1 58.2 58.3 58.4 58.5 58.6 58.7\n",
      " 58.8 58.9 59.  59.1 59.2 59.3 59.4 59.5 59.6 59.7 59.8 59.9 60.  60.1\n",
      " 60.2 60.3 60.4 60.5 60.6 60.7 60.8 60.9 61.  61.1 61.2 61.3 61.4 61.5\n",
      " 61.6 61.7 61.8 61.9 62.  62.1 62.2 62.3 62.4 62.5 62.6 62.7 62.8 62.9\n",
      " 63.  63.1 63.2 63.3 63.4 63.5 63.6 63.7 63.8 63.9 64.  64.1 64.2 64.3\n",
      " 64.4 64.5 64.6 64.7 64.8 64.9 65.  65.1 65.2 65.3 65.4 65.5 65.6 65.7\n",
      " 65.8 65.9 66.  66.1 66.2 66.3 66.4 66.5 66.6 66.7 66.8 66.9 67.  67.1\n",
      " 67.2 67.3 67.4 67.5 67.6 67.7 67.8 67.9 68.  68.1 68.2 68.3 68.4 68.5\n",
      " 68.6 68.7 68.8 68.9 69.  69.1 69.2 69.3 69.4 69.5 69.6 69.7 69.8 69.9\n",
      " 70.  70.1 70.2 70.3 70.4 70.5 70.6 70.7 70.8 70.9 71.  71.1 71.2 71.3\n",
      " 71.4 71.5 71.6 71.7 71.8 71.9 72.  72.1 72.2 72.3 72.4 72.5 72.6 72.7\n",
      " 72.8 72.9 73.  73.1 73.2 73.3 73.4 73.5 73.6 73.7 73.8 73.9 74.  74.1\n",
      " 74.2 74.3 74.4 74.5 74.6 74.7 74.8 74.9 75.  75.1 75.2 75.3 75.4 75.5\n",
      " 75.6 75.7 75.8 75.9 76.  76.1 76.2 76.3 76.4 76.5 76.6 76.7 76.8 76.9\n",
      " 77.  77.1 77.2 77.3 77.4 77.5 77.6 77.7 77.8 77.9 78.  78.1 78.2 78.3\n",
      " 78.4 78.5 78.6 78.7 78.8 78.9 79.  79.1 79.2 79.3 79.4 79.5 79.6 79.7\n",
      " 79.8 79.9 80.  80.1 80.2 80.3 80.4 80.5 80.6 80.7 80.8 80.9 81.  81.1\n",
      " 81.2 81.3 81.4 81.5 81.6 81.7 81.8 81.9 82.  82.1 82.2 82.3 82.4 82.5\n",
      " 82.6 82.7 82.8 82.9 83.  83.1 83.2 83.3 83.4 83.5 83.6 83.7 83.8 83.9\n",
      " 84.  84.1 84.2 84.3 84.4 84.5 84.6 84.7 84.8 84.9 85.  85.1 85.2 85.3\n",
      " 85.4 85.5 85.6 85.7 85.8 85.9 86.  86.1 86.2 86.3 86.4 86.5 86.6 86.7\n",
      " 86.8 86.9 87.  87.1 87.2 87.3 87.4 87.5 87.6 87.7 87.8 87.9 88.  88.1\n",
      " 88.2 88.3 88.4 88.5 88.6 88.7 88.8 88.9 89.  89.1 89.2 89.3 89.4 89.5\n",
      " 89.6 89.7 89.8 89.9 90.  90.1 90.2 90.3 90.4 90.5 90.6 90.7 90.8 90.9\n",
      " 91.  91.1 91.2 91.3 91.4 91.5 91.6 91.7 91.8 91.9 92.  92.1 92.2 92.3\n",
      " 92.4 92.5 92.6 92.7 92.8 92.9 93.  93.1 93.2 93.3 93.4 93.5 93.6 93.7\n",
      " 93.8 93.9 94.  94.1 94.2 94.3 94.4 94.5 94.6 94.7 94.8 94.9 95.  95.1\n",
      " 95.2 95.3 95.4 95.5 95.6 95.7 95.8 95.9 96.  96.1 96.2 96.3 96.4 96.5\n",
      " 96.6 96.7 96.8 96.9 97.  97.1 97.2 97.3 97.4 97.5 97.6 97.7 97.8 97.9\n",
      " 98.  98.1 98.2 98.3 98.4 98.5 98.6 98.7 98.8 98.9 99.  99.1 99.2 99.3\n",
      " 99.4 99.5 99.6 99.7 99.8 99.9]\n"
     ]
    }
   ],
   "source": [
    "# Number of data points\n",
    "n_points = data.shape[0]\n",
    "\n",
    "# Create time array from 0 to (n_points-1)*0.1 with step 0.1\n",
    "time = np.arange(n_points) * 0.1\n",
    "\n",
    "print(time)"
   ]
  },
  {
   "cell_type": "markdown",
   "id": "201bf5a2",
   "metadata": {},
   "source": [
    "Calculate the velocity and acceleration at each time step using the finite difference method, i.e.\n",
    "$$\n",
    "v_i = \\frac{y_{i+1} - y_i}{t_{i+1} - t_i} \\\\\n",
    "\n",
    "a_i = \\frac{v_{i+1} - v_i}{t_{i+1} - t_i}\n",
    "$$\n",
    "Find the maximum height reached by the projectile, and the time the projectile hits the ground the first time after launch."
   ]
  },
  {
   "cell_type": "code",
   "execution_count": 24,
   "id": "0cb29140",
   "metadata": {},
   "outputs": [
    {
     "name": "stdout",
     "output_type": "stream",
     "text": [
      "Maximum height: 5.047 meters at time 10.100 s\n",
      "Projectile hits the ground at time: 20.300 s\n"
     ]
    }
   ],
   "source": [
    "# Calculate velocity using forward differences\n",
    "velocity = (data[1:] - data[:-1]) / (time[1:] - time[:-1])\n",
    "\n",
    "# Calculate acceleration similarly from velocity\n",
    "acceleration = (velocity[1:] - velocity[:-1]) / (time[2:] - time[1:-1])\n",
    "\n",
    "# Maximum height and corresponding time\n",
    "max_height = np.max(data)\n",
    "max_height_index = np.argmax(data)\n",
    "time_max_height = time[max_height_index]\n",
    "\n",
    "print(f\"Maximum height: {max_height:.3f} meters at time {time_max_height:.3f} s\")\n",
    "\n",
    "# Find when projectile hits ground (y <= 0) for the first time after launch\n",
    "# We'll look for the first index where data goes <= 0 after the first point\n",
    "ground_indices = np.where(data <= 0)[0]\n",
    "\n",
    "# Ignore the very first if it starts at 0 (launch)\n",
    "ground_indices_after_launch = ground_indices[ground_indices > 0]\n",
    "\n",
    "if ground_indices_after_launch.size > 0:\n",
    "    first_ground_index = ground_indices_after_launch[0]\n",
    "    time_ground = time[first_ground_index]\n",
    "    print(f\"Projectile hits the ground at time: {time_ground:.3f} s\")\n",
    "else:\n",
    "    print(\"Projectile does not hit the ground within the data range.\")\n"
   ]
  },
  {
   "cell_type": "markdown",
   "id": "6b0bcaa6",
   "metadata": {},
   "source": [
    "Save a new `numpy` array with columns for time, position, velocity and acceleration in the file `projectile_analysis.csv`. You will need to trim the data to be the length of the acceleration array."
   ]
  },
  {
   "cell_type": "code",
   "execution_count": 25,
   "id": "b60254b9",
   "metadata": {},
   "outputs": [],
   "source": [
    "# To align lengths, we need to trim or pad arrays because\n",
    "# velocity has length len(data) - 1\n",
    "# acceleration has length len(data) - 2\n",
    "\n",
    "# We'll trim all arrays to the shortest length, which is acceleration's length + 2\n",
    "n = len(acceleration)  # length of acceleration\n",
    "\n",
    "# Trim arrays accordingly:\n",
    "time_trimmed = time[:n]\n",
    "position_trimmed = data[:n]\n",
    "velocity_trimmed = velocity[:n]\n",
    "acceleration_trimmed = acceleration  # already length n\n",
    "\n",
    "# Stack columns horizontally\n",
    "result = np.column_stack((time_trimmed, position_trimmed, velocity_trimmed, acceleration_trimmed))\n",
    "\n",
    "# Save to CSV with headers\n",
    "header = \"time,position,velocity,acceleration\"\n",
    "np.savetxt(\"projectile_analysis.csv\", result, delimiter=\",\", header=header, comments='')\n"
   ]
  }
 ],
 "metadata": {
  "kernelspec": {
   "display_name": "testing_URs",
   "language": "python",
   "name": "testing_urs"
  },
  "language_info": {
   "codemirror_mode": {
    "name": "ipython",
    "version": 3
   },
   "file_extension": ".py",
   "mimetype": "text/x-python",
   "name": "python",
   "nbconvert_exporter": "python",
   "pygments_lexer": "ipython3",
   "version": "3.12.2"
  }
 },
 "nbformat": 4,
 "nbformat_minor": 5
}
