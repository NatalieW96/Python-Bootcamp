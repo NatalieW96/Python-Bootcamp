{
 "cells": [
  {
   "cell_type": "markdown",
   "id": "5ceb9dd0",
   "metadata": {},
   "source": [
    "# Practical Session 7 Bonus: `pandas`"
   ]
  },
  {
   "cell_type": "markdown",
   "id": "0e501185",
   "metadata": {},
   "source": [
    "### What is pandas?\n",
    "\n",
    "- `pandas` is a Python library for working with structured/tabular data - — like Excel sheets, CSVs, or SQL tables.\n",
    "\n",
    "- It is built on top of `numpy`, and integrates well with other Python tools.\n",
    "\n",
    "- The core data structures in pandas are:\n",
    "\n",
    "    - Series – a 1D labeled array\n",
    "\n",
    "    - DataFrame – a 2D table with labeled rows and columns\n",
    "\n",
    "- It’s ideal for loading, cleaning, analyzing, filtering, and aggregating data."
   ]
  },
  {
   "cell_type": "code",
   "execution_count": 2,
   "id": "938aed8e",
   "metadata": {},
   "outputs": [],
   "source": [
    "import pandas as pd"
   ]
  },
  {
   "cell_type": "markdown",
   "id": "97000ad3",
   "metadata": {},
   "source": [
    "### `pandas` tutorial\n",
    "\n",
    "Tables can be loaded from files such as \n",
    "```python\n",
    "df = pd.read_csv(\"data.csv\")\n",
    "```\n",
    "\n",
    "Alternatively dataframes can be created for scratch e.g. from a dictionary"
   ]
  },
  {
   "cell_type": "code",
   "execution_count": 3,
   "id": "d8ad16b4",
   "metadata": {},
   "outputs": [],
   "source": [
    "data = {'Time': [0, 1, 2], 'Position': [0.0, 4.9, 9.8]}\n",
    "\n",
    "df = pd.DataFrame(data)"
   ]
  },
  {
   "cell_type": "markdown",
   "id": "23b63e50",
   "metadata": {},
   "source": [
    "Or `numpy` arrays"
   ]
  },
  {
   "cell_type": "code",
   "execution_count": 4,
   "id": "3c66d478",
   "metadata": {},
   "outputs": [],
   "source": [
    "import numpy as np\n",
    "\n",
    "arr = np.array([[0, 0.0],\n",
    "                [1, 4.9],\n",
    "                [2, 9.8]])\n",
    "\n",
    "df = pd.DataFrame(arr, columns=['Time', 'Position'])"
   ]
  },
  {
   "cell_type": "code",
   "execution_count": 5,
   "id": "b207a15f",
   "metadata": {},
   "outputs": [
    {
     "data": {
      "text/html": [
       "<div>\n",
       "<style scoped>\n",
       "    .dataframe tbody tr th:only-of-type {\n",
       "        vertical-align: middle;\n",
       "    }\n",
       "\n",
       "    .dataframe tbody tr th {\n",
       "        vertical-align: top;\n",
       "    }\n",
       "\n",
       "    .dataframe thead th {\n",
       "        text-align: right;\n",
       "    }\n",
       "</style>\n",
       "<table border=\"1\" class=\"dataframe\">\n",
       "  <thead>\n",
       "    <tr style=\"text-align: right;\">\n",
       "      <th></th>\n",
       "      <th>Time</th>\n",
       "      <th>Position</th>\n",
       "    </tr>\n",
       "  </thead>\n",
       "  <tbody>\n",
       "    <tr>\n",
       "      <th>0</th>\n",
       "      <td>0.0</td>\n",
       "      <td>0.0</td>\n",
       "    </tr>\n",
       "    <tr>\n",
       "      <th>1</th>\n",
       "      <td>1.0</td>\n",
       "      <td>4.9</td>\n",
       "    </tr>\n",
       "    <tr>\n",
       "      <th>2</th>\n",
       "      <td>2.0</td>\n",
       "      <td>9.8</td>\n",
       "    </tr>\n",
       "  </tbody>\n",
       "</table>\n",
       "</div>"
      ],
      "text/plain": [
       "   Time  Position\n",
       "0   0.0       0.0\n",
       "1   1.0       4.9\n",
       "2   2.0       9.8"
      ]
     },
     "execution_count": 5,
     "metadata": {},
     "output_type": "execute_result"
    }
   ],
   "source": [
    "df # Display the DataFrame"
   ]
  },
  {
   "cell_type": "markdown",
   "id": "62268997",
   "metadata": {},
   "source": [
    "In a `pandas` DataFrame, the index is the label for each row. By default, pandas assigns a simple numerical index starting from 0, shown on the left side of the table. This is similar to row numbers in a spreadsheet.\n",
    "\n",
    "You can:\n",
    "\n",
    "- Leave the default index (0, 1, 2, …)\n",
    "\n",
    "- Set a custom index (e.g. time, IDs, dates)\n",
    "\n",
    "- Use the index to select, filter, or merge rows\n",
    "\n",
    "You can access or assign new indexes using\n",
    "```python\n",
    "df.index\n",
    "```\n",
    "for example for looping over them"
   ]
  },
  {
   "cell_type": "code",
   "execution_count": 6,
   "id": "e1da74d6",
   "metadata": {},
   "outputs": [
    {
     "name": "stdout",
     "output_type": "stream",
     "text": [
      "0\n",
      "1\n",
      "2\n"
     ]
    }
   ],
   "source": [
    "for i in df.index:\n",
    "    print(i)"
   ]
  },
  {
   "cell_type": "markdown",
   "id": "69ed8d13",
   "metadata": {},
   "source": [
    "`pandas` has various functions for exploring the data\n",
    "```python\n",
    "df.head()        # First 5 rows\n",
    "df.tail(3)       # Last 3 rows\n",
    "df.shape         # (rows, columns)\n",
    "df.columns       # Column names\n",
    "df.dtypes        # Data types\n",
    "df.info()        # Summary of structure\n",
    "df.describe()    # Summary statistics\n",
    "```"
   ]
  },
  {
   "cell_type": "markdown",
   "id": "66aa1639",
   "metadata": {},
   "source": [
    "Columns can be accessed through"
   ]
  },
  {
   "cell_type": "code",
   "execution_count": 7,
   "id": "3e575277",
   "metadata": {},
   "outputs": [
    {
     "data": {
      "text/plain": [
       "0    0.0\n",
       "1    1.0\n",
       "2    2.0\n",
       "Name: Time, dtype: float64"
      ]
     },
     "execution_count": 7,
     "metadata": {},
     "output_type": "execute_result"
    }
   ],
   "source": [
    "df['Time']          # Single column (returns Series)"
   ]
  },
  {
   "cell_type": "markdown",
   "id": "461f3ddb",
   "metadata": {},
   "source": [
    "Rows can be accessed through `iloc` (if you have custom indexes you can instead use `loc`)"
   ]
  },
  {
   "cell_type": "code",
   "execution_count": 8,
   "id": "6cd37fbe",
   "metadata": {},
   "outputs": [
    {
     "data": {
      "text/plain": [
       "Time        0.0\n",
       "Position    0.0\n",
       "Name: 0, dtype: float64"
      ]
     },
     "execution_count": 8,
     "metadata": {},
     "output_type": "execute_result"
    }
   ],
   "source": [
    "df.iloc[0]"
   ]
  },
  {
   "cell_type": "markdown",
   "id": "a55618bc",
   "metadata": {},
   "source": [
    "Filtering can be done with conditions as so"
   ]
  },
  {
   "cell_type": "code",
   "execution_count": 9,
   "id": "b0239991",
   "metadata": {},
   "outputs": [
    {
     "data": {
      "text/html": [
       "<div>\n",
       "<style scoped>\n",
       "    .dataframe tbody tr th:only-of-type {\n",
       "        vertical-align: middle;\n",
       "    }\n",
       "\n",
       "    .dataframe tbody tr th {\n",
       "        vertical-align: top;\n",
       "    }\n",
       "\n",
       "    .dataframe thead th {\n",
       "        text-align: right;\n",
       "    }\n",
       "</style>\n",
       "<table border=\"1\" class=\"dataframe\">\n",
       "  <thead>\n",
       "    <tr style=\"text-align: right;\">\n",
       "      <th></th>\n",
       "      <th>Time</th>\n",
       "      <th>Position</th>\n",
       "    </tr>\n",
       "  </thead>\n",
       "  <tbody>\n",
       "    <tr>\n",
       "      <th>2</th>\n",
       "      <td>2.0</td>\n",
       "      <td>9.8</td>\n",
       "    </tr>\n",
       "  </tbody>\n",
       "</table>\n",
       "</div>"
      ],
      "text/plain": [
       "   Time  Position\n",
       "2   2.0       9.8"
      ]
     },
     "execution_count": 9,
     "metadata": {},
     "output_type": "execute_result"
    }
   ],
   "source": [
    "df[df['Position'] > 5]              # Rows where position > 10"
   ]
  },
  {
   "cell_type": "code",
   "execution_count": 10,
   "id": "dad8e974",
   "metadata": {},
   "outputs": [
    {
     "data": {
      "text/html": [
       "<div>\n",
       "<style scoped>\n",
       "    .dataframe tbody tr th:only-of-type {\n",
       "        vertical-align: middle;\n",
       "    }\n",
       "\n",
       "    .dataframe tbody tr th {\n",
       "        vertical-align: top;\n",
       "    }\n",
       "\n",
       "    .dataframe thead th {\n",
       "        text-align: right;\n",
       "    }\n",
       "</style>\n",
       "<table border=\"1\" class=\"dataframe\">\n",
       "  <thead>\n",
       "    <tr style=\"text-align: right;\">\n",
       "      <th></th>\n",
       "      <th>Time</th>\n",
       "      <th>Position</th>\n",
       "    </tr>\n",
       "  </thead>\n",
       "  <tbody>\n",
       "  </tbody>\n",
       "</table>\n",
       "</div>"
      ],
      "text/plain": [
       "Empty DataFrame\n",
       "Columns: [Time, Position]\n",
       "Index: []"
      ]
     },
     "execution_count": 10,
     "metadata": {},
     "output_type": "execute_result"
    }
   ],
   "source": [
    "df[(df['Position'] > 5) & (df['Time'] < 2)]  # Multiple conditions"
   ]
  },
  {
   "cell_type": "markdown",
   "id": "c09589a4",
   "metadata": {},
   "source": [
    "Note that these create new dataframes and don't alter `df` itself. To modify `df` directly it needs to be done through assignment"
   ]
  },
  {
   "cell_type": "code",
   "execution_count": 11,
   "id": "0c350f4c",
   "metadata": {},
   "outputs": [
    {
     "data": {
      "text/html": [
       "<div>\n",
       "<style scoped>\n",
       "    .dataframe tbody tr th:only-of-type {\n",
       "        vertical-align: middle;\n",
       "    }\n",
       "\n",
       "    .dataframe tbody tr th {\n",
       "        vertical-align: top;\n",
       "    }\n",
       "\n",
       "    .dataframe thead th {\n",
       "        text-align: right;\n",
       "    }\n",
       "</style>\n",
       "<table border=\"1\" class=\"dataframe\">\n",
       "  <thead>\n",
       "    <tr style=\"text-align: right;\">\n",
       "      <th></th>\n",
       "      <th>Time</th>\n",
       "      <th>Position</th>\n",
       "    </tr>\n",
       "  </thead>\n",
       "  <tbody>\n",
       "    <tr>\n",
       "      <th>0</th>\n",
       "      <td>0.0</td>\n",
       "      <td>0.0</td>\n",
       "    </tr>\n",
       "    <tr>\n",
       "      <th>1</th>\n",
       "      <td>1.0</td>\n",
       "      <td>490.0</td>\n",
       "    </tr>\n",
       "    <tr>\n",
       "      <th>2</th>\n",
       "      <td>2.0</td>\n",
       "      <td>980.0</td>\n",
       "    </tr>\n",
       "  </tbody>\n",
       "</table>\n",
       "</div>"
      ],
      "text/plain": [
       "   Time  Position\n",
       "0   0.0       0.0\n",
       "1   1.0     490.0\n",
       "2   2.0     980.0"
      ]
     },
     "execution_count": 11,
     "metadata": {},
     "output_type": "execute_result"
    }
   ],
   "source": [
    "df['Position'] = df['Position'] * 100\n",
    "df"
   ]
  },
  {
   "cell_type": "markdown",
   "id": "e2e0097d",
   "metadata": {},
   "source": [
    "Dataframes can be saved with\n",
    "```python\n",
    "df.to_csv('new_data.csv', index=False)\n",
    "```\n",
    "The `index=False` argument means the indexes aren't saved in the file."
   ]
  },
  {
   "cell_type": "markdown",
   "id": "39d1dee3",
   "metadata": {},
   "source": [
    "### Task: Projectile Motion with `pandas`"
   ]
  },
  {
   "cell_type": "markdown",
   "id": "9e612d9d",
   "metadata": {},
   "source": [
    "We are going to work with the `projectile_analysis.csv` whcih we created in the practical session 7 worksheet.\n",
    "\n",
    "Firstly load the data into a `pandas` dataframe, giving appropriate column names."
   ]
  },
  {
   "cell_type": "code",
   "execution_count": 12,
   "id": "e1c8de8e",
   "metadata": {},
   "outputs": [
    {
     "name": "stdout",
     "output_type": "stream",
     "text": [
      "   time  position  velocity  acceleration\n",
      "0   0.0  0.000000   0.99019       -0.0981\n",
      "1   0.1  0.099019   0.98038       -0.0981\n",
      "2   0.2  0.197057   0.97057       -0.0981\n",
      "3   0.3  0.294114   0.96076       -0.0981\n",
      "4   0.4  0.390190   0.95095       -0.0981\n"
     ]
    }
   ],
   "source": [
    "# Load the CSV file with headers\n",
    "df = pd.read_csv('projectile_analysis.csv')\n",
    "\n",
    "# Check the first few rows\n",
    "print(df.head())"
   ]
  },
  {
   "cell_type": "markdown",
   "id": "aebd9050",
   "metadata": {},
   "source": [
    "Use `.info()` and `.describe()` to understand the structure and summary of the dataset."
   ]
  },
  {
   "cell_type": "code",
   "execution_count": 13,
   "id": "fd06bdb6",
   "metadata": {},
   "outputs": [
    {
     "name": "stdout",
     "output_type": "stream",
     "text": [
      "<class 'pandas.core.frame.DataFrame'>\n",
      "RangeIndex: 998 entries, 0 to 997\n",
      "Data columns (total 4 columns):\n",
      " #   Column        Non-Null Count  Dtype  \n",
      "---  ------        --------------  -----  \n",
      " 0   time          998 non-null    float64\n",
      " 1   position      998 non-null    float64\n",
      " 2   velocity      998 non-null    float64\n",
      " 3   acceleration  998 non-null    float64\n",
      "dtypes: float64(4)\n",
      "memory usage: 31.3 KB\n",
      "None\n",
      "             time    position      velocity  acceleration\n",
      "count  998.000000  998.000000  9.980000e+02    998.000000\n",
      "mean    49.850000    1.359681  2.669875e-18     -0.009922\n",
      "std     28.824209    1.472504  3.648042e-01      0.775774\n",
      "min      0.000000    0.000000 -9.816200e-01     -0.098100\n",
      "25%     24.925000    0.154425 -1.986523e-01     -0.098100\n",
      "50%     49.850000    0.777263  0.000000e+00     -0.098100\n",
      "75%     74.775000    2.088826  1.998358e-01     -0.098100\n",
      "max     99.700000    5.046869  9.901900e-01     16.489040\n"
     ]
    }
   ],
   "source": [
    "# Display concise summary of the DataFrame\n",
    "print(df.info())\n",
    "\n",
    "# Display descriptive statistics of the DataFrame\n",
    "print(df.describe())"
   ]
  },
  {
   "cell_type": "markdown",
   "id": "f1405627",
   "metadata": {},
   "source": [
    "Calculate and print the average acceleration during freefall (i.e., when the velocity is negative and position is above 0.5 m)."
   ]
  },
  {
   "cell_type": "code",
   "execution_count": 14,
   "id": "5ad112f2",
   "metadata": {},
   "outputs": [
    {
     "name": "stdout",
     "output_type": "stream",
     "text": [
      "Average acceleration during freefall: -0.10 m/s²\n"
     ]
    }
   ],
   "source": [
    "# Filter rows where velocity is negative and position is above 0.5\n",
    "freefall = df[(df['velocity'] < 0) & (df['position'] > 0.5)]\n",
    "\n",
    "# Calculate the average acceleration during freefall\n",
    "avg_acceleration = freefall['acceleration'].mean()\n",
    "\n",
    "print(f\"Average acceleration during freefall: {avg_acceleration:.2f} m/s²\")\n"
   ]
  },
  {
   "cell_type": "markdown",
   "id": "58551213",
   "metadata": {},
   "source": [
    "Add a new column to the DataFrame with the ball’s kinetic energy:\n",
    "$$\n",
    "KE = \\frac{1}{2} m v^2\n",
    "$$\n",
    "Assume the mass is 0.2kg"
   ]
  },
  {
   "cell_type": "code",
   "execution_count": 17,
   "id": "36b2cab1",
   "metadata": {},
   "outputs": [
    {
     "data": {
      "text/html": [
       "<div>\n",
       "<style scoped>\n",
       "    .dataframe tbody tr th:only-of-type {\n",
       "        vertical-align: middle;\n",
       "    }\n",
       "\n",
       "    .dataframe tbody tr th {\n",
       "        vertical-align: top;\n",
       "    }\n",
       "\n",
       "    .dataframe thead th {\n",
       "        text-align: right;\n",
       "    }\n",
       "</style>\n",
       "<table border=\"1\" class=\"dataframe\">\n",
       "  <thead>\n",
       "    <tr style=\"text-align: right;\">\n",
       "      <th></th>\n",
       "      <th>time</th>\n",
       "      <th>position</th>\n",
       "      <th>velocity</th>\n",
       "      <th>acceleration</th>\n",
       "      <th>kinetic_energy</th>\n",
       "    </tr>\n",
       "  </thead>\n",
       "  <tbody>\n",
       "    <tr>\n",
       "      <th>0</th>\n",
       "      <td>0.0</td>\n",
       "      <td>0.000000</td>\n",
       "      <td>0.99019</td>\n",
       "      <td>-0.0981</td>\n",
       "      <td>0.098048</td>\n",
       "    </tr>\n",
       "    <tr>\n",
       "      <th>1</th>\n",
       "      <td>0.1</td>\n",
       "      <td>0.099019</td>\n",
       "      <td>0.98038</td>\n",
       "      <td>-0.0981</td>\n",
       "      <td>0.096114</td>\n",
       "    </tr>\n",
       "    <tr>\n",
       "      <th>2</th>\n",
       "      <td>0.2</td>\n",
       "      <td>0.197057</td>\n",
       "      <td>0.97057</td>\n",
       "      <td>-0.0981</td>\n",
       "      <td>0.094201</td>\n",
       "    </tr>\n",
       "    <tr>\n",
       "      <th>3</th>\n",
       "      <td>0.3</td>\n",
       "      <td>0.294114</td>\n",
       "      <td>0.96076</td>\n",
       "      <td>-0.0981</td>\n",
       "      <td>0.092306</td>\n",
       "    </tr>\n",
       "    <tr>\n",
       "      <th>4</th>\n",
       "      <td>0.4</td>\n",
       "      <td>0.390190</td>\n",
       "      <td>0.95095</td>\n",
       "      <td>-0.0981</td>\n",
       "      <td>0.090431</td>\n",
       "    </tr>\n",
       "    <tr>\n",
       "      <th>...</th>\n",
       "      <td>...</td>\n",
       "      <td>...</td>\n",
       "      <td>...</td>\n",
       "      <td>...</td>\n",
       "      <td>...</td>\n",
       "    </tr>\n",
       "    <tr>\n",
       "      <th>993</th>\n",
       "      <td>99.3</td>\n",
       "      <td>0.000000</td>\n",
       "      <td>0.00000</td>\n",
       "      <td>0.0000</td>\n",
       "      <td>0.000000</td>\n",
       "    </tr>\n",
       "    <tr>\n",
       "      <th>994</th>\n",
       "      <td>99.4</td>\n",
       "      <td>0.000000</td>\n",
       "      <td>0.00000</td>\n",
       "      <td>0.0000</td>\n",
       "      <td>0.000000</td>\n",
       "    </tr>\n",
       "    <tr>\n",
       "      <th>995</th>\n",
       "      <td>99.5</td>\n",
       "      <td>0.000000</td>\n",
       "      <td>0.00000</td>\n",
       "      <td>0.0000</td>\n",
       "      <td>0.000000</td>\n",
       "    </tr>\n",
       "    <tr>\n",
       "      <th>996</th>\n",
       "      <td>99.6</td>\n",
       "      <td>0.000000</td>\n",
       "      <td>0.00000</td>\n",
       "      <td>0.0000</td>\n",
       "      <td>0.000000</td>\n",
       "    </tr>\n",
       "    <tr>\n",
       "      <th>997</th>\n",
       "      <td>99.7</td>\n",
       "      <td>0.000000</td>\n",
       "      <td>0.00000</td>\n",
       "      <td>0.0000</td>\n",
       "      <td>0.000000</td>\n",
       "    </tr>\n",
       "  </tbody>\n",
       "</table>\n",
       "<p>998 rows × 5 columns</p>\n",
       "</div>"
      ],
      "text/plain": [
       "     time  position  velocity  acceleration  kinetic_energy\n",
       "0     0.0  0.000000   0.99019       -0.0981        0.098048\n",
       "1     0.1  0.099019   0.98038       -0.0981        0.096114\n",
       "2     0.2  0.197057   0.97057       -0.0981        0.094201\n",
       "3     0.3  0.294114   0.96076       -0.0981        0.092306\n",
       "4     0.4  0.390190   0.95095       -0.0981        0.090431\n",
       "..    ...       ...       ...           ...             ...\n",
       "993  99.3  0.000000   0.00000        0.0000        0.000000\n",
       "994  99.4  0.000000   0.00000        0.0000        0.000000\n",
       "995  99.5  0.000000   0.00000        0.0000        0.000000\n",
       "996  99.6  0.000000   0.00000        0.0000        0.000000\n",
       "997  99.7  0.000000   0.00000        0.0000        0.000000\n",
       "\n",
       "[998 rows x 5 columns]"
      ]
     },
     "execution_count": 17,
     "metadata": {},
     "output_type": "execute_result"
    }
   ],
   "source": [
    "m = 0.2\n",
    "df['kinetic_energy'] = 0.5 * m * df['velocity']**2\n",
    "df"
   ]
  },
  {
   "cell_type": "markdown",
   "id": "a68a2ff1",
   "metadata": {},
   "source": [
    "Save this new dataframe as `projection_final.csv`"
   ]
  },
  {
   "cell_type": "code",
   "execution_count": 18,
   "id": "7648c170",
   "metadata": {},
   "outputs": [],
   "source": [
    "df.to_csv('projection_final.csv', index=False)"
   ]
  },
  {
   "cell_type": "code",
   "execution_count": null,
   "id": "72cc07c8",
   "metadata": {},
   "outputs": [],
   "source": []
  }
 ],
 "metadata": {
  "kernelspec": {
   "display_name": "testing_URs",
   "language": "python",
   "name": "testing_urs"
  },
  "language_info": {
   "codemirror_mode": {
    "name": "ipython",
    "version": 3
   },
   "file_extension": ".py",
   "mimetype": "text/x-python",
   "name": "python",
   "nbconvert_exporter": "python",
   "pygments_lexer": "ipython3",
   "version": "3.12.2"
  }
 },
 "nbformat": 4,
 "nbformat_minor": 5
}
