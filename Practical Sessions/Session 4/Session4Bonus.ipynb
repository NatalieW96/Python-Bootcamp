{
 "cells": [
  {
   "cell_type": "markdown",
   "id": "f484e4f4",
   "metadata": {},
   "source": [
    "# Practical Session 4 Bonus: Advanced Exercises"
   ]
  },
  {
   "cell_type": "markdown",
   "id": "35b52694",
   "metadata": {},
   "source": [
    "### 1. Minimum and maximum\n",
    "\n",
    "Ask the user to input numbers one at a time, pressing Enter to input each one. Each number should be checked that it is indeed a number or the used should be prompted to try again. It should keep asking for numbers until the user types `done`. \n",
    "Then using loops, track the minimum and maximum numbers entered and print them at the end.\n"
   ]
  },
  {
   "cell_type": "code",
   "execution_count": null,
   "id": "79f1ae30",
   "metadata": {},
   "outputs": [],
   "source": []
  },
  {
   "cell_type": "markdown",
   "id": "11c4cc01",
   "metadata": {},
   "source": [
    "### 2. Multiplication Grid\n",
    "\n",
    "Using nested `for` loops, print a 10x10 multiplation grid (use an empty `print()` to get a new line)"
   ]
  },
  {
   "cell_type": "code",
   "execution_count": null,
   "id": "52794631",
   "metadata": {},
   "outputs": [],
   "source": []
  },
  {
   "cell_type": "markdown",
   "id": "92347e90",
   "metadata": {},
   "source": [
    "### 3. Magic Square Checker\n",
    "\n",
    "Check if a 3x3 grid of numbers (nested lists) is a magic square (all rows, columns and diagonals sum up to the same number) and print the result.\n",
    "\n",
    "Check with\n",
    "\n",
    "```python\n",
    "grid = [\n",
    "    [8, 1, 6],\n",
    "    [3, 5, 7],\n",
    "    [4, 9, 2]\n",
    "]\n",
    "```\n"
   ]
  },
  {
   "cell_type": "code",
   "execution_count": null,
   "id": "32774969",
   "metadata": {},
   "outputs": [],
   "source": []
  },
  {
   "cell_type": "markdown",
   "id": "9c6c5492",
   "metadata": {},
   "source": [
    "### 4. Find the First Prime Number\n",
    "Loop through numbers 90 to 100, and print the first prime number you find. Use a nested loop to check for divisors, and use break and continue smartly to optimize."
   ]
  },
  {
   "cell_type": "code",
   "execution_count": null,
   "id": "ad19fbbc",
   "metadata": {},
   "outputs": [],
   "source": []
  },
  {
   "cell_type": "markdown",
   "id": "03512519",
   "metadata": {},
   "source": [
    "### 5. Number guessing game (again...)\n",
    "Take the code of your number guessing game from the last sheet, and adapt it so that the guesser only has a limited number of attempts."
   ]
  },
  {
   "cell_type": "code",
   "execution_count": null,
   "id": "063f762d",
   "metadata": {},
   "outputs": [],
   "source": []
  },
  {
   "cell_type": "markdown",
   "id": "55af3192",
   "metadata": {},
   "source": []
  }
 ],
 "metadata": {
  "kernelspec": {
   "display_name": "testing_URs",
   "language": "python",
   "name": "testing_urs"
  },
  "language_info": {
   "codemirror_mode": {
    "name": "ipython",
    "version": 3
   },
   "file_extension": ".py",
   "mimetype": "text/x-python",
   "name": "python",
   "nbconvert_exporter": "python",
   "pygments_lexer": "ipython3",
   "version": "3.12.2"
  }
 },
 "nbformat": 4,
 "nbformat_minor": 5
}
