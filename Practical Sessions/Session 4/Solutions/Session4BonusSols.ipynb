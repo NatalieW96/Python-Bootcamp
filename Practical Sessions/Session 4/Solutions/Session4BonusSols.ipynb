{
 "cells": [
  {
   "cell_type": "markdown",
   "id": "f484e4f4",
   "metadata": {},
   "source": [
    "# Practical Session 4 Bonus: Advanced Exercises"
   ]
  },
  {
   "cell_type": "markdown",
   "id": "35b52694",
   "metadata": {},
   "source": [
    "### 1. Minimum and maximum\n",
    "\n",
    "Ask the user to input numbers one at a time, pressing Enter to input each one. Each number should be checked that it is indeed a number or the used should be prompted to try again. It should keep asking for numbers until the user types `done`. \n",
    "Then using loops, track the minimum and maximum numbers entered and print them at the end.\n"
   ]
  },
  {
   "cell_type": "code",
   "execution_count": 1,
   "id": "79f1ae30",
   "metadata": {},
   "outputs": [
    {
     "name": "stdout",
     "output_type": "stream",
     "text": [
      "Enter numbers one at a time. Type 'done' to finish.\n",
      "Minimum number entered: 2.0\n",
      "Maximum number entered: 9.0\n"
     ]
    }
   ],
   "source": [
    "print(\"Enter numbers one at a time. Type 'done' to finish.\")\n",
    "\n",
    "# Get the first valid number to initialize min and max\n",
    "while True:\n",
    "    first_input = input(\"Enter the first number: \")\n",
    "    try:\n",
    "        min_num = max_num = float(first_input)\n",
    "        break\n",
    "    except ValueError:\n",
    "        print(\"Invalid input. Please enter a valid number.\")\n",
    "\n",
    "# Now continue asking for numbers until 'done'\n",
    "while True:\n",
    "    user_input = input(\"Enter another number (or 'done'): \")\n",
    "    if user_input.lower() == \"done\":\n",
    "        break\n",
    "    try:\n",
    "        num = float(user_input)\n",
    "        if num < min_num:\n",
    "            min_num = num\n",
    "        if num > max_num:\n",
    "            max_num = num\n",
    "    except ValueError:\n",
    "        print(\"Invalid input. Please enter a valid number.\")\n",
    "\n",
    "print(f\"Minimum number entered: {min_num}\")\n",
    "print(f\"Maximum number entered: {max_num}\")\n"
   ]
  },
  {
   "cell_type": "markdown",
   "id": "11c4cc01",
   "metadata": {},
   "source": [
    "### 2. Multiplication Grid\n",
    "\n",
    "Using nested `for` loops, print a 10x10 multiplation grid (use an empty `print()` to get a new line)"
   ]
  },
  {
   "cell_type": "code",
   "execution_count": 2,
   "id": "52794631",
   "metadata": {},
   "outputs": [
    {
     "name": "stdout",
     "output_type": "stream",
     "text": [
      "   1   2   3   4   5   6   7   8   9  10\n",
      "   2   4   6   8  10  12  14  16  18  20\n",
      "   3   6   9  12  15  18  21  24  27  30\n",
      "   4   8  12  16  20  24  28  32  36  40\n",
      "   5  10  15  20  25  30  35  40  45  50\n",
      "   6  12  18  24  30  36  42  48  54  60\n",
      "   7  14  21  28  35  42  49  56  63  70\n",
      "   8  16  24  32  40  48  56  64  72  80\n",
      "   9  18  27  36  45  54  63  72  81  90\n",
      "  10  20  30  40  50  60  70  80  90 100\n"
     ]
    }
   ],
   "source": [
    "for i in range(1, 11):          # Rows 1 to 10\n",
    "    for j in range(1, 11):      # Columns 1 to 10\n",
    "        print(f\"{i*j:4}\", end=\"\")  # Print product, padded for alignment\n",
    "    print()  # Newline after each row\n"
   ]
  },
  {
   "cell_type": "markdown",
   "id": "92347e90",
   "metadata": {},
   "source": [
    "### 3. Magic Square Checker\n",
    "\n",
    "Check if a 3x3 grid of numbers (nested lists) is a magic square (all rows, columns and diagonals sum up to the same number) and print the result.\n",
    "\n",
    "Check with\n",
    "\n",
    "```python\n",
    "grid = [\n",
    "    [8, 1, 6],\n",
    "    [3, 5, 7],\n",
    "    [4, 9, 2]\n",
    "]\n",
    "```\n"
   ]
  },
  {
   "cell_type": "code",
   "execution_count": 5,
   "id": "32774969",
   "metadata": {},
   "outputs": [
    {
     "name": "stdout",
     "output_type": "stream",
     "text": [
      "The grid is a magic square!\n"
     ]
    }
   ],
   "source": [
    "grid = [\n",
    "    [8, 1, 6],\n",
    "    [3, 5, 7],\n",
    "    [4, 9, 2]\n",
    "]\n",
    "\n",
    "target_sum = sum(grid[0])  # sum of first row\n",
    "\n",
    "# Check rows\n",
    "rows_equal = True\n",
    "for row in grid:\n",
    "    if sum(row) != target_sum:\n",
    "        rows_equal = False\n",
    "        break\n",
    "\n",
    "# Check columns\n",
    "cols_equal = True\n",
    "for col in range(3):\n",
    "    col_sum = 0\n",
    "    for row in range(3):\n",
    "        col_sum += grid[row][col]\n",
    "    if col_sum != target_sum:\n",
    "        cols_equal = False\n",
    "        break\n",
    "\n",
    "# Check diagonals\n",
    "diag1_sum = 0\n",
    "diag2_sum = 0\n",
    "for i in range(3):\n",
    "    diag1_sum += grid[i][i]\n",
    "    diag2_sum += grid[i][2 - i]\n",
    "\n",
    "# Final check\n",
    "if rows_equal and cols_equal and diag1_sum == target_sum and diag2_sum == target_sum:\n",
    "    print(\"The grid is a magic square!\")\n",
    "else:\n",
    "    print(\"The grid is NOT a magic square.\")\n"
   ]
  },
  {
   "cell_type": "markdown",
   "id": "9c6c5492",
   "metadata": {},
   "source": [
    "### 4. Find the First Prime Number\n",
    "Loop through numbers 90 to 100, and print the first prime number you find. Use a nested loop to check for divisors, and use break and continue smartly to optimize."
   ]
  },
  {
   "cell_type": "code",
   "execution_count": 18,
   "id": "ad19fbbc",
   "metadata": {},
   "outputs": [
    {
     "name": "stdout",
     "output_type": "stream",
     "text": [
      "The first prime number found is: 97\n"
     ]
    }
   ],
   "source": [
    "for num in range(90, 101):  # numbers from 2 to 100\n",
    "    is_prime = True\n",
    "    for divisor in range(2, num):\n",
    "        if num % divisor == 0:\n",
    "            is_prime = False\n",
    "            break  # not prime, stop checking divisors\n",
    "    if is_prime:\n",
    "        print(f\"The first prime number found is: {num}\")\n",
    "        break  # exit the outer loop since we found the first prime\n"
   ]
  },
  {
   "cell_type": "markdown",
   "id": "03512519",
   "metadata": {},
   "source": [
    "### 5. Number guessing game (again...)\n",
    "Take the code of your number guessing game from the last sheet, and adapt it so that the guesser only has a limited number of attempts."
   ]
  },
  {
   "cell_type": "code",
   "execution_count": 19,
   "id": "063f762d",
   "metadata": {},
   "outputs": [
    {
     "name": "stdout",
     "output_type": "stream",
     "text": [
      "Welcome to the number guessing game!\n",
      "I'm thinking of a number between 1 and 100...\n",
      "Too low! Try again.\n",
      "Too low! Try again.\n",
      "Too high! Try again.\n",
      "Too low! Try again.\n",
      "Too low! Try again.\n",
      "Sorry, you've used all 5 attempts. The number was 42.\n"
     ]
    }
   ],
   "source": [
    "secret_number = 42  # You can change this or generate randomly\n",
    "max_attempts = 5\n",
    "attempts = 0\n",
    "\n",
    "print(\"Welcome to the number guessing game!\")\n",
    "print(\"I'm thinking of a number between 1 and 100...\")\n",
    "\n",
    "while attempts < max_attempts:\n",
    "    try:\n",
    "        guess = int(input(\"Enter your guess: \"))\n",
    "    except:\n",
    "        print(\"Please enter a valid number.\")\n",
    "        continue\n",
    "    \n",
    "    attempts += 1\n",
    "    \n",
    "    if guess == secret_number:\n",
    "        print(f\"Congratulations! You guessed the number in {attempts} attempts.\")\n",
    "        break\n",
    "    elif guess < secret_number:\n",
    "        print(\"Too low! Try again.\")\n",
    "    else:\n",
    "        print(\"Too high! Try again.\")\n",
    "\n",
    "if attempts == max_attempts and guess != secret_number:\n",
    "    print(f\"Sorry, you've used all {max_attempts} attempts. The number was {secret_number}.\")\n"
   ]
  },
  {
   "cell_type": "markdown",
   "id": "55af3192",
   "metadata": {},
   "source": []
  }
 ],
 "metadata": {
  "kernelspec": {
   "display_name": "testing_URs",
   "language": "python",
   "name": "testing_urs"
  },
  "language_info": {
   "codemirror_mode": {
    "name": "ipython",
    "version": 3
   },
   "file_extension": ".py",
   "mimetype": "text/x-python",
   "name": "python",
   "nbconvert_exporter": "python",
   "pygments_lexer": "ipython3",
   "version": "3.12.2"
  }
 },
 "nbformat": 4,
 "nbformat_minor": 5
}
