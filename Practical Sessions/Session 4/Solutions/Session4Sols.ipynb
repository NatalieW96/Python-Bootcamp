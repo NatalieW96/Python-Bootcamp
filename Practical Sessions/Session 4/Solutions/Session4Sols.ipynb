{
 "cells": [
  {
   "cell_type": "markdown",
   "id": "55c06a6c",
   "metadata": {},
   "source": [
    "# Practical Session 4: Control Flow and Error Handling"
   ]
  },
  {
   "cell_type": "markdown",
   "id": "0b7ce31d",
   "metadata": {},
   "source": [
    "### 1. Basic control flow\n",
    "Using the variable `x`, write a series of `if`, `elif` and `else` statements to print:\n",
    "- `\"x is positive and even\"` if `x` is both positive and even\n",
    "- `\"x is positive but odd\"` if `x` is positive and odd\n",
    "- `\"x is zero\"` if `x` is zero\n",
    "- `\"x is negative\"` if x is negative\n",
    "\n",
    "Test your code with `x= 10` and `x= -5`\n"
   ]
  },
  {
   "cell_type": "code",
   "execution_count": 2,
   "id": "fd33d344",
   "metadata": {},
   "outputs": [
    {
     "name": "stdout",
     "output_type": "stream",
     "text": [
      "x is positive and even\n"
     ]
    }
   ],
   "source": [
    "x = 10\n",
    "\n",
    "if x > 0 and x % 2 == 0:\n",
    "    print(\"x is positive and even\")\n",
    "elif x > 0 and x % 2 != 0:\n",
    "    print(\"x is positive but odd\")\n",
    "elif x == 0:\n",
    "    print(\"x is zero\")\n",
    "else:\n",
    "    print(\"x is negative\")\n"
   ]
  },
  {
   "cell_type": "markdown",
   "id": "c19dae1d",
   "metadata": {},
   "source": [
    "Repeat the task above, but use a `for` loop to test this list of numbers:\n",
    "```python\n",
    "numbers = [15, -7, 0, 22, -3]\n",
    "```"
   ]
  },
  {
   "cell_type": "code",
   "execution_count": 4,
   "id": "753142e5",
   "metadata": {},
   "outputs": [
    {
     "name": "stdout",
     "output_type": "stream",
     "text": [
      "15 is positive but odd\n",
      "-7 is negative\n",
      "0 is zero\n",
      "22 is positive and even\n",
      "-3 is negative\n"
     ]
    }
   ],
   "source": [
    "numbers = [15, -7, 0, 22, -3]\n",
    "\n",
    "for x in numbers:\n",
    "    if x > 0 and x % 2 == 0:\n",
    "        print(f\"{x} is positive and even\")\n",
    "    elif x > 0 and x % 2 != 0:\n",
    "        print(f\"{x} is positive but odd\")\n",
    "    elif x == 0:\n",
    "        print(f\"{x} is zero\")\n",
    "    else:\n",
    "        print(f\"{x} is negative\")\n"
   ]
  },
  {
   "cell_type": "markdown",
   "id": "2905c9ee",
   "metadata": {},
   "source": [
    "### 2. Using `for` loops for calculations"
   ]
  },
  {
   "cell_type": "markdown",
   "id": "7e8101ac",
   "metadata": {},
   "source": [
    "You care given a list of masses and radii of planets:\n",
    "```python\n",
    "planet_masses = [5.97e24, 6.42e23, 1.9e27, 3.3e23, 8.7e25]  # in kg\n",
    "planet_radii = [6.371e6, 3.39e6, 6.99e7, 2.44e6, 2.53e7]     # in meters\n",
    "```\n",
    "\n",
    "Use a `for` loop with the help of `range()` and indexing to calculate the surface gravity of each planet $g =  \\frac{G M}{R^2}$. Within the loop, print the planet with its index, with it's mass, radius and surface gravity in an f-string. Count how many planets have a surface gravity greater than 9.8 $m/s^2$ and print the total number at the end."
   ]
  },
  {
   "cell_type": "code",
   "execution_count": 5,
   "id": "390b7cca",
   "metadata": {},
   "outputs": [
    {
     "name": "stdout",
     "output_type": "stream",
     "text": [
      "Planet 0: mass = 5.97e+24 kg, radius = 6.37e+06 m, surface gravity = 9.82 m/s²\n",
      "Planet 1: mass = 6.42e+23 kg, radius = 3.39e+06 m, surface gravity = 3.73 m/s²\n",
      "Planet 2: mass = 1.90e+27 kg, radius = 6.99e+07 m, surface gravity = 25.95 m/s²\n",
      "Planet 3: mass = 3.30e+23 kg, radius = 2.44e+06 m, surface gravity = 3.70 m/s²\n",
      "Planet 4: mass = 8.70e+25 kg, radius = 2.53e+07 m, surface gravity = 9.07 m/s²\n",
      "Number of planets with surface gravity greater than 9.8 m/s²: 2\n"
     ]
    }
   ],
   "source": [
    "planet_masses = [5.97e24, 6.42e23, 1.9e27, 3.3e23, 8.7e25]  # in kg\n",
    "planet_radii = [6.371e6, 3.39e6, 6.99e7, 2.44e6, 2.53e7]     # in meters\n",
    "\n",
    "G = 6.67430e-11  # gravitational constant in m^3 kg^-1 s^-2\n",
    "count_strong_gravity = 0\n",
    "\n",
    "for i in range(len(planet_masses)):\n",
    "    mass = planet_masses[i]\n",
    "    radius = planet_radii[i]\n",
    "    gravity = G * mass / radius**2\n",
    "\n",
    "    print(f\"Planet {i}: mass = {mass:.2e} kg, radius = {radius:.2e} m, surface gravity = {gravity:.2f} m/s²\")\n",
    "\n",
    "    if gravity > 9.8:\n",
    "        count_strong_gravity += 1\n",
    "\n",
    "print(f\"Number of planets with surface gravity greater than 9.8 m/s²: {count_strong_gravity}\")\n"
   ]
  },
  {
   "cell_type": "markdown",
   "id": "2328aac4",
   "metadata": {},
   "source": [
    "#### 3. Using `while` loops\n",
    "The Collatz conjecture is a famous (unsolved!) problem in mathematics.\n",
    "\n",
    "Pick any positive interger `n`\n",
    "- If `n` is even, divide it by 2\n",
    "- if `n` is odd, multiply it by 3 and add 1\n",
    "Repeat\n",
    "\n",
    "Eventually the number always reaches 1.\n",
    "\n",
    "Write a program that\n",
    "- Asks the user to input a positive integer\n",
    "- Applies the Collartz rules in a `while` loop\n",
    "- Prints each step of the sequence\n",
    "- Ends when the number reaches 1\n",
    "- At the end, print the number of steps it took"
   ]
  },
  {
   "cell_type": "code",
   "execution_count": 7,
   "id": "94715798",
   "metadata": {},
   "outputs": [
    {
     "name": "stdout",
     "output_type": "stream",
     "text": [
      "34132412\n",
      "17066206\n",
      "8533103\n",
      "25599310\n",
      "12799655\n",
      "38398966\n",
      "19199483\n",
      "57598450\n",
      "28799225\n",
      "86397676\n",
      "43198838\n",
      "21599419\n",
      "64798258\n",
      "32399129\n",
      "97197388\n",
      "48598694\n",
      "24299347\n",
      "72898042\n",
      "36449021\n",
      "109347064\n",
      "54673532\n",
      "27336766\n",
      "13668383\n",
      "41005150\n",
      "20502575\n",
      "61507726\n",
      "30753863\n",
      "92261590\n",
      "46130795\n",
      "138392386\n",
      "69196193\n",
      "207588580\n",
      "103794290\n",
      "51897145\n",
      "155691436\n",
      "77845718\n",
      "38922859\n",
      "116768578\n",
      "58384289\n",
      "175152868\n",
      "87576434\n",
      "43788217\n",
      "131364652\n",
      "65682326\n",
      "32841163\n",
      "98523490\n",
      "49261745\n",
      "147785236\n",
      "73892618\n",
      "36946309\n",
      "110838928\n",
      "55419464\n",
      "27709732\n",
      "13854866\n",
      "6927433\n",
      "20782300\n",
      "10391150\n",
      "5195575\n",
      "15586726\n",
      "7793363\n",
      "23380090\n",
      "11690045\n",
      "35070136\n",
      "17535068\n",
      "8767534\n",
      "4383767\n",
      "13151302\n",
      "6575651\n",
      "19726954\n",
      "9863477\n",
      "29590432\n",
      "14795216\n",
      "7397608\n",
      "3698804\n",
      "1849402\n",
      "924701\n",
      "2774104\n",
      "1387052\n",
      "693526\n",
      "346763\n",
      "1040290\n",
      "520145\n",
      "1560436\n",
      "780218\n",
      "390109\n",
      "1170328\n",
      "585164\n",
      "292582\n",
      "146291\n",
      "438874\n",
      "219437\n",
      "658312\n",
      "329156\n",
      "164578\n",
      "82289\n",
      "246868\n",
      "123434\n",
      "61717\n",
      "185152\n",
      "92576\n",
      "46288\n",
      "23144\n",
      "11572\n",
      "5786\n",
      "2893\n",
      "8680\n",
      "4340\n",
      "2170\n",
      "1085\n",
      "3256\n",
      "1628\n",
      "814\n",
      "407\n",
      "1222\n",
      "611\n",
      "1834\n",
      "917\n",
      "2752\n",
      "1376\n",
      "688\n",
      "344\n",
      "172\n",
      "86\n",
      "43\n",
      "130\n",
      "65\n",
      "196\n",
      "98\n",
      "49\n",
      "148\n",
      "74\n",
      "37\n",
      "112\n",
      "56\n",
      "28\n",
      "14\n",
      "7\n",
      "22\n",
      "11\n",
      "34\n",
      "17\n",
      "52\n",
      "26\n",
      "13\n",
      "40\n",
      "20\n",
      "10\n",
      "5\n",
      "16\n",
      "8\n",
      "4\n",
      "2\n",
      "1\n",
      "Sequence finished in 152 steps.\n"
     ]
    }
   ],
   "source": [
    "n = int(input(\"Enter a positive integer: \"))\n",
    "steps = 0\n",
    "\n",
    "while n != 1:\n",
    "    print(n)\n",
    "    if n % 2 == 0:\n",
    "        n = n // 2\n",
    "    else:\n",
    "        n = 3 * n + 1\n",
    "    steps += 1\n",
    "\n",
    "print(1)\n",
    "print(f\"Sequence finished in {steps} steps.\")\n"
   ]
  },
  {
   "cell_type": "markdown",
   "id": "b28f7eb9",
   "metadata": {},
   "source": [
    "### 4. Infinite `while` loops and error handling\n",
    "\n",
    "Make a number guessing game! Assign an integer value for a secret number between 0 and 100 and print\n",
    "```python\n",
    "print(\"Welcome to the number guessing game!\")\n",
    "print(\"I'm thinking of a number between 1 and 100...\")\n",
    "```\n",
    "Then with an infinite while loop which takes a guess from the user, and tells them if the number they guessed is too high or too low. If they get is right congratulate them and exit the loop! At the end print how many attempts it took them."
   ]
  },
  {
   "cell_type": "code",
   "execution_count": null,
   "id": "10b52634",
   "metadata": {},
   "outputs": [
    {
     "name": "stdout",
     "output_type": "stream",
     "text": [
      "Welcome to the number guessing game!\n",
      "I'm thinking of a number between 1 and 100...\n",
      "Too high!\n",
      "Too low!\n",
      "Too high!\n",
      "Too high!\n",
      "Too high!\n",
      "Too high!\n",
      "Too low!\n",
      "Too low!\n",
      "Too low!\n",
      "Please enter a valid integer.\n",
      "Please enter a valid integer.\n",
      "Congratulations! You guessed the number in 10 attempts.\n"
     ]
    }
   ],
   "source": [
    "secret_number = 42 \n",
    "\n",
    "print(\"Welcome to the number guessing game!\")\n",
    "print(\"I'm thinking of a number between 1 and 100...\")\n",
    "\n",
    "attempts = 0\n",
    "\n",
    "while True:\n",
    "    guess = int(input(\"Enter your guess: \"))\n",
    "    attempts += 1\n",
    "    if guess < secret_number:\n",
    "        print(\"Too low!\")\n",
    "    elif guess > secret_number:\n",
    "        print(\"Too high!\")\n",
    "    else:\n",
    "        print(f\"Congratulations! You guessed the number in {attempts} attempts.\")\n",
    "        break\n"
   ]
  },
  {
   "cell_type": "markdown",
   "id": "0c990178",
   "metadata": {},
   "source": [
    "Modify your code so that it includes exception handling, and will check if they user has indeed entered a number each time, prompting them to enter a number if they haven't entered a valid number."
   ]
  },
  {
   "cell_type": "code",
   "execution_count": 9,
   "id": "1dcab9b7",
   "metadata": {},
   "outputs": [
    {
     "name": "stdout",
     "output_type": "stream",
     "text": [
      "Welcome to the number guessing game!\n",
      "I'm thinking of a number between 1 and 100...\n",
      "Invalid input. Please enter a valid number.\n",
      "Too high!\n",
      "Too low!\n",
      "Congratulations! You guessed the number in 3 attempts.\n"
     ]
    }
   ],
   "source": [
    "secret_number = 42 \n",
    "\n",
    "print(\"Welcome to the number guessing game!\")\n",
    "print(\"I'm thinking of a number between 1 and 100...\")\n",
    "\n",
    "attempts = 0\n",
    "\n",
    "while True:\n",
    "    try:\n",
    "        guess = int(input(\"Enter your guess: \"))\n",
    "    except ValueError:\n",
    "        print(\"Invalid input. Please enter a valid number.\")\n",
    "        continue \n",
    "\n",
    "    attempts += 1\n",
    "\n",
    "    if guess < secret_number:\n",
    "        print(\"Too low!\")\n",
    "    elif guess > secret_number:\n",
    "        print(\"Too high!\")\n",
    "    else:\n",
    "        print(f\"Congratulations! You guessed the number in {attempts} attempts.\")\n",
    "        break"
   ]
  },
  {
   "cell_type": "markdown",
   "id": "e08ed4a6",
   "metadata": {},
   "source": [
    "### 5. Nested `for` loops and triangles"
   ]
  },
  {
   "cell_type": "markdown",
   "id": "954bc7e0",
   "metadata": {},
   "source": [
    "Use nested `for` loops to draw triangles of a given height `n`. You can use `print(\"*\", end\"\")` to make the print statement not start on the next line and `print()` to move to the next line. Firstly code a right sided triangle such as this for `n=4`\n",
    "```\n",
    "   *\n",
    "  **\n",
    " ***\n",
    "****\n",
    "```"
   ]
  },
  {
   "cell_type": "code",
   "execution_count": 11,
   "id": "6d06cb3a",
   "metadata": {},
   "outputs": [
    {
     "name": "stdout",
     "output_type": "stream",
     "text": [
      "   *\n",
      "  **\n",
      " ***\n",
      "****\n"
     ]
    }
   ],
   "source": [
    "n = 4\n",
    "\n",
    "for i in range(1, n + 1):\n",
    "    for j in range(n - i):\n",
    "        print(\" \", end=\"\")\n",
    "    for k in range(i):\n",
    "        print(\"*\", end=\"\")\n",
    "    print()\n"
   ]
  },
  {
   "cell_type": "markdown",
   "id": "cfe4755f",
   "metadata": {},
   "source": [
    "Then try a full pyramid (**Hint**: The number of `*` in each row is `2*i - 1`)\n",
    "```\n",
    "   *\n",
    "  ***\n",
    " *****\n",
    "*******\n",
    "```"
   ]
  },
  {
   "cell_type": "code",
   "execution_count": 12,
   "id": "a4378e7c",
   "metadata": {},
   "outputs": [
    {
     "name": "stdout",
     "output_type": "stream",
     "text": [
      "   *\n",
      "  ***\n",
      " *****\n",
      "*******\n"
     ]
    }
   ],
   "source": [
    "n = 4\n",
    "\n",
    "for i in range(1, n + 1):\n",
    "    for j in range(n - i):\n",
    "        print(\" \", end=\"\")\n",
    "    for k in range(2 * i - 1):\n",
    "        print(\"*\", end=\"\")\n",
    "    print()"
   ]
  },
  {
   "cell_type": "markdown",
   "id": "02908a50",
   "metadata": {},
   "source": [
    "Then try a hollow pyramid (You’ll need to check if `j == 0 or j == width - 1` to control when to print a space or `*`)\n",
    "```\n",
    "   *\n",
    "  * *\n",
    " *   *\n",
    "*******\n",
    "```"
   ]
  },
  {
   "cell_type": "code",
   "execution_count": 13,
   "id": "14ebd373",
   "metadata": {},
   "outputs": [
    {
     "name": "stdout",
     "output_type": "stream",
     "text": [
      "   *\n",
      "  * *\n",
      " *   *\n",
      "*******\n"
     ]
    }
   ],
   "source": [
    "n = 4\n",
    "\n",
    "for i in range(1, n + 1):\n",
    "    width = 2 * i - 1\n",
    "    # print leading spaces\n",
    "    for j in range(n - i):\n",
    "        print(\" \", end=\"\")\n",
    "    # print stars and spaces in the row\n",
    "    for j in range(width):\n",
    "        if i == n:  # last row, print all stars\n",
    "            print(\"*\", end=\"\")\n",
    "        else:\n",
    "            # print star at edges, space inside\n",
    "            if j == 0 or j == width - 1:\n",
    "                print(\"*\", end=\"\")\n",
    "            else:\n",
    "                print(\" \", end=\"\")\n",
    "    print()\n"
   ]
  },
  {
   "cell_type": "code",
   "execution_count": null,
   "id": "39af53e7",
   "metadata": {},
   "outputs": [],
   "source": []
  }
 ],
 "metadata": {
  "kernelspec": {
   "display_name": "testing_URs",
   "language": "python",
   "name": "testing_urs"
  },
  "language_info": {
   "codemirror_mode": {
    "name": "ipython",
    "version": 3
   },
   "file_extension": ".py",
   "mimetype": "text/x-python",
   "name": "python",
   "nbconvert_exporter": "python",
   "pygments_lexer": "ipython3",
   "version": "3.12.2"
  }
 },
 "nbformat": 4,
 "nbformat_minor": 5
}
