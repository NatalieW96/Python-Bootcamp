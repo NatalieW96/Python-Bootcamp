{
 "cells": [
  {
   "cell_type": "markdown",
   "id": "55c06a6c",
   "metadata": {},
   "source": [
    "# Practical Session 4: Control Flow and Error Handling"
   ]
  },
  {
   "cell_type": "markdown",
   "id": "0b7ce31d",
   "metadata": {},
   "source": [
    "### 1. Basic control flow\n",
    "Using the variable `x`, write a series of `if`, `elif` and `else` statements to print:\n",
    "- `\"x is positive and even\"` if `x` is both positive and even\n",
    "- `\"x is positive but odd\"` if `x` is positive and odd\n",
    "- `\"x is zero\"` if `x` is zero\n",
    "- `\"x is negative\"` if x is negative\n",
    "\n",
    "Test your code with `x= 10` and `x= -5`\n"
   ]
  },
  {
   "cell_type": "code",
   "execution_count": null,
   "id": "fd33d344",
   "metadata": {},
   "outputs": [],
   "source": []
  },
  {
   "cell_type": "markdown",
   "id": "c19dae1d",
   "metadata": {},
   "source": [
    "Repeat the task above, but use a `for` loop to test this list of numbers:\n",
    "```python\n",
    "numbers = [15, -7, 0, 22, -3]\n",
    "```"
   ]
  },
  {
   "cell_type": "code",
   "execution_count": null,
   "id": "753142e5",
   "metadata": {},
   "outputs": [],
   "source": []
  },
  {
   "cell_type": "markdown",
   "id": "2905c9ee",
   "metadata": {},
   "source": [
    "### 2. Using `for` loops for calculations"
   ]
  },
  {
   "cell_type": "markdown",
   "id": "7e8101ac",
   "metadata": {},
   "source": [
    "You care given a list of masses and radii of planets:\n",
    "```python\n",
    "planet_masses = [5.97e24, 6.42e23, 1.9e27, 3.3e23, 8.7e25]  # in kg\n",
    "planet_radii = [6.371e6, 3.39e6, 6.99e7, 2.44e6, 2.53e7]     # in meters\n",
    "```\n",
    "\n",
    "Use a `for` loop with the help of `range()` and indexing to calculate the surface gravity of each planet $g =  \\frac{G M}{R^2}$. Within the loop, print the planet with its index, with it's mass, radius and surface gravity in an f-string. Count how many planets have a surface gravity greater than 9.8 $m/s^2$ and print the total number at the end."
   ]
  },
  {
   "cell_type": "code",
   "execution_count": null,
   "id": "390b7cca",
   "metadata": {},
   "outputs": [],
   "source": []
  },
  {
   "cell_type": "markdown",
   "id": "2328aac4",
   "metadata": {},
   "source": [
    "#### 3. Using `while` loops\n",
    "The Collatz conjecture is a famous (unsolved!) problem in mathematics.\n",
    "\n",
    "Pick any positive interger `n`\n",
    "- If `n` is even, divide it by 2\n",
    "- if `n` is odd, multiply it by 3 and add 1\n",
    "Repeat\n",
    "\n",
    "Eventually the number always reaches 1.\n",
    "\n",
    "Write a program that\n",
    "- Asks the user to input a positive integer\n",
    "- Applies the Collartz rules in a `while` loop\n",
    "- Prints each step of the sequence\n",
    "- Ends when the number reaches 1\n",
    "- At the end, print the number of steps it took"
   ]
  },
  {
   "cell_type": "code",
   "execution_count": null,
   "id": "94715798",
   "metadata": {},
   "outputs": [],
   "source": [
    "\n"
   ]
  },
  {
   "cell_type": "markdown",
   "id": "b28f7eb9",
   "metadata": {},
   "source": [
    "### 4. Infinite `while` loops and error handling\n",
    "\n",
    "Make a number guessing game! Assign an integer value for a secret number between 0 and 100 and print\n",
    "```python\n",
    "print(\"Welcome to the number guessing game!\")\n",
    "print(\"I'm thinking of a number between 1 and 100...\")\n",
    "```\n",
    "Then with an infinite while loop which takes a guess from the user, and tells them if the number they guessed is too high or too low. If they get is right congratulate them and exit the loop! At the end print how many attempts it took them."
   ]
  },
  {
   "cell_type": "code",
   "execution_count": null,
   "id": "10b52634",
   "metadata": {},
   "outputs": [],
   "source": []
  },
  {
   "cell_type": "markdown",
   "id": "0c990178",
   "metadata": {},
   "source": [
    "Modify your code so that it includes exception handling, and will check if they user has indeed entered a number each time, prompting them to enter a number if they haven't entered a valid number."
   ]
  },
  {
   "cell_type": "code",
   "execution_count": null,
   "id": "1dcab9b7",
   "metadata": {},
   "outputs": [],
   "source": []
  },
  {
   "cell_type": "markdown",
   "id": "e08ed4a6",
   "metadata": {},
   "source": [
    "### 5. Nested `for` loops and triangles"
   ]
  },
  {
   "cell_type": "markdown",
   "id": "954bc7e0",
   "metadata": {},
   "source": [
    "Use nested `for` loops to draw triangles of a given height `n`. You can use `print(\"*\", end\"\")` to make the print statement not start on the next line and `print()` to move to the next line. Firstly code a right sided triangle such as this for `n=4`\n",
    "```\n",
    "   *\n",
    "  **\n",
    " ***\n",
    "****\n",
    "```"
   ]
  },
  {
   "cell_type": "code",
   "execution_count": null,
   "id": "6d06cb3a",
   "metadata": {},
   "outputs": [],
   "source": []
  },
  {
   "cell_type": "markdown",
   "id": "cfe4755f",
   "metadata": {},
   "source": [
    "Then try a full pyramid (**Hint**: The number of `*` in each row is `2*i - 1`)\n",
    "```\n",
    "   *\n",
    "  ***\n",
    " *****\n",
    "*******\n",
    "```"
   ]
  },
  {
   "cell_type": "code",
   "execution_count": null,
   "id": "a4378e7c",
   "metadata": {},
   "outputs": [],
   "source": []
  },
  {
   "cell_type": "markdown",
   "id": "02908a50",
   "metadata": {},
   "source": [
    "Then try a hollow pyramid (You’ll need to check if `j == 0 or j == width - 1` to control when to print a space or `*`)\n",
    "```\n",
    "   *\n",
    "  * *\n",
    " *   *\n",
    "*******\n",
    "```"
   ]
  },
  {
   "cell_type": "code",
   "execution_count": null,
   "id": "14ebd373",
   "metadata": {},
   "outputs": [],
   "source": [
    "\n"
   ]
  },
  {
   "cell_type": "code",
   "execution_count": null,
   "id": "39af53e7",
   "metadata": {},
   "outputs": [],
   "source": []
  }
 ],
 "metadata": {
  "kernelspec": {
   "display_name": "testing_URs",
   "language": "python",
   "name": "testing_urs"
  },
  "language_info": {
   "codemirror_mode": {
    "name": "ipython",
    "version": 3
   },
   "file_extension": ".py",
   "mimetype": "text/x-python",
   "name": "python",
   "nbconvert_exporter": "python",
   "pygments_lexer": "ipython3",
   "version": "3.12.2"
  }
 },
 "nbformat": 4,
 "nbformat_minor": 5
}
