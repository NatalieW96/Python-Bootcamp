{
 "cells": [
  {
   "cell_type": "markdown",
   "id": "51ac62b5",
   "metadata": {},
   "source": [
    "# Practical Session 9 Bonus: Parallelisation"
   ]
  },
  {
   "cell_type": "markdown",
   "id": "fe03ac75",
   "metadata": {},
   "source": [
    "### What is Parallel Computing?\n",
    "\n",
    "Many tasks involve performing the same kind of operation multiple times, often on independent data points. Parallel computing lets us run multiple computations simultaneously, using multiple CPU cores. This can dramatically speed up programs, especially for computationally expensive tasks.\n",
    "\n",
    "Python’s built-in `multiprocessing` module allows you to easily distribute work across multiple processes running in parallel.\n",
    "\n",
    "### Basic Concepts\n",
    "\n",
    "- Process: A separate instance of the Python interpreter running independently.\n",
    "\n",
    "- Pool: A collection of worker processes.\n",
    "\n",
    "- Task: A unit of work submitted to the pool to be executed by a worker.\n",
    "\n",
    "- Map: A method to apply a function to many inputs in parallel."
   ]
  },
  {
   "cell_type": "markdown",
   "id": "e1e4e035",
   "metadata": {},
   "source": [
    "### Example: Computing Squares\n",
    "\n",
    "Let's compare sequential vs parallel computation for computing square numbers"
   ]
  },
  {
   "cell_type": "code",
   "execution_count": 1,
   "id": "c5529e17",
   "metadata": {},
   "outputs": [
    {
     "name": "stdout",
     "output_type": "stream",
     "text": [
      "Sequential time: 1.00 seconds\n",
      "Parallel time: 0.32 seconds\n",
      "Results are the same: True\n"
     ]
    }
   ],
   "source": [
    "import time\n",
    "from multiprocessing import Pool\n",
    "\n",
    "def compute_square(x):\n",
    "    # Simulate expensive computation\n",
    "    import time\n",
    "    time.sleep(0.1)\n",
    "    return x * x\n",
    "\n",
    "numbers = list(range(10))\n",
    "\n",
    "# Sequential computation\n",
    "start = time.time()\n",
    "results_seq = [compute_square(x) for x in numbers]\n",
    "end = time.time()\n",
    "print(f\"Sequential time: {end - start:.2f} seconds\")\n",
    "\n",
    "# Parallel computation\n",
    "start = time.time()\n",
    "with Pool(4) as pool:  # Create a pool of 4 worker processes\n",
    "    results_par = pool.map(compute_square, numbers)\n",
    "end = time.time()\n",
    "print(f\"Parallel time: {end - start:.2f} seconds\")\n",
    "\n",
    "print(\"Results are the same:\", results_seq == results_par)\n"
   ]
  },
  {
   "cell_type": "markdown",
   "id": "f5bc0da2",
   "metadata": {},
   "source": [
    "#### How does this work?\n",
    "\n",
    "- The `Pool(4)` creates 4 worker processes.\n",
    "\n",
    "- `pool.map` splits the `numbers` list across workers.\n",
    "\n",
    "- Each worker runs `compute_square` independently.\n",
    "\n",
    "- Results are collected and returned in the same order as inputs."
   ]
  },
  {
   "cell_type": "markdown",
   "id": "4726687a",
   "metadata": {},
   "source": [
    "### Exercise: Parallel Integration of a Function\n",
    "\n",
    "Integrate the function $f(x) = \\sin(x^2)$ over multiple intervals in parallel. Write a function that takes a tuple `(a, b)` and computed the definite integral of $f(x)$ from $a$ to $b$ using `scipy.integrate.quad` such as\n",
    "```python\n",
    "def integrate_interval(interval):\n",
    "    a, b = interval\n",
    "    # Compute integral here\n",
    "    return result\n",
    "```\n",
    "The use multiprocessing to compute the integrals over intervals\n",
    "```python\n",
    "intervals = [(0, 1), (1, 2), (2, 3), (3, 4), (4, 5)]\n",
    "```"
   ]
  },
  {
   "cell_type": "markdown",
   "id": "98dd3296",
   "metadata": {},
   "source": []
  }
 ],
 "metadata": {
  "kernelspec": {
   "display_name": "testing_URs",
   "language": "python",
   "name": "testing_urs"
  },
  "language_info": {
   "codemirror_mode": {
    "name": "ipython",
    "version": 3
   },
   "file_extension": ".py",
   "mimetype": "text/x-python",
   "name": "python",
   "nbconvert_exporter": "python",
   "pygments_lexer": "ipython3",
   "version": "3.12.2"
  }
 },
 "nbformat": 4,
 "nbformat_minor": 5
}
