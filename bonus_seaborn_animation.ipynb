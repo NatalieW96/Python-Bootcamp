{
 "cells": [
  {
   "cell_type": "markdown",
   "id": "4ceb583c",
   "metadata": {},
   "source": [
    "# Bonus Exercise Sheet: Seaborn and Basic Animations\n",
    "This bonus sheet introduces two useful tools related to data visualization in Python:\n",
    "- [`seaborn`](https://seaborn.pydata.org/): A high-level interface for attractive statistical graphics.\n",
    "- Basic **animations** using `matplotlib.animation`.\n",
    "\n",
    "These tools were not covered in the main lecture but are extremely useful for data exploration and communicating dynamic patterns in data.\n",
    "---"
   ]
  },
  {
   "cell_type": "markdown",
   "id": "c384c79d",
   "metadata": {},
   "source": [
    "## Part 1: Introduction to Seaborn\n",
    "`seaborn` is a Python data visualization library based on matplotlib. It provides a high-level interface for drawing attractive and informative statistical graphics.\n",
    "\n",
    "We'll explore how to use seaborn to make plots more efficiently and with better aesthetics by default.\n"
   ]
  },
  {
   "cell_type": "code",
   "execution_count": null,
   "id": "a1322206",
   "metadata": {},
   "outputs": [],
   "source": [
    "import seaborn as sns\n",
    "import matplotlib.pyplot as plt\n",
    "import numpy as np\n",
    "import pandas as pd\n",
    "\n",
    "# Example dataset\n",
    "tips = sns.load_dataset(\"tips\")\n",
    "tips.head()"
   ]
  },
  {
   "cell_type": "markdown",
   "id": "4cca6589",
   "metadata": {},
   "source": [
    "### Task 1: Visualize the `tips` dataset\n",
    "Use seaborn to create a scatter plot showing the relationship between `total_bill` and `tip`, colored by `time` (Lunch/Dinner)."
   ]
  },
  {
   "cell_type": "code",
   "execution_count": null,
   "id": "784e5778",
   "metadata": {},
   "outputs": [],
   "source": [
    "# Your code here\n",
    "sns.scatterplot(data=tips, x=\"total_bill\", y=\"tip\", hue=\"time\")\n",
    "plt.title(\"Tip vs. Total Bill\")\n",
    "plt.show()"
   ]
  },
  {
   "cell_type": "markdown",
   "id": "72b7c165",
   "metadata": {},
   "source": [
    "### Task 2: Histogram with Seaborn\n",
    "Create a histogram of `total_bill` values. Use different colors for each `sex`.\n",
    "Set `kde=True` to add a kernel density estimate."
   ]
  },
  {
   "cell_type": "code",
   "execution_count": null,
   "id": "37687243",
   "metadata": {},
   "outputs": [],
   "source": [
    "# Your code here\n",
    "sns.histplot(data=tips, x=\"total_bill\", hue=\"sex\", kde=True)\n",
    "plt.title(\"Distribution of Total Bill by Gender\")\n",
    "plt.show()"
   ]
  },
  {
   "cell_type": "markdown",
   "id": "1512e130",
   "metadata": {},
   "source": [
    "### Task 3: Pairplot\n",
    "Use `sns.pairplot()` to explore pairwise relationships in the tips dataset.\n",
    "Color the points by the `smoker` variable."
   ]
  },
  {
   "cell_type": "code",
   "execution_count": null,
   "id": "10d47e7c",
   "metadata": {},
   "outputs": [],
   "source": [
    "# Your code here\n",
    "sns.pairplot(tips, hue=\"smoker\")"
   ]
  },
  {
   "cell_type": "markdown",
   "id": "57c9289b",
   "metadata": {},
   "source": [
    "---\n",
    "## Part 2: Basic Animations with `matplotlib`\n",
    "Animations are useful for showing dynamic data or processes that evolve over time.\n",
    "\n",
    "We'll use `matplotlib.animation.FuncAnimation` to create a simple animated sine wave."
   ]
  },
  {
   "cell_type": "code",
   "execution_count": null,
   "id": "fde48d36",
   "metadata": {},
   "outputs": [],
   "source": [
    "import matplotlib.pyplot as plt\n",
    "from matplotlib.animation import FuncAnimation\n",
    "from IPython.display import HTML\n",
    "import numpy as np"
   ]
  },
  {
   "cell_type": "markdown",
   "id": "dbf798d5",
   "metadata": {},
   "source": [
    "### Example: Animated Sine Wave"
   ]
  },
  {
   "cell_type": "code",
   "execution_count": null,
   "id": "1430804c",
   "metadata": {},
   "outputs": [],
   "source": [
    "fig, ax = plt.subplots()\n",
    "x = np.linspace(0, 2 * np.pi, 200)\n",
    "line, = ax.plot(x, np.sin(x))\n",
    "ax.set_ylim(-1.5, 1.5)\n",
    "\n",
    "def update(frame):\n",
    "    line.set_ydata(np.sin(x + frame / 10))\n",
    "    return line,\n",
    "\n",
    "ani = FuncAnimation(fig, update, frames=100, blit=True)\n",
    "HTML(ani.to_jshtml())"
   ]
  },
  {
   "cell_type": "markdown",
   "id": "73aa12b0",
   "metadata": {},
   "source": [
    "### Task 4: Create a Cosine Wave Animation\n",
    "Modify the code above to animate a cosine wave instead of a sine wave."
   ]
  },
  {
   "cell_type": "code",
   "execution_count": null,
   "id": "de0bd8e7",
   "metadata": {},
   "outputs": [],
   "source": [
    "# Your code here\n",
    "fig, ax = plt.subplots()\n",
    "x = np.linspace(0, 2 * np.pi, 200)\n",
    "line, = ax.plot(x, np.cos(x))\n",
    "ax.set_ylim(-1.5, 1.5)\n",
    "\n",
    "def update_cos(frame):\n",
    "    line.set_ydata(np.cos(x + frame / 10))\n",
    "    return line,\n",
    "\n",
    "ani_cos = FuncAnimation(fig, update_cos, frames=100, blit=True)\n",
    "HTML(ani_cos.to_jshtml())"
   ]
  }
 ],
 "metadata": {},
 "nbformat": 4,
 "nbformat_minor": 5
}
