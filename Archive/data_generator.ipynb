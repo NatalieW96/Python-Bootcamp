{
 "cells": [
  {
   "cell_type": "code",
   "execution_count": 4,
   "id": "c5800878",
   "metadata": {},
   "outputs": [],
   "source": [
    "import numpy as np\n",
    "\n",
    "# Time parameters\n",
    "t_total = 10.0          # total duration in seconds\n",
    "dt = 0.01               # time step\n",
    "t = np.arange(0, t_total, dt)\n",
    "\n",
    "# Physical parameters\n",
    "g = 9.81                # acceleration due to gravity (m/s^2)\n",
    "v0 = 10.0               # initial upward velocity (m/s)\n",
    "y0 = 0.0                # initial position (m)\n",
    "restitution = 0.8       # energy loss factor on bounce (0 < r < 1)\n",
    "\n",
    "# Initialize arrays\n",
    "y = np.zeros_like(t)\n",
    "v = v0\n",
    "y_pos = y0\n",
    "\n",
    "for i in range(1, len(t)):\n",
    "    # Velocity update\n",
    "    v -= g * dt\n",
    "    # Position update\n",
    "    y_pos += v * dt\n",
    "\n",
    "    # Bounce condition\n",
    "    if y_pos < 0:\n",
    "        y_pos = 0\n",
    "        v = -v * restitution  # reverse and reduce velocity\n",
    "\n",
    "    y[i] = y_pos\n",
    "\n",
    "# Save to CSV: two columns, time and position\n",
    "data =  y\n",
    "np.savetxt('projectile_data.csv', data, delimiter=',')\n",
    "\n"
   ]
  },
  {
   "cell_type": "code",
   "execution_count": 3,
   "id": "eadedaa6",
   "metadata": {},
   "outputs": [
    {
     "data": {
      "text/plain": [
       "0"
      ]
     },
     "execution_count": 3,
     "metadata": {},
     "output_type": "execute_result"
    }
   ],
   "source": [
    "np.argmax(f_observed)"
   ]
  },
  {
   "cell_type": "code",
   "execution_count": null,
   "id": "a0f33401",
   "metadata": {},
   "outputs": [],
   "source": []
  }
 ],
 "metadata": {
  "kernelspec": {
   "display_name": "testing_URs",
   "language": "python",
   "name": "testing_urs"
  },
  "language_info": {
   "codemirror_mode": {
    "name": "ipython",
    "version": 3
   },
   "file_extension": ".py",
   "mimetype": "text/x-python",
   "name": "python",
   "nbconvert_exporter": "python",
   "pygments_lexer": "ipython3",
   "version": "3.12.2"
  }
 },
 "nbformat": 4,
 "nbformat_minor": 5
}
