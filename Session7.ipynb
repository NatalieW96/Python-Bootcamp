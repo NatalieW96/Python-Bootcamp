{
 "cells": [
  {
   "cell_type": "markdown",
   "id": "4ccf7ef1",
   "metadata": {},
   "source": [
    "# Practical Session 7: `numpy`"
   ]
  },
  {
   "cell_type": "markdown",
   "id": "ab9514b7",
   "metadata": {},
   "source": [
    "### 1. Basic arrays\n",
    "\n",
    "Firstly import `numpy` using alais `np`, this only needs to be done *once* per notebook or Python script"
   ]
  },
  {
   "cell_type": "code",
   "execution_count": null,
   "id": "941935aa",
   "metadata": {
    "vscode": {
     "languageId": "plaintext"
    }
   },
   "outputs": [],
   "source": []
  },
  {
   "cell_type": "markdown",
   "id": "9900a460",
   "metadata": {},
   "source": [
    "Create arrays of various dimensions:\n",
    "\n",
    "- A scalar (0D)\n",
    "- A vector of 5 elements (1D)\n",
    "\n",
    "- A 3x4  2D array (matrix)\n",
    "\n",
    "- A 2x3x2 3D tensor\n",
    "\n",
    "Print the shape of each"
   ]
  },
  {
   "cell_type": "code",
   "execution_count": null,
   "id": "44f6ee6c",
   "metadata": {
    "vscode": {
     "languageId": "plaintext"
    }
   },
   "outputs": [],
   "source": []
  },
  {
   "cell_type": "markdown",
   "id": "799befdf",
   "metadata": {},
   "source": [
    "### 2. Creating arrays\n",
    "\n",
    "Create the following arrays:\n",
    "\n",
    "- A 6×6 array filled with zeros\n",
    "\n",
    "- A 2×5 array filled with the number 7\n",
    "\n",
    "- A linearly spaced 1D array from -1 to 1 with 9 elements\n",
    "\n",
    "- A 3×3 array with numbers from 0 to 8 using arange\n",
    "\n",
    "- A 1D array with values [1, 4, 9, 16, 25] generated using vectorised operations"
   ]
  },
  {
   "cell_type": "code",
   "execution_count": null,
   "id": "ab6c80be",
   "metadata": {
    "vscode": {
     "languageId": "plaintext"
    }
   },
   "outputs": [],
   "source": []
  },
  {
   "cell_type": "markdown",
   "id": "a1434144",
   "metadata": {},
   "source": [
    "Create a 4×4 array of random floats between 0 and 1. Then:\n",
    "\n",
    "- Multiply all values by 100 and round them\n",
    "\n",
    "- Set all values above 70 to 70"
   ]
  },
  {
   "cell_type": "code",
   "execution_count": null,
   "id": "77514707",
   "metadata": {
    "vscode": {
     "languageId": "plaintext"
    }
   },
   "outputs": [],
   "source": []
  },
  {
   "cell_type": "markdown",
   "id": "22378d79",
   "metadata": {},
   "source": [
    "### 3. Reshaping and Indexing\n",
    "\n",
    "You are given this flat array:\n",
    "\n",
    "```python\n",
    "arr = np.arange(24)\n",
    "```\n",
    "Reshape it to a 3×2×4 array"
   ]
  },
  {
   "cell_type": "code",
   "execution_count": null,
   "id": "dd1d702c",
   "metadata": {
    "vscode": {
     "languageId": "plaintext"
    }
   },
   "outputs": [],
   "source": []
  },
  {
   "cell_type": "markdown",
   "id": "6c823d27",
   "metadata": {},
   "source": [
    "Extract:\n",
    "\n",
    "- The 2nd block (index 1)\n",
    "\n",
    "- The last row of the first block\n",
    "\n",
    "- The element at position `[2, 1, 3]`\n",
    "\n"
   ]
  },
  {
   "cell_type": "code",
   "execution_count": null,
   "id": "f8b8f3f2",
   "metadata": {
    "vscode": {
     "languageId": "plaintext"
    }
   },
   "outputs": [],
   "source": []
  },
  {
   "cell_type": "markdown",
   "id": "ddb44124",
   "metadata": {},
   "source": [
    "Flatten the full array"
   ]
  },
  {
   "cell_type": "code",
   "execution_count": null,
   "id": "cffda96b",
   "metadata": {
    "vscode": {
     "languageId": "plaintext"
    }
   },
   "outputs": [],
   "source": []
  },
  {
   "cell_type": "markdown",
   "id": "2830443e",
   "metadata": {},
   "source": [
    "### 4. Efficiency\n",
    "\n",
    "Generate an array of 1000000 random numbers between 0 and 10. Each reading should then be adjusted by this set of rules:\n",
    "\n",
    "- If the value is less than 2, square it.\n",
    "\n",
    "- If it's between 2 and 8 (inclusive), take the square root.\n",
    "\n",
    "- If it's above 8, set it to 10.\n",
    "\n",
    "Use a loop to make these changes. Time how long this takes by\n",
    "```python\n",
    "import time\n",
    "t_start = time.time()\n",
    "\n",
    "# Put loop here\n",
    "\n",
    "t_end = time.time()\n",
    "\n",
    "print(f'This calculation took {t_end-t_start} seconds')\n",
    "```"
   ]
  },
  {
   "cell_type": "code",
   "execution_count": null,
   "id": "3c1bc0fc",
   "metadata": {
    "vscode": {
     "languageId": "plaintext"
    }
   },
   "outputs": [],
   "source": []
  },
  {
   "cell_type": "markdown",
   "id": "6a5405ec",
   "metadata": {},
   "source": [
    "Now use boolean masking and `numpy` vectorised operations (no loops!) to achieve the same result, and time it again. Confirm the results using both techniques are the same (or very close) using `np.allclose`."
   ]
  },
  {
   "cell_type": "markdown",
   "id": "116f8488",
   "metadata": {},
   "source": [
    "### 5. Statistics in arrays\n",
    "\n",
    "You have this data:\n",
    "\n",
    "```python\n",
    "data = np.array([[1.2, 3.5, 2.1],\n",
    "                 [4.4, 5.1, 0.5],\n",
    "                 [3.3, 3.3, 3.3]])\n",
    "\n",
    "```\n",
    "- Compute the mean and standard deviation of each row\n",
    "\n",
    "- Compute the column-wise sum\n",
    "\n",
    "- Identify the index of the maximum value in the whole array\n",
    "\n",
    "- Normalize each row to have a maximum of 1"
   ]
  },
  {
   "cell_type": "code",
   "execution_count": null,
   "id": "d1b1c984",
   "metadata": {
    "vscode": {
     "languageId": "plaintext"
    }
   },
   "outputs": [],
   "source": []
  },
  {
   "cell_type": "markdown",
   "id": "b869efec",
   "metadata": {},
   "source": [
    "### 6. Matrix Operations\n",
    "\n",
    "Let:\n",
    "\n",
    "```python\n",
    "A = np.array([[1, 2],\n",
    "              [3, 4]])\n",
    "\n",
    "B = np.array([[2, 0],\n",
    "              [1, 2]])\n",
    "```\n",
    "\n",
    "Compute:\n",
    "\n",
    "- A + B\n",
    "\n",
    "- A × B (matrix product)\n",
    "\n",
    "- Transpose of A\n",
    "\n",
    "- Inverse of B\n",
    "\n",
    "- Eigenvalues and eigenvectors of A\n",
    "\n",
    "- Norm of A"
   ]
  },
  {
   "cell_type": "code",
   "execution_count": null,
   "id": "bfe4f3dc",
   "metadata": {
    "vscode": {
     "languageId": "plaintext"
    }
   },
   "outputs": [],
   "source": []
  },
  {
   "cell_type": "markdown",
   "id": "a26fbec2",
   "metadata": {},
   "source": [
    "### 7. Estimating $\\pi$ using Monte Carlo integration\n",
    "\n",
    "Imagine a square with side length 2 centered at the origin. Inside it, there's a circle of radius 1, also centered at the origin.\n",
    "\n",
    "If you randomly throw $n$ darts at this square, the fraction that lands inside the circle $n_\\mathrm{circle}$ is roughly equal to the area of the circle $A_\\mathrm{circle}$ divided by the area of the square $A_\\mathrm{square}$:\n",
    "\n",
    "$$\n",
    "\\frac{n}{n_{\\mathrm{circle}}} = \\frac{A_\\mathrm{square}}{A_{\\mathrm{circle}}}\n",
    "$$\n",
    "\n",
    "With somem rearranging, we can therefore use this fraction to estimate $\\pi$.\n",
    "\n",
    "Task:\n",
    "\n",
    "- Generate n random points in the square `[-1,1] x [-1, 1]`\n",
    "\n",
    "- Count how many fall within the unit circle\n",
    "\n",
    "- Use the ratio to estimate $\\pi$"
   ]
  },
  {
   "cell_type": "code",
   "execution_count": null,
   "id": "71f8d2f4",
   "metadata": {
    "vscode": {
     "languageId": "plaintext"
    }
   },
   "outputs": [],
   "source": []
  },
  {
   "cell_type": "markdown",
   "id": "1c8c64ce",
   "metadata": {},
   "source": [
    "If not already, turn this code into a function `estimate_pi(n)`, and check the error between your estimation and the true value of $\\pi$ for $n = 10, 100, 1000, 10000, 100000, 1000000$"
   ]
  },
  {
   "cell_type": "code",
   "execution_count": null,
   "id": "44619db8",
   "metadata": {
    "vscode": {
     "languageId": "plaintext"
    }
   },
   "outputs": [],
   "source": []
  },
  {
   "cell_type": "markdown",
   "id": "2b3192df",
   "metadata": {},
   "source": [
    "### 8. Simulating Particle Collisions in 1D\n",
    "\n",
    "You have a stream of particles moving along a line. Each particle has a position and velocity.\n",
    "\n",
    "- Positions and velocities are stored in two NumPy arrays of length N.\n",
    "\n",
    "- At each timestep, particles move according to their velocity.\n",
    "\n",
    "- If two particles collide (positions become equal or cross), they exchange velocities.\n",
    "\n",
    "Initialize arrays for N=10 particles with random positions between 0 and 10 and velocities between -1 and 1.\n"
   ]
  },
  {
   "cell_type": "code",
   "execution_count": null,
   "id": "6197f0ee",
   "metadata": {
    "vscode": {
     "languageId": "plaintext"
    }
   },
   "outputs": [],
   "source": []
  },
  {
   "cell_type": "markdown",
   "id": "c46e463f",
   "metadata": {},
   "source": [
    "Write a loop that advances the system by 100 timesteps:\n",
    "\n",
    "- Update positions by adding velocity.\n",
    "\n",
    "- Check for collisions by comparing positions.\n",
    "\n",
    "- Swap velocities of colliding particles.\n",
    "\n",
    "After the loop, report the final positions and velocities.\n"
   ]
  },
  {
   "cell_type": "code",
   "execution_count": null,
   "id": "d9671be2",
   "metadata": {
    "vscode": {
     "languageId": "plaintext"
    }
   },
   "outputs": [],
   "source": []
  },
  {
   "cell_type": "markdown",
   "id": "e18df55b",
   "metadata": {},
   "source": [
    "### 9. Analysing Projectile Motion Data"
   ]
  },
  {
   "cell_type": "markdown",
   "id": "67c333df",
   "metadata": {},
   "source": [
    "You have experimental data from a projectile motion experiment: vertical position $y$ measured over time intervals of 0.1s in the data file `projectile_data.csv`.\n",
    "\n",
    "Firstly load the data from `projectile_data.csv` into a numpy array."
   ]
  },
  {
   "cell_type": "code",
   "execution_count": null,
   "id": "00adf60d",
   "metadata": {
    "vscode": {
     "languageId": "plaintext"
    }
   },
   "outputs": [],
   "source": []
  },
  {
   "cell_type": "markdown",
   "id": "0ecfe4ff",
   "metadata": {},
   "source": [
    "Create a time array for this data, where each time corresponds to the position in `projectile_data.csv`."
   ]
  },
  {
   "cell_type": "code",
   "execution_count": null,
   "id": "ccfe44fe",
   "metadata": {
    "vscode": {
     "languageId": "plaintext"
    }
   },
   "outputs": [],
   "source": []
  },
  {
   "cell_type": "markdown",
   "id": "201bf5a2",
   "metadata": {},
   "source": [
    "Calculate the velocity and acceleration at each time step using the finite difference method, i.e.\n",
    "$$\n",
    "v_i = \\frac{y_{i+1} - y_i}{t_{i+1} - t_i} \\\\\n",
    "\n",
    "a_i = \\frac{v_{i+1} - v_i}{t_{i+1} - t_i}\n",
    "$$\n",
    "Find the maximum height reached by the projectile, and the time the projectile hits the ground the first time after launch."
   ]
  },
  {
   "cell_type": "code",
   "execution_count": null,
   "id": "0cb29140",
   "metadata": {
    "vscode": {
     "languageId": "plaintext"
    }
   },
   "outputs": [],
   "source": []
  },
  {
   "cell_type": "markdown",
   "id": "6b0bcaa6",
   "metadata": {},
   "source": [
    "Save a new `numpy` array with columns for time, position, velocity and acceleration in the file `projectile_analysis.csv`"
   ]
  },
  {
   "cell_type": "code",
   "execution_count": null,
   "id": "b60254b9",
   "metadata": {
    "vscode": {
     "languageId": "plaintext"
    }
   },
   "outputs": [],
   "source": []
  }
 ],
 "metadata": {
  "language_info": {
   "name": "python"
  }
 },
 "nbformat": 4,
 "nbformat_minor": 5
}
